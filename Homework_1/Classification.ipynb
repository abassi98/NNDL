{
 "cells": [
  {
   "cell_type": "markdown",
   "id": "1e869ab8",
   "metadata": {},
   "source": [
    "# Classification"
   ]
  },
  {
   "cell_type": "code",
   "execution_count": 1,
   "id": "9de78412",
   "metadata": {},
   "outputs": [],
   "source": [
    "#!/usr/bin/env python3\n",
    "\n",
    "# Basic import\n",
    "import numpy as np\n",
    "import matplotlib.pyplot as plt\n",
    "\n",
    "# Pytorch import\n",
    "import torch\n",
    "import torch.nn as nn\n",
    "import torch.optim as optim\n",
    "from torch.utils.data import Dataset, DataLoader, random_split, ConcatDataset, Subset\n",
    "from torchvision import transforms, datasets\n",
    "import torch.nn.functional as F\n",
    "\n",
    "# Import models and training functions\n",
    "from models import ConvNet, FFNet\n",
    "from training import train_epochs, train_epochs_acc, kf_train_epochs\n",
    "from functions import my_accuracy\n",
    "\n",
    "# Import progress bars\n",
    "from tqdm import tqdm\n",
    "from tqdm.notebook import tqdm_notebook\n",
    "from time import sleep\n",
    "\n",
    "# Optuna\n",
    "import optuna\n",
    "from optuna.visualization import plot_parallel_coordinate, plot_param_importances, plot_contour\n",
    "\n",
    "\n",
    "#Import sys\n",
    "import sys\n",
    "\n",
    "\n",
    "\n"
   ]
  },
  {
   "cell_type": "markdown",
   "id": "410e9852",
   "metadata": {},
   "source": [
    "## Dataset and Dataloader"
   ]
  },
  {
   "cell_type": "code",
   "execution_count": 2,
   "id": "212ac27f",
   "metadata": {},
   "outputs": [],
   "source": [
    "### Dataset\n",
    "\n",
    "dataset = datasets.MNIST('MNIST', train = True, download = True,\n",
    "                             transform = transforms.Compose([\n",
    "                               transforms.ToTensor(),\n",
    "                                transforms.Normalize(0.0, 1.0, inplace=True)\n",
    "                             ]))\n",
    "\n",
    "test_data = datasets.MNIST('MNIST', train = False, download = True,\n",
    "                             transform=transforms.Compose([\n",
    "                               transforms.ToTensor(),\n",
    "                                 transforms.Normalize(0.0, 1.0, inplace=True)\n",
    "                             ]))\n",
    "\n",
    "# Divide data dataset in train dataset and val dataset\n",
    "train_data, val_data = torch.utils.data.random_split(dataset, [50000, 10000])"
   ]
  },
  {
   "cell_type": "code",
   "execution_count": 3,
   "id": "c58524de",
   "metadata": {},
   "outputs": [],
   "source": [
    "### Dataloaders\n",
    "batch_size = 128\n",
    "train_dataloader = DataLoader(train_data, batch_size = batch_size, shuffle = True, num_workers=0)\n",
    "val_dataloader = DataLoader(val_data, batch_size = batch_size, shuffle=True, num_workers=0)\n",
    "test_dataloader = DataLoader(test_data, batch_size = 1, shuffle=True, num_workers=0)"
   ]
  },
  {
   "cell_type": "code",
   "execution_count": 4,
   "id": "fb307ef1",
   "metadata": {},
   "outputs": [
    {
     "data": {
      "image/png": "[encoded data removed]",
      "text/plain": [
       "<Figure size 576x576 with 16 Axes>"
      ]
     },
     "metadata": {
      "needs_background": "light"
     },
     "output_type": "display_data"
    }
   ],
   "source": [
    "# Plot Mnist\n",
    "figure = plt.figure(figsize=(8, 8))\n",
    "cols, rows = 4,4\n",
    "\n",
    "\n",
    "for i in range(1,cols * rows+1):\n",
    "    sample_idx = torch.randint(len(train_data), size=(1,)).item()\n",
    "    img, label = train_data[sample_idx]\n",
    "    figure.add_subplot(rows, cols, i)\n",
    "    plt.axis(\"off\")\n",
    "    plt.imshow(img.squeeze(), cmap=\"gray\")\n",
    "plt.show()"
   ]
  },
  {
   "cell_type": "markdown",
   "id": "dfbc5e0f",
   "metadata": {},
   "source": [
    "## Training"
   ]
  },
  {
   "cell_type": "code",
   "execution_count": 5,
   "id": "4ab45f96",
   "metadata": {},
   "outputs": [
    {
     "name": "stdout",
     "output_type": "stream",
     "text": [
      "Training device: cpu\n"
     ]
    }
   ],
   "source": [
    "# Check if the GPU is available\n",
    "device = torch.device(\"cuda\") if torch.cuda.is_available() else torch.device(\"cpu\")\n",
    "print(f\"Training device: {device}\")"
   ]
  },
  {
   "cell_type": "markdown",
   "id": "d7da25ec",
   "metadata": {},
   "source": [
    "### Stocahstic Gradient Descent"
   ]
  },
  {
   "cell_type": "code",
   "execution_count": null,
   "id": "087ab65d",
   "metadata": {},
   "outputs": [],
   "source": [
    "# Define the networks\n",
    "filename = \"ConvNet_sgd.torch\"\n",
    "parameters = {\n",
    "    \"act\" : nn.ReLU, \n",
    "    \"drop_p\" : 0.1,\n",
    "}\n",
    "\n",
    "# Inizialize the network\n",
    "torch.manual_seed(0)\n",
    "net = ConvNet(parameters)\n",
    "net.to(device)"
   ]
  },
  {
   "cell_type": "code",
   "execution_count": null,
   "id": "723fff5a",
   "metadata": {},
   "outputs": [],
   "source": [
    "# Define the loss function\n",
    "loss_function = nn.CrossEntropyLoss()\n",
    "\n",
    "# Define the optimizer\n",
    "optimizer = optim.SGD(net.parameters(), lr = 0.01, momentum = 0.0, weight_decay = 0.0)\n",
    "\n",
    "# Training \n",
    "max_num_epochs = 20\n",
    "early_stopping = False\n",
    "train_loss_sgd, val_loss_sgd, accuracy_sgd = train_epochs_acc(net, device, train_dataloader, val_dataloader, test_dataloader, loss_function, optimizer, max_num_epochs, early_stopping = early_stopping)"
   ]
  },
  {
   "cell_type": "code",
   "execution_count": null,
   "id": "bed1ff0c",
   "metadata": {},
   "outputs": [],
   "source": [
    "### Plot losses\n",
    "fig = plt.figure(figsize=(12,8))\n",
    "ax1 = fig.add_subplot(121)\n",
    "ax1.semilogy(train_loss_sgd, label='Train loss')\n",
    "ax1.semilogy(val_loss_sgd, label='Validation loss')\n",
    "ax1.set_xlabel('Epoch')\n",
    "ax1.set_ylabel('Loss')\n",
    "ax1.grid()\n",
    "ax1.legend()\n",
    "\n",
    "ax2 = fig.add_subplot(122)\n",
    "ax2.semilogy(accuracy_sgd, label = \"Test accuracy\")\n",
    "ax2.set_xlabel(\"Epoch\")\n",
    "ax2.set_ylabel(\"Test accuracy (%)\")\n",
    "\n",
    "plt.tight_layout()\n",
    "plt.show()"
   ]
  },
  {
   "cell_type": "code",
   "execution_count": null,
   "id": "10404dc2",
   "metadata": {},
   "outputs": [],
   "source": [
    "### Save network parameters\n",
    "### Save the network state\n",
    "# The state dictionary includes all the parameters of the network\n",
    "net_dict = { \"state\" : net.state_dict(),\n",
    "            \"parameters\" : parameters}\n",
    "# Save the state dict to a file\n",
    "torch.save(net_dict,filename)\n"
   ]
  },
  {
   "cell_type": "markdown",
   "id": "064468bf",
   "metadata": {},
   "source": [
    "### SGD with momentum"
   ]
  },
  {
   "cell_type": "code",
   "execution_count": null,
   "id": "66a16e99",
   "metadata": {},
   "outputs": [],
   "source": [
    "# Define the networks\n",
    "filename = \"ConvNet_sgdmom.torch\"\n",
    "parameters = {\n",
    "    \"act\" : nn.ReLU, \n",
    "    \"drop_p\" : 0.1,\n",
    "}\n",
    "\n",
    "# Inizialize the network\n",
    "torch.manual_seed(0)\n",
    "net = ConvNet(parameters)\n",
    "net.to(device)"
   ]
  },
  {
   "cell_type": "code",
   "execution_count": null,
   "id": "b8017ea0",
   "metadata": {},
   "outputs": [],
   "source": [
    "# Define the loss function\n",
    "loss_function = nn.CrossEntropyLoss()\n",
    "\n",
    "# Define the optimizer\n",
    "optimizer = optim.SGD(net.parameters(), lr = 0.01, momentum = 0.9, weight_decay = 0.0)\n",
    "\n",
    "# Training \n",
    "max_num_epochs = 20\n",
    "early_stopping = False\n",
    "train_loss_sgdmom, val_loss_sgdmom, accuracy_sgdmom = train_epochs_acc(net, device, train_dataloader, val_dataloader, test_dataloader, loss_function, optimizer, max_num_epochs, early_stopping = early_stopping)\n"
   ]
  },
  {
   "cell_type": "code",
   "execution_count": null,
   "id": "c61ece28",
   "metadata": {},
   "outputs": [],
   "source": [
    "### Plot losses\n",
    "fig = plt.figure(figsize=(12,8))\n",
    "ax1 = fig.add_subplot(121)\n",
    "ax1.semilogy(train_loss_sgdmom, label='Train loss')\n",
    "ax1.semilogy(val_loss_sgdmom, label='Validation loss')\n",
    "ax1.set_xlabel('Epoch')\n",
    "ax1.set_ylabel('Loss')\n",
    "ax1.grid()\n",
    "ax1.legend()\n",
    "\n",
    "ax2 = fig.add_subplot(122)\n",
    "ax2.semilogy(accuracy_sgdmom, label = \"Test accuracy\")\n",
    "ax2.set_xlabel(\"Epoch\")\n",
    "ax2.set_ylabel(\"Test accuracy (%)\")\n",
    "\n",
    "plt.tight_layout()\n",
    "plt.show()"
   ]
  },
  {
   "cell_type": "code",
   "execution_count": null,
   "id": "328318bc",
   "metadata": {},
   "outputs": [],
   "source": [
    "### Save network parameters\n",
    "### Save the network state\n",
    "# The state dictionary includes all the parameters of the network\n",
    "net_dict = { \"state\" : net.state_dict(),\n",
    "            \"parameters\" : parameters}\n",
    "# Save the state dict to a file\n",
    "torch.save(net_dict,filename)\n"
   ]
  },
  {
   "cell_type": "markdown",
   "id": "a523a998",
   "metadata": {},
   "source": [
    "### RMSprop"
   ]
  },
  {
   "cell_type": "code",
   "execution_count": null,
   "id": "f496ff67",
   "metadata": {},
   "outputs": [],
   "source": [
    "# Define the networks\n",
    "filename = \"ConvNet_rmsprop.torch\"\n",
    "parameters = {\n",
    "    \"act\" : nn.ReLU, \n",
    "    \"drop_p\" : 0.1,\n",
    "}\n",
    "\n",
    "# Inizialize the network\n",
    "torch.manual_seed(0)\n",
    "net = ConvNet(parameters)\n",
    "net.to(device)"
   ]
  },
  {
   "cell_type": "code",
   "execution_count": null,
   "id": "7ffeee42",
   "metadata": {},
   "outputs": [],
   "source": [
    "# Define the loss function\n",
    "loss_function = nn.CrossEntropyLoss()\n",
    "\n",
    "# Define the optimizer\n",
    "optimizer = optim.RMSprop(net.parameters(), lr = 0.01, momentum = 0.0, weight_decay = 0.0)\n",
    "\n",
    "# Training \n",
    "max_num_epochs = 20\n",
    "early_stopping = False\n",
    "train_loss_rmsprop, val_loss_rmsprop, accuracy_rmsprop = train_epochs_acc(net, device, train_dataloader, val_dataloader, test_dataloader, loss_function, optimizer, max_num_epochs, early_stopping = early_stopping)"
   ]
  },
  {
   "cell_type": "code",
   "execution_count": null,
   "id": "aa50ded5",
   "metadata": {},
   "outputs": [],
   "source": [
    "### Plot losses\n",
    "fig = plt.figure(figsize=(12,8))\n",
    "ax1 = fig.add_subplot(121)\n",
    "ax1.semilogy(train_loss_rmsprop, label='Train loss')\n",
    "ax1.semilogy(val_loss_rmsprop, label='Validation loss')\n",
    "ax1.set_xlabel('Epoch')\n",
    "ax1.set_ylabel('Loss')\n",
    "ax1.grid()\n",
    "ax1.legend()\n",
    "\n",
    "ax2 = fig.add_subplot(122)\n",
    "ax2.semilogy(accuracy_rmsprop, label = \"Test accuracy\")\n",
    "ax2.set_xlabel(\"Epoch\")\n",
    "ax2.set_ylabel(\"Test accuracy (%)\")\n",
    "\n",
    "plt.tight_layout()\n",
    "plt.show()"
   ]
  },
  {
   "cell_type": "code",
   "execution_count": null,
   "id": "30ea6fe3",
   "metadata": {},
   "outputs": [],
   "source": [
    "### Save network parameters\n",
    "### Save the network state\n",
    "# The state dictionary includes all the parameters of the network\n",
    "net_dict = { \"state\" : net.state_dict(),\n",
    "            \"parameters\" : parameters}\n",
    "# Save the state dict to a file\n",
    "torch.save(net_dict,filename)\n"
   ]
  },
  {
   "cell_type": "markdown",
   "id": "dff9d991",
   "metadata": {},
   "source": [
    "### Adam"
   ]
  },
  {
   "cell_type": "code",
   "execution_count": 6,
   "id": "50624fa5",
   "metadata": {},
   "outputs": [
    {
     "name": "stdout",
     "output_type": "stream",
     "text": [
      "Network initialized\n"
     ]
    },
    {
     "data": {
      "text/plain": [
       "ConvNet(\n",
       "  (cnn): Sequential(\n",
       "    (0): Conv2d(1, 16, kernel_size=(5, 5), stride=(1, 1))\n",
       "    (1): BatchNorm2d(16, eps=1e-05, momentum=0.1, affine=True, track_running_stats=True)\n",
       "    (2): ReLU(inplace=True)\n",
       "    (3): Dropout(p=0.1, inplace=False)\n",
       "    (4): MaxPool2d(kernel_size=2, stride=2, padding=0, dilation=1, ceil_mode=False)\n",
       "    (5): Conv2d(16, 32, kernel_size=(5, 5), stride=(1, 1))\n",
       "    (6): BatchNorm2d(32, eps=1e-05, momentum=0.1, affine=True, track_running_stats=True)\n",
       "    (7): ReLU(inplace=True)\n",
       "    (8): Dropout(p=0.1, inplace=False)\n",
       "    (9): MaxPool2d(kernel_size=2, stride=2, padding=0, dilation=1, ceil_mode=False)\n",
       "  )\n",
       "  (lin): Sequential(\n",
       "    (0): Linear(in_features=512, out_features=128, bias=True)\n",
       "    (1): BatchNorm1d(128, eps=1e-05, momentum=0.1, affine=True, track_running_stats=True)\n",
       "    (2): ReLU(inplace=True)\n",
       "    (3): Dropout(p=0.1, inplace=False)\n",
       "    (4): Linear(in_features=128, out_features=10, bias=True)\n",
       "  )\n",
       ")"
      ]
     },
     "execution_count": 6,
     "metadata": {},
     "output_type": "execute_result"
    }
   ],
   "source": [
    "# Define the network\n",
    "filename = \"ConvNet_adam.torch\"\n",
    "parameters = {\n",
    "    \"act\" : nn.ReLU, \n",
    "    \"drop_p\" : 0.1,\n",
    "}\n",
    "\n",
    "# Inizialize the network\n",
    "torch.manual_seed(0)\n",
    "net = ConvNet(parameters)\n",
    "net.to(device)"
   ]
  },
  {
   "cell_type": "code",
   "execution_count": 7,
   "id": "a8d51f8d",
   "metadata": {},
   "outputs": [
    {
     "data": {
      "application/vnd.jupyter.widget-view+json": {
       "model_id": "f14c4df500ba4c058f6f5e31539a1568",
       "version_major": 2,
       "version_minor": 0
      },
      "text/plain": [
       "  0%|          | 0/20 [00:00<?, ?it/s]"
      ]
     },
     "metadata": {},
     "output_type": "display_data"
    },
    {
     "ename": "ValueError",
     "evalue": "Training stopped at epoch 11 to avoid overfitting.",
     "output_type": "error",
     "traceback": [
      "\u001b[0;31m---------------------------------------------------------------------------\u001b[0m",
      "\u001b[0;31mValueError\u001b[0m                                Traceback (most recent call last)",
      "\u001b[0;32m<ipython-input-7-17ce07677064>\u001b[0m in \u001b[0;36m<module>\u001b[0;34m\u001b[0m\n\u001b[1;32m      8\u001b[0m \u001b[0mmax_num_epochs\u001b[0m \u001b[0;34m=\u001b[0m \u001b[0;36m20\u001b[0m\u001b[0;34m\u001b[0m\u001b[0;34m\u001b[0m\u001b[0m\n\u001b[1;32m      9\u001b[0m \u001b[0mearly_stopping\u001b[0m \u001b[0;34m=\u001b[0m \u001b[0;32mTrue\u001b[0m\u001b[0;34m\u001b[0m\u001b[0;34m\u001b[0m\u001b[0m\n\u001b[0;32m---> 10\u001b[0;31m \u001b[0mtrain_loss_adam\u001b[0m\u001b[0;34m,\u001b[0m \u001b[0mval_loss_adam\u001b[0m\u001b[0;34m,\u001b[0m \u001b[0maccuracy_adam\u001b[0m \u001b[0;34m=\u001b[0m \u001b[0mtrain_epochs_acc\u001b[0m\u001b[0;34m(\u001b[0m\u001b[0mnet\u001b[0m\u001b[0;34m,\u001b[0m \u001b[0mdevice\u001b[0m\u001b[0;34m,\u001b[0m \u001b[0mtrain_dataloader\u001b[0m\u001b[0;34m,\u001b[0m \u001b[0mval_dataloader\u001b[0m\u001b[0;34m,\u001b[0m \u001b[0mtest_dataloader\u001b[0m\u001b[0;34m,\u001b[0m \u001b[0mloss_function\u001b[0m\u001b[0;34m,\u001b[0m \u001b[0moptimizer\u001b[0m\u001b[0;34m,\u001b[0m \u001b[0mmax_num_epochs\u001b[0m\u001b[0;34m,\u001b[0m \u001b[0mearly_stopping\u001b[0m \u001b[0;34m=\u001b[0m \u001b[0mearly_stopping\u001b[0m\u001b[0;34m)\u001b[0m\u001b[0;34m\u001b[0m\u001b[0;34m\u001b[0m\u001b[0m\n\u001b[0m",
      "\u001b[0;32m~/Documents/Deep Learning/NNDL/Homework_1/training.py\u001b[0m in \u001b[0;36mtrain_epochs_acc\u001b[0;34m(net, device, train_dataloader, val_dataloader, test_dataloader, loss_function, optimizer, max_num_epochs, early_stopping)\u001b[0m\n\u001b[1;32m    162\u001b[0m         \u001b[0;32mif\u001b[0m \u001b[0mearly_stopping\u001b[0m\u001b[0;34m:\u001b[0m\u001b[0;34m\u001b[0m\u001b[0;34m\u001b[0m\u001b[0m\n\u001b[1;32m    163\u001b[0m             \u001b[0;32mif\u001b[0m \u001b[0mnp\u001b[0m\u001b[0;34m.\u001b[0m\u001b[0mmean\u001b[0m\u001b[0;34m(\u001b[0m\u001b[0mval_loss_log\u001b[0m\u001b[0;34m[\u001b[0m\u001b[0;34m-\u001b[0m\u001b[0;36m10\u001b[0m\u001b[0;34m:\u001b[0m\u001b[0;34m]\u001b[0m\u001b[0;34m)\u001b[0m \u001b[0;34m<\u001b[0m \u001b[0mval_loss_log\u001b[0m\u001b[0;34m[\u001b[0m\u001b[0;34m-\u001b[0m\u001b[0;36m1\u001b[0m\u001b[0;34m]\u001b[0m\u001b[0;34m:\u001b[0m\u001b[0;34m\u001b[0m\u001b[0;34m\u001b[0m\u001b[0m\n\u001b[0;32m--> 164\u001b[0;31m                 \u001b[0;32mraise\u001b[0m \u001b[0mValueError\u001b[0m\u001b[0;34m(\u001b[0m\u001b[0;34m\"Training stopped at epoch \"\u001b[0m\u001b[0;34m+\u001b[0m\u001b[0mstr\u001b[0m\u001b[0;34m(\u001b[0m\u001b[0mepoch_num\u001b[0m\u001b[0;34m)\u001b[0m\u001b[0;34m+\u001b[0m\u001b[0;34m\" to avoid overfitting.\"\u001b[0m\u001b[0;34m)\u001b[0m\u001b[0;34m\u001b[0m\u001b[0;34m\u001b[0m\u001b[0m\n\u001b[0m\u001b[1;32m    165\u001b[0m                 \u001b[0;32mbreak\u001b[0m\u001b[0;34m\u001b[0m\u001b[0;34m\u001b[0m\u001b[0m\n\u001b[1;32m    166\u001b[0m \u001b[0;34m\u001b[0m\u001b[0m\n",
      "\u001b[0;31mValueError\u001b[0m: Training stopped at epoch 11 to avoid overfitting."
     ]
    }
   ],
   "source": [
    "# Define the loss function\n",
    "loss_function = nn.CrossEntropyLoss()\n",
    "\n",
    "# Define the optimizer\n",
    "optimizer = optim.Adam(net.parameters(), lr = 0.001, weight_decay = 0.0)\n",
    "\n",
    "# Training \n",
    "max_num_epochs = 20\n",
    "early_stopping = True\n",
    "train_loss_adam, val_loss_adam, accuracy_adam = train_epochs_acc(net, device, train_dataloader, val_dataloader, test_dataloader, loss_function, optimizer, max_num_epochs, early_stopping = early_stopping)\n"
   ]
  },
  {
   "cell_type": "code",
   "execution_count": 8,
   "id": "1b03b1ab",
   "metadata": {},
   "outputs": [
    {
     "ename": "NameError",
     "evalue": "name 'train_loss_adam' is not defined",
     "output_type": "error",
     "traceback": [
      "\u001b[0;31m---------------------------------------------------------------------------\u001b[0m",
      "\u001b[0;31mNameError\u001b[0m                                 Traceback (most recent call last)",
      "\u001b[0;32m<ipython-input-8-986976d641ce>\u001b[0m in \u001b[0;36m<module>\u001b[0;34m\u001b[0m\n\u001b[1;32m      2\u001b[0m \u001b[0mfig\u001b[0m \u001b[0;34m=\u001b[0m \u001b[0mplt\u001b[0m\u001b[0;34m.\u001b[0m\u001b[0mfigure\u001b[0m\u001b[0;34m(\u001b[0m\u001b[0mfigsize\u001b[0m\u001b[0;34m=\u001b[0m\u001b[0;34m(\u001b[0m\u001b[0;36m12\u001b[0m\u001b[0;34m,\u001b[0m\u001b[0;36m8\u001b[0m\u001b[0;34m)\u001b[0m\u001b[0;34m)\u001b[0m\u001b[0;34m\u001b[0m\u001b[0;34m\u001b[0m\u001b[0m\n\u001b[1;32m      3\u001b[0m \u001b[0max1\u001b[0m \u001b[0;34m=\u001b[0m \u001b[0mfig\u001b[0m\u001b[0;34m.\u001b[0m\u001b[0madd_subplot\u001b[0m\u001b[0;34m(\u001b[0m\u001b[0;36m121\u001b[0m\u001b[0;34m)\u001b[0m\u001b[0;34m\u001b[0m\u001b[0;34m\u001b[0m\u001b[0m\n\u001b[0;32m----> 4\u001b[0;31m \u001b[0max1\u001b[0m\u001b[0;34m.\u001b[0m\u001b[0msemilogy\u001b[0m\u001b[0;34m(\u001b[0m\u001b[0mtrain_loss_adam\u001b[0m\u001b[0;34m,\u001b[0m \u001b[0mlabel\u001b[0m\u001b[0;34m=\u001b[0m\u001b[0;34m'Train loss'\u001b[0m\u001b[0;34m)\u001b[0m\u001b[0;34m\u001b[0m\u001b[0;34m\u001b[0m\u001b[0m\n\u001b[0m\u001b[1;32m      5\u001b[0m \u001b[0max1\u001b[0m\u001b[0;34m.\u001b[0m\u001b[0msemilogy\u001b[0m\u001b[0;34m(\u001b[0m\u001b[0mval_loss_adam\u001b[0m\u001b[0;34m,\u001b[0m \u001b[0mlabel\u001b[0m\u001b[0;34m=\u001b[0m\u001b[0;34m'Validation loss'\u001b[0m\u001b[0;34m)\u001b[0m\u001b[0;34m\u001b[0m\u001b[0;34m\u001b[0m\u001b[0m\n\u001b[1;32m      6\u001b[0m \u001b[0max1\u001b[0m\u001b[0;34m.\u001b[0m\u001b[0mset_xlabel\u001b[0m\u001b[0;34m(\u001b[0m\u001b[0;34m'Epoch'\u001b[0m\u001b[0;34m)\u001b[0m\u001b[0;34m\u001b[0m\u001b[0;34m\u001b[0m\u001b[0m\n",
      "\u001b[0;31mNameError\u001b[0m: name 'train_loss_adam' is not defined"
     ]
    },
    {
     "data": {
      "image/png": "[encoded data removed]",
      "text/plain": [
       "<Figure size 864x576 with 1 Axes>"
      ]
     },
     "metadata": {
      "needs_background": "light"
     },
     "output_type": "display_data"
    }
   ],
   "source": [
    "### Plot losses\n",
    "fig = plt.figure(figsize=(12,8))\n",
    "ax1 = fig.add_subplot(121)\n",
    "ax1.semilogy(train_loss_adam, label='Train loss')\n",
    "ax1.semilogy(val_loss_adam, label='Validation loss')\n",
    "ax1.set_xlabel('Epoch')\n",
    "ax1.set_ylabel('Loss')\n",
    "ax1.grid()\n",
    "ax1.legend()\n",
    "\n",
    "ax2 = fig.add_subplot(122)\n",
    "ax2.semilogy(accuracy_adam, label = \"Test accuracy\")\n",
    "ax2.set_xlabel(\"Epoch\")\n",
    "ax2.set_ylabel(\"Test accuracy (%)\")\n",
    "\n",
    "plt.tight_layout()\n",
    "plt.show()"
   ]
  },
  {
   "cell_type": "code",
   "execution_count": null,
   "id": "19df8aa0",
   "metadata": {},
   "outputs": [],
   "source": [
    "### Save network parameters\n",
    "### Save the network state\n",
    "# The state dictionary includes all the parameters of the network\n",
    "net_dict = { \"state\" : net.state_dict(),\n",
    "            \"parameters\" : parameters}\n",
    "# Save the state dict to a file\n",
    "torch.save(net_dict,filename)\n"
   ]
  },
  {
   "cell_type": "markdown",
   "id": "48373e29",
   "metadata": {},
   "source": [
    "### Adam with L2 regularization"
   ]
  },
  {
   "cell_type": "code",
   "execution_count": null,
   "id": "2e3d1bb4",
   "metadata": {},
   "outputs": [],
   "source": [
    "# Define the network\n",
    "filename = \"ConvNet_adamL2.torch\"\n",
    "parameters = {\n",
    "    \"act\" : nn.ReLU, \n",
    "    \"drop_p\" : 0.1,\n",
    "}\n",
    "\n",
    "# Inizialize the network\n",
    "torch.manual_seed(0)\n",
    "net = ConvNet(parameters)\n",
    "net.to(device)"
   ]
  },
  {
   "cell_type": "code",
   "execution_count": null,
   "id": "b4e7875d",
   "metadata": {},
   "outputs": [],
   "source": [
    "# Define the loss function\n",
    "loss_function = nn.CrossEntropyLoss()\n",
    "\n",
    "# Define the optimizer\n",
    "optimizer = optim.Adam(net.parameters(), lr = 0.001, weight_decay = 0.1)\n",
    "\n",
    "# Training \n",
    "max_num_epochs = 20\n",
    "early_stopping = False\n",
    "train_loss_adamL2, val_loss_adamL2, accuracy_adamL2 = train_epochs_acc(net, device, train_dataloader, val_dataloader, test_dataloader, loss_function, optimizer, max_num_epochs, early_stopping = early_stopping)\n"
   ]
  },
  {
   "cell_type": "code",
   "execution_count": null,
   "id": "f1d27ced",
   "metadata": {},
   "outputs": [],
   "source": [
    "### Plot losses\n",
    "fig = plt.figure(figsize=(12,8))\n",
    "ax1 = fig.add_subplot(121)\n",
    "ax1.semilogy(train_loss_adamL2, label='Train loss')\n",
    "ax1.semilogy(val_loss_adamL2, label='Validation loss')\n",
    "ax1.set_xlabel('Epoch')\n",
    "ax1.set_ylabel('Loss')\n",
    "ax1.grid()\n",
    "ax1.legend()\n",
    "\n",
    "ax2 = fig.add_subplot(122)\n",
    "ax2.semilogy(accuracy_adamL2, label = \"Test accuracy\")\n",
    "ax2.set_xlabel(\"Epoch\")\n",
    "ax2.set_ylabel(\"Test accuracy (%)\")\n",
    "\n",
    "plt.tight_layout()\n",
    "plt.show()"
   ]
  },
  {
   "cell_type": "code",
   "execution_count": null,
   "id": "a77328a7",
   "metadata": {},
   "outputs": [],
   "source": [
    "### Save network parameters\n",
    "### Save the network state\n",
    "# The state dictionary includes all the parameters of the network\n",
    "net_dict = { \"state\" : net.state_dict(),\n",
    "            \"parameters\" : parameters}\n",
    "# Save the state dict to a file\n",
    "torch.save(net_dict,filename)\n"
   ]
  },
  {
   "cell_type": "markdown",
   "id": "130fafca",
   "metadata": {},
   "source": [
    "### Adagrad"
   ]
  },
  {
   "cell_type": "code",
   "execution_count": null,
   "id": "37c41706",
   "metadata": {},
   "outputs": [],
   "source": [
    "# Define the network\n",
    "filename = \"ConvNet_adagrad.torch\"\n",
    "parameters = {\n",
    "    \"act\" : nn.ReLU, \n",
    "    \"drop_p\" : 0.1,\n",
    "}\n",
    "\n",
    "# Inizialize the network\n",
    "torch.manual_seed(0)\n",
    "net = ConvNet(parameters)\n",
    "net.to(device)"
   ]
  },
  {
   "cell_type": "code",
   "execution_count": null,
   "id": "0bb27b72",
   "metadata": {},
   "outputs": [],
   "source": [
    "# Define the loss function\n",
    "loss_function = nn.CrossEntropyLoss()\n",
    "\n",
    "# Define the optimizer\n",
    "optimizer = optim.Adagrad(net.parameters(), lr = 0.1, lr_decay = 0.1, weight_decay = 0.0)\n",
    "\n",
    "# Training \n",
    "max_num_epochs = 20\n",
    "early_stopping = True\n",
    "train_loss_adagrad, val_loss_adagrad, accuracy_adagrad = train_epochs_acc(net, device, train_dataloader, val_dataloader, test_dataloader, loss_function, optimizer, max_num_epochs, early_stopping = early_stopping)\n"
   ]
  },
  {
   "cell_type": "code",
   "execution_count": null,
   "id": "bccae19f",
   "metadata": {},
   "outputs": [],
   "source": [
    "### Plot losses\n",
    "fig = plt.figure(figsize=(12,8))\n",
    "ax1 = fig.add_subplot(121)\n",
    "ax1.semilogy(train_loss_adagrad, label='Train loss')\n",
    "ax1.semilogy(val_loss_adagrad, label='Validation loss')\n",
    "ax1.set_xlabel('Epoch')\n",
    "ax1.set_ylabel('Loss')\n",
    "ax1.grid()\n",
    "ax1.legend()\n",
    "\n",
    "ax2 = fig.add_subplot(122)\n",
    "ax2.semilogy(accuracy_adagrad, label = \"Test accuracy\")\n",
    "ax2.set_xlabel(\"Epoch\")\n",
    "ax2.set_ylabel(\"Test accuracy (%)\")\n",
    "\n",
    "plt.tight_layout()\n",
    "plt.show()"
   ]
  },
  {
   "cell_type": "code",
   "execution_count": null,
   "id": "6cfd3baa",
   "metadata": {},
   "outputs": [],
   "source": [
    "### Save network parameters\n",
    "### Save the network state\n",
    "# The state dictionary includes all the parameters of the network\n",
    "net_dict = { \"state\" : net.state_dict(),\n",
    "            \"parameters\" : parameters}\n",
    "# Save the state dict to a file\n",
    "torch.save(net_dict,filename)\n"
   ]
  },
  {
   "cell_type": "markdown",
   "id": "d3f8df5e",
   "metadata": {},
   "source": [
    "### Comparision"
   ]
  },
  {
   "cell_type": "code",
   "execution_count": null,
   "id": "347eee85",
   "metadata": {},
   "outputs": [],
   "source": [
    "fig = plt.figure(figsize=(12,8))\n",
    "\n",
    "ax1 = fig.add_subplot(131)\n",
    "ax1.set_title(\"Training losses\")\n",
    "ax1.semilogy(train_loss_sgd, label='SGD')\n",
    "ax1.semilogy(train_loss_sgdmom, label='SGD with momentum')\n",
    "ax1.semilogy(train_loss_rmsprop, label='RMSprop')\n",
    "ax1.semilogy(train_loss_adam, label='Adam')\n",
    "ax1.semilogy(train_loss_adamL2, label='Adam with L2')\n",
    "ax1.semilogy(train_loss_adagrad, label='Adagrad')\n",
    "ax1.set_xlabel('Epoch')\n",
    "ax1.set_ylabel('Loss')\n",
    "ax1.grid()\n",
    "ax1.legend()\n",
    "\n",
    "ax2 = fig.add_subplot(132)\n",
    "ax2.set_title(\"Validation losses\")\n",
    "ax2.semilogy(val_loss_sgd, label='SGD')\n",
    "ax2.semilogy(val_loss_sgdmom, label='SGD with momentum')\n",
    "ax2.semilogy(val_loss_rmsprop, label='RMSprop')\n",
    "ax2.semilogy(val_loss_adam, label='Adam')\n",
    "ax2.semilogy(val_loss_adamL2, label='Adam with L2')\n",
    "ax2.semilogy(val_loss_adagrad, label='Adagrad')\n",
    "ax2.set_xlabel('Epoch')\n",
    "ax2.set_ylabel('Loss')\n",
    "ax2.grid()\n",
    "ax2.legend()\n",
    "\n",
    "\n",
    "ax3 = fig.add_subplot(133)\n",
    "ax3.set_title(\"Accuracies\")\n",
    "ax3.semilogy(accuracy_sgd, label='SGD')\n",
    "ax3.semilogy(accuracy_sgdmom, label='SGD with momentum')\n",
    "ax3.semilogy(accuracy_rmsprop, label='RMSprop')\n",
    "ax3.semilogy(accuracy_adam, label='Adam')\n",
    "ax3.semilogy(accuracy_adamL2, label='Adam with L2')\n",
    "ax3.semilogy(accuracy_adagrad, label='Adagrad')\n",
    "ax3.set_xlabel('Epoch')\n",
    "ax3.set_ylabel('%')\n",
    "ax3.grid()\n",
    "ax3.legend()\n",
    "\n",
    "fig.savefig(\"class_optim_compar.png\")\n",
    "plt.tight_layout()\n",
    "plt.show()"
   ]
  },
  {
   "cell_type": "markdown",
   "id": "f8f679d4",
   "metadata": {},
   "source": [
    "## Hyperparameter optimization:\n",
    "### Optuna framework"
   ]
  },
  {
   "cell_type": "code",
   "execution_count": 13,
   "id": "d3059548",
   "metadata": {},
   "outputs": [],
   "source": [
    "\n",
    "# Define objective function\n",
    "def objective(trial):\n",
    "    \n",
    "    # Define objects to be optimized\n",
    "    optimizer_name = trial.suggest_categorical(\"optimizer\", [\"Adam\", \"SGD\"])\n",
    "    activation_name = trial.suggest_categorical(\"activation\", [\"ReLU\", \"LeakyReLU\"])\n",
    "    lr = trial.suggest_float(\"learning_rate\", 1e-5, 1e-1, log = True)\n",
    "    momentum = trial.suggest_float(\"momentum\", 0.0, 1.0)\n",
    "    drop_p = trial.suggest_float(\"dropout\", 0.0, 1.0)\n",
    "    \n",
    "    parameters = {\n",
    "    \"act\" : getattr(nn, activation_name), \n",
    "    \"drop_p\" : drop_p,\n",
    "    }\n",
    "\n",
    "    # Define the model\n",
    "    model = ConvNet(parameters)\n",
    "   \n",
    "    # Define the optimizer\n",
    "    if optimizer_name == \"Adam\":\n",
    "        optimizer = getattr(optim, optimizer_name)(model.parameters(), lr=lr)\n",
    "    else:\n",
    "        optimizer = getattr(optim, optimizer_name)(model.parameters(), lr=lr, momentum = momentum)\n",
    "        \n",
    "    # Define the loss function \n",
    "    loss_function = nn.CrossEntropyLoss()\n",
    "    \n",
    "    max_num_epochs = 10\n",
    "    early_stopping = False\n",
    "    train_loss, val_loss, accuracy = train_epochs_acc(model, device, train_dataloader, val_dataloader, test_dataloader, loss_function, optimizer, max_num_epochs, early_stopping = early_stopping)\n",
    "    \n",
    "    # Metric to be minimized is the last validation loss\n",
    "    return val_loss[-1]\n"
   ]
  },
  {
   "cell_type": "code",
   "execution_count": 14,
   "id": "224e35f1",
   "metadata": {},
   "outputs": [
    {
     "name": "stderr",
     "output_type": "stream",
     "text": [
      "\u001b[32m[I 2022-02-10 11:23:36,389]\u001b[0m A new study created in memory with name: no-name-85eb2ce7-07cc-45c1-9c5c-e85ea17598a1\u001b[0m\n"
     ]
    },
    {
     "name": "stdout",
     "output_type": "stream",
     "text": [
      "Network initialized\n"
     ]
    },
    {
     "data": {
      "application/vnd.jupyter.widget-view+json": {
       "model_id": "4059df952df94fe1a53943b2992ad612",
       "version_major": 2,
       "version_minor": 0
      },
      "text/plain": [
       "  0%|          | 0/10 [00:00<?, ?it/s]"
      ]
     },
     "metadata": {},
     "output_type": "display_data"
    },
    {
     "ename": "KeyboardInterrupt",
     "evalue": "",
     "output_type": "error",
     "traceback": [
      "\u001b[0;31m---------------------------------------------------------------------------\u001b[0m",
      "\u001b[0;31mKeyboardInterrupt\u001b[0m                         Traceback (most recent call last)",
      "\u001b[0;32m<ipython-input-14-4fcc062772b8>\u001b[0m in \u001b[0;36m<module>\u001b[0;34m\u001b[0m\n\u001b[1;32m      1\u001b[0m \u001b[0mstudy\u001b[0m \u001b[0;34m=\u001b[0m \u001b[0moptuna\u001b[0m\u001b[0;34m.\u001b[0m\u001b[0mcreate_study\u001b[0m\u001b[0;34m(\u001b[0m\u001b[0;34m)\u001b[0m\u001b[0;34m\u001b[0m\u001b[0;34m\u001b[0m\u001b[0m\n\u001b[0;32m----> 2\u001b[0;31m \u001b[0mstudy\u001b[0m\u001b[0;34m.\u001b[0m\u001b[0moptimize\u001b[0m\u001b[0;34m(\u001b[0m\u001b[0mobjective\u001b[0m\u001b[0;34m,\u001b[0m \u001b[0mn_trials\u001b[0m\u001b[0;34m=\u001b[0m \u001b[0;36m20\u001b[0m\u001b[0;34m)\u001b[0m\u001b[0;34m\u001b[0m\u001b[0;34m\u001b[0m\u001b[0m\n\u001b[0m\u001b[1;32m      3\u001b[0m \u001b[0;34m\u001b[0m\u001b[0m\n\u001b[1;32m      4\u001b[0m \u001b[0mstudy\u001b[0m\u001b[0;34m.\u001b[0m\u001b[0mbest_params\u001b[0m  \u001b[0;31m# E.g. {'x': 2.0021080\u001b[0m\u001b[0;34m\u001b[0m\u001b[0;34m\u001b[0m\u001b[0m\n",
      "\u001b[0;32m~/opt/anaconda3/lib/python3.8/site-packages/optuna/study/study.py\u001b[0m in \u001b[0;36moptimize\u001b[0;34m(self, func, n_trials, timeout, n_jobs, catch, callbacks, gc_after_trial, show_progress_bar)\u001b[0m\n\u001b[1;32m    398\u001b[0m             )\n\u001b[1;32m    399\u001b[0m \u001b[0;34m\u001b[0m\u001b[0m\n\u001b[0;32m--> 400\u001b[0;31m         _optimize(\n\u001b[0m\u001b[1;32m    401\u001b[0m             \u001b[0mstudy\u001b[0m\u001b[0;34m=\u001b[0m\u001b[0mself\u001b[0m\u001b[0;34m,\u001b[0m\u001b[0;34m\u001b[0m\u001b[0;34m\u001b[0m\u001b[0m\n\u001b[1;32m    402\u001b[0m             \u001b[0mfunc\u001b[0m\u001b[0;34m=\u001b[0m\u001b[0mfunc\u001b[0m\u001b[0;34m,\u001b[0m\u001b[0;34m\u001b[0m\u001b[0;34m\u001b[0m\u001b[0m\n",
      "\u001b[0;32m~/opt/anaconda3/lib/python3.8/site-packages/optuna/study/_optimize.py\u001b[0m in \u001b[0;36m_optimize\u001b[0;34m(study, func, n_trials, timeout, n_jobs, catch, callbacks, gc_after_trial, show_progress_bar)\u001b[0m\n\u001b[1;32m     64\u001b[0m     \u001b[0;32mtry\u001b[0m\u001b[0;34m:\u001b[0m\u001b[0;34m\u001b[0m\u001b[0;34m\u001b[0m\u001b[0m\n\u001b[1;32m     65\u001b[0m         \u001b[0;32mif\u001b[0m \u001b[0mn_jobs\u001b[0m \u001b[0;34m==\u001b[0m \u001b[0;36m1\u001b[0m\u001b[0;34m:\u001b[0m\u001b[0;34m\u001b[0m\u001b[0;34m\u001b[0m\u001b[0m\n\u001b[0;32m---> 66\u001b[0;31m             _optimize_sequential(\n\u001b[0m\u001b[1;32m     67\u001b[0m                 \u001b[0mstudy\u001b[0m\u001b[0;34m,\u001b[0m\u001b[0;34m\u001b[0m\u001b[0;34m\u001b[0m\u001b[0m\n\u001b[1;32m     68\u001b[0m                 \u001b[0mfunc\u001b[0m\u001b[0;34m,\u001b[0m\u001b[0;34m\u001b[0m\u001b[0;34m\u001b[0m\u001b[0m\n",
      "\u001b[0;32m~/opt/anaconda3/lib/python3.8/site-packages/optuna/study/_optimize.py\u001b[0m in \u001b[0;36m_optimize_sequential\u001b[0;34m(study, func, n_trials, timeout, catch, callbacks, gc_after_trial, reseed_sampler_rng, time_start, progress_bar)\u001b[0m\n\u001b[1;32m    161\u001b[0m \u001b[0;34m\u001b[0m\u001b[0m\n\u001b[1;32m    162\u001b[0m         \u001b[0;32mtry\u001b[0m\u001b[0;34m:\u001b[0m\u001b[0;34m\u001b[0m\u001b[0;34m\u001b[0m\u001b[0m\n\u001b[0;32m--> 163\u001b[0;31m             \u001b[0mtrial\u001b[0m \u001b[0;34m=\u001b[0m \u001b[0m_run_trial\u001b[0m\u001b[0;34m(\u001b[0m\u001b[0mstudy\u001b[0m\u001b[0;34m,\u001b[0m \u001b[0mfunc\u001b[0m\u001b[0;34m,\u001b[0m \u001b[0mcatch\u001b[0m\u001b[0;34m)\u001b[0m\u001b[0;34m\u001b[0m\u001b[0;34m\u001b[0m\u001b[0m\n\u001b[0m\u001b[1;32m    164\u001b[0m         \u001b[0;32mexcept\u001b[0m \u001b[0mException\u001b[0m\u001b[0;34m:\u001b[0m\u001b[0;34m\u001b[0m\u001b[0;34m\u001b[0m\u001b[0m\n\u001b[1;32m    165\u001b[0m             \u001b[0;32mraise\u001b[0m\u001b[0;34m\u001b[0m\u001b[0;34m\u001b[0m\u001b[0m\n",
      "\u001b[0;32m~/opt/anaconda3/lib/python3.8/site-packages/optuna/study/_optimize.py\u001b[0m in \u001b[0;36m_run_trial\u001b[0;34m(study, func, catch)\u001b[0m\n\u001b[1;32m    211\u001b[0m \u001b[0;34m\u001b[0m\u001b[0m\n\u001b[1;32m    212\u001b[0m     \u001b[0;32mtry\u001b[0m\u001b[0;34m:\u001b[0m\u001b[0;34m\u001b[0m\u001b[0;34m\u001b[0m\u001b[0m\n\u001b[0;32m--> 213\u001b[0;31m         \u001b[0mvalue_or_values\u001b[0m \u001b[0;34m=\u001b[0m \u001b[0mfunc\u001b[0m\u001b[0;34m(\u001b[0m\u001b[0mtrial\u001b[0m\u001b[0;34m)\u001b[0m\u001b[0;34m\u001b[0m\u001b[0;34m\u001b[0m\u001b[0m\n\u001b[0m\u001b[1;32m    214\u001b[0m     \u001b[0;32mexcept\u001b[0m \u001b[0mexceptions\u001b[0m\u001b[0;34m.\u001b[0m\u001b[0mTrialPruned\u001b[0m \u001b[0;32mas\u001b[0m \u001b[0me\u001b[0m\u001b[0;34m:\u001b[0m\u001b[0;34m\u001b[0m\u001b[0;34m\u001b[0m\u001b[0m\n\u001b[1;32m    215\u001b[0m         \u001b[0;31m# TODO(mamu): Handle multi-objective cases.\u001b[0m\u001b[0;34m\u001b[0m\u001b[0;34m\u001b[0m\u001b[0;34m\u001b[0m\u001b[0m\n",
      "\u001b[0;32m<ipython-input-13-938bdb04bebe>\u001b[0m in \u001b[0;36mobjective\u001b[0;34m(trial)\u001b[0m\n\u001b[1;32m     28\u001b[0m     \u001b[0mmax_num_epochs\u001b[0m \u001b[0;34m=\u001b[0m \u001b[0;36m10\u001b[0m\u001b[0;34m\u001b[0m\u001b[0;34m\u001b[0m\u001b[0m\n\u001b[1;32m     29\u001b[0m     \u001b[0mearly_stopping\u001b[0m \u001b[0;34m=\u001b[0m \u001b[0;32mFalse\u001b[0m\u001b[0;34m\u001b[0m\u001b[0;34m\u001b[0m\u001b[0m\n\u001b[0;32m---> 30\u001b[0;31m     \u001b[0mtrain_loss\u001b[0m\u001b[0;34m,\u001b[0m \u001b[0mval_loss\u001b[0m\u001b[0;34m,\u001b[0m \u001b[0maccuracy\u001b[0m \u001b[0;34m=\u001b[0m \u001b[0mtrain_epochs_acc\u001b[0m\u001b[0;34m(\u001b[0m\u001b[0mmodel\u001b[0m\u001b[0;34m,\u001b[0m \u001b[0mdevice\u001b[0m\u001b[0;34m,\u001b[0m \u001b[0mtrain_dataloader\u001b[0m\u001b[0;34m,\u001b[0m \u001b[0mval_dataloader\u001b[0m\u001b[0;34m,\u001b[0m \u001b[0mtest_dataloader\u001b[0m\u001b[0;34m,\u001b[0m \u001b[0mloss_function\u001b[0m\u001b[0;34m,\u001b[0m \u001b[0moptimizer\u001b[0m\u001b[0;34m,\u001b[0m \u001b[0mmax_num_epochs\u001b[0m\u001b[0;34m,\u001b[0m \u001b[0mearly_stopping\u001b[0m \u001b[0;34m=\u001b[0m \u001b[0mearly_stopping\u001b[0m\u001b[0;34m)\u001b[0m\u001b[0;34m\u001b[0m\u001b[0;34m\u001b[0m\u001b[0m\n\u001b[0m\u001b[1;32m     31\u001b[0m \u001b[0;34m\u001b[0m\u001b[0m\n\u001b[1;32m     32\u001b[0m     \u001b[0;31m# Metric to be minimized is the last validation loss\u001b[0m\u001b[0;34m\u001b[0m\u001b[0;34m\u001b[0m\u001b[0;34m\u001b[0m\u001b[0m\n",
      "\u001b[0;32m~/Documents/Deep Learning/NNDL/Homework_1/training.py\u001b[0m in \u001b[0;36mtrain_epochs_acc\u001b[0;34m(net, device, train_dataloader, val_dataloader, test_dataloader, loss_function, optimizer, max_num_epochs, early_stopping)\u001b[0m\n\u001b[1;32m    145\u001b[0m \u001b[0;34m\u001b[0m\u001b[0m\n\u001b[1;32m    146\u001b[0m         \u001b[0;31m# Tran epoch\u001b[0m\u001b[0;34m\u001b[0m\u001b[0;34m\u001b[0m\u001b[0;34m\u001b[0m\u001b[0m\n\u001b[0;32m--> 147\u001b[0;31m         \u001b[0mmean_train_loss\u001b[0m \u001b[0;34m=\u001b[0m \u001b[0mtrain_epoch\u001b[0m\u001b[0;34m(\u001b[0m\u001b[0mnet\u001b[0m\u001b[0;34m,\u001b[0m \u001b[0mdevice\u001b[0m\u001b[0;34m,\u001b[0m \u001b[0mtrain_dataloader\u001b[0m\u001b[0;34m,\u001b[0m \u001b[0mloss_function\u001b[0m\u001b[0;34m,\u001b[0m \u001b[0moptimizer\u001b[0m\u001b[0;34m)\u001b[0m\u001b[0;34m\u001b[0m\u001b[0;34m\u001b[0m\u001b[0m\n\u001b[0m\u001b[1;32m    148\u001b[0m \u001b[0;34m\u001b[0m\u001b[0m\n\u001b[1;32m    149\u001b[0m         \u001b[0;31m# Validate epoch\u001b[0m\u001b[0;34m\u001b[0m\u001b[0;34m\u001b[0m\u001b[0;34m\u001b[0m\u001b[0m\n",
      "\u001b[0;32m~/Documents/Deep Learning/NNDL/Homework_1/training.py\u001b[0m in \u001b[0;36mtrain_epoch\u001b[0;34m(net, device, dataloader, loss_function, optimizer)\u001b[0m\n\u001b[1;32m     40\u001b[0m         \u001b[0;31m# Backpropagation\u001b[0m\u001b[0;34m\u001b[0m\u001b[0;34m\u001b[0m\u001b[0;34m\u001b[0m\u001b[0m\n\u001b[1;32m     41\u001b[0m         \u001b[0moptimizer\u001b[0m\u001b[0;34m.\u001b[0m\u001b[0mzero_grad\u001b[0m\u001b[0;34m(\u001b[0m\u001b[0;34m)\u001b[0m\u001b[0;34m\u001b[0m\u001b[0;34m\u001b[0m\u001b[0m\n\u001b[0;32m---> 42\u001b[0;31m         \u001b[0mloss\u001b[0m\u001b[0;34m.\u001b[0m\u001b[0mbackward\u001b[0m\u001b[0;34m(\u001b[0m\u001b[0;34m)\u001b[0m\u001b[0;34m\u001b[0m\u001b[0;34m\u001b[0m\u001b[0m\n\u001b[0m\u001b[1;32m     43\u001b[0m         \u001b[0moptimizer\u001b[0m\u001b[0;34m.\u001b[0m\u001b[0mstep\u001b[0m\u001b[0;34m(\u001b[0m\u001b[0;34m)\u001b[0m\u001b[0;34m\u001b[0m\u001b[0;34m\u001b[0m\u001b[0m\n\u001b[1;32m     44\u001b[0m \u001b[0;34m\u001b[0m\u001b[0m\n",
      "\u001b[0;32m~/opt/anaconda3/lib/python3.8/site-packages/torch/_tensor.py\u001b[0m in \u001b[0;36mbackward\u001b[0;34m(self, gradient, retain_graph, create_graph, inputs)\u001b[0m\n\u001b[1;32m    305\u001b[0m                 \u001b[0mcreate_graph\u001b[0m\u001b[0;34m=\u001b[0m\u001b[0mcreate_graph\u001b[0m\u001b[0;34m,\u001b[0m\u001b[0;34m\u001b[0m\u001b[0;34m\u001b[0m\u001b[0m\n\u001b[1;32m    306\u001b[0m                 inputs=inputs)\n\u001b[0;32m--> 307\u001b[0;31m         \u001b[0mtorch\u001b[0m\u001b[0;34m.\u001b[0m\u001b[0mautograd\u001b[0m\u001b[0;34m.\u001b[0m\u001b[0mbackward\u001b[0m\u001b[0;34m(\u001b[0m\u001b[0mself\u001b[0m\u001b[0;34m,\u001b[0m \u001b[0mgradient\u001b[0m\u001b[0;34m,\u001b[0m \u001b[0mretain_graph\u001b[0m\u001b[0;34m,\u001b[0m \u001b[0mcreate_graph\u001b[0m\u001b[0;34m,\u001b[0m \u001b[0minputs\u001b[0m\u001b[0;34m=\u001b[0m\u001b[0minputs\u001b[0m\u001b[0;34m)\u001b[0m\u001b[0;34m\u001b[0m\u001b[0;34m\u001b[0m\u001b[0m\n\u001b[0m\u001b[1;32m    308\u001b[0m \u001b[0;34m\u001b[0m\u001b[0m\n\u001b[1;32m    309\u001b[0m     \u001b[0;32mdef\u001b[0m \u001b[0mregister_hook\u001b[0m\u001b[0;34m(\u001b[0m\u001b[0mself\u001b[0m\u001b[0;34m,\u001b[0m \u001b[0mhook\u001b[0m\u001b[0;34m)\u001b[0m\u001b[0;34m:\u001b[0m\u001b[0;34m\u001b[0m\u001b[0;34m\u001b[0m\u001b[0m\n",
      "\u001b[0;32m~/opt/anaconda3/lib/python3.8/site-packages/torch/autograd/__init__.py\u001b[0m in \u001b[0;36mbackward\u001b[0;34m(tensors, grad_tensors, retain_graph, create_graph, grad_variables, inputs)\u001b[0m\n\u001b[1;32m    152\u001b[0m         \u001b[0mretain_graph\u001b[0m \u001b[0;34m=\u001b[0m \u001b[0mcreate_graph\u001b[0m\u001b[0;34m\u001b[0m\u001b[0;34m\u001b[0m\u001b[0m\n\u001b[1;32m    153\u001b[0m \u001b[0;34m\u001b[0m\u001b[0m\n\u001b[0;32m--> 154\u001b[0;31m     Variable._execution_engine.run_backward(\n\u001b[0m\u001b[1;32m    155\u001b[0m         \u001b[0mtensors\u001b[0m\u001b[0;34m,\u001b[0m \u001b[0mgrad_tensors_\u001b[0m\u001b[0;34m,\u001b[0m \u001b[0mretain_graph\u001b[0m\u001b[0;34m,\u001b[0m \u001b[0mcreate_graph\u001b[0m\u001b[0;34m,\u001b[0m \u001b[0minputs\u001b[0m\u001b[0;34m,\u001b[0m\u001b[0;34m\u001b[0m\u001b[0;34m\u001b[0m\u001b[0m\n\u001b[1;32m    156\u001b[0m         allow_unreachable=True, accumulate_grad=True)  # allow_unreachable flag\n",
      "\u001b[0;31mKeyboardInterrupt\u001b[0m: "
     ]
    }
   ],
   "source": [
    "study = optuna.create_study()\n",
    "study.optimize(objective, n_trials= 20)\n",
    "\n",
    "study.best_params  "
   ]
  },
  {
   "cell_type": "code",
   "execution_count": null,
   "id": "de53284f",
   "metadata": {},
   "outputs": [],
   "source": [
    "plot_parallel_coordinate(study)"
   ]
  },
  {
   "cell_type": "code",
   "execution_count": null,
   "id": "4a1b24cf",
   "metadata": {},
   "outputs": [],
   "source": [
    "plot_param_importances(study)"
   ]
  },
  {
   "cell_type": "markdown",
   "id": "3719de8b",
   "metadata": {},
   "source": [
    "## Best model"
   ]
  },
  {
   "cell_type": "code",
   "execution_count": null,
   "id": "63d6877b",
   "metadata": {},
   "outputs": [],
   "source": [
    "# Define the network\n",
    "filename = \"ConvNet_best.torch\"\n",
    "parameters = {\n",
    "    \"act\" : nn.ReLU, \n",
    "    \"drop_p\" : 0.1,\n",
    "}\n",
    "\n",
    "\n",
    "# Inizialize the network\n",
    "torch.manual_seed(0)\n",
    "net = ConvNet(parameters)\n",
    "net.to(device)"
   ]
  },
  {
   "cell_type": "code",
   "execution_count": null,
   "id": "9f9eea8e",
   "metadata": {},
   "outputs": [],
   "source": [
    "# Define the loss function\n",
    "loss_function = nn.CrossEntropyLoss()\n",
    "\n",
    "# Define the optimizer\n",
    "optimizer = optim.RMSprop(net.parameters(), lr = 0.0094722414675771641, momentum = 0.6653025986790503 , weight_decay = 0.22302174896930235)\n",
    "\n",
    "# Training \n",
    "max_num_epochs = 20\n",
    "early_stopping = True\n",
    "train_loss_best, val_loss_best, accuracy_best = train_epochs_acc(net, device, train_dataloader, val_dataloader, test_dataloader, loss_function, optimizer, max_num_epochs, early_stopping)\n"
   ]
  },
  {
   "cell_type": "code",
   "execution_count": null,
   "id": "cfe69683",
   "metadata": {},
   "outputs": [],
   "source": [
    "### Plot losses\n",
    "fig = plt.figure(figsize=(12,8))\n",
    "ax1 = fig.add_subplot(121)\n",
    "ax1.semilogy(train_loss_best, label='Train loss')\n",
    "ax1.semilogy(val_loss_best, label='Validation loss')\n",
    "ax1.set_xlabel('Epoch')\n",
    "ax1.set_ylabel('Loss')\n",
    "ax1.grid()\n",
    "ax1.legend()\n",
    "\n",
    "ax2 = fig.add_subplot(122)\n",
    "ax2.semilogy(accuracy_best, label = \"Test accuracy\")\n",
    "ax2.set_xlabel(\"Epoch\")\n",
    "ax2.set_ylabel(\"Test accuracy (%)\")\n",
    "\n",
    "plt.tight_layout()\n",
    "plt.show()\n",
    "fig.savefig(\"best_model.png\")"
   ]
  },
  {
   "cell_type": "code",
   "execution_count": null,
   "id": "c2a1528e",
   "metadata": {},
   "outputs": [],
   "source": [
    "### Save network parameters\n",
    "### Save the network state\n",
    "# The state dictionary includes all the parameters of the network\n",
    "net_dict = { \"state\" : net.state_dict(),\n",
    "            \"parameters\" : parameters}\n",
    "# Save the state dict to a file\n",
    "torch.save(net_dict,filename)"
   ]
  },
  {
   "cell_type": "markdown",
   "id": "badb4082",
   "metadata": {},
   "source": [
    "## K-fold cross validation\n",
    "Train the network with best hyperparameters found with optuna before with k-fold cross validation "
   ]
  },
  {
   "cell_type": "code",
   "execution_count": 15,
   "id": "ca631069",
   "metadata": {},
   "outputs": [
    {
     "name": "stdout",
     "output_type": "stream",
     "text": [
      "Network initialized\n"
     ]
    }
   ],
   "source": [
    "# Define the network\n",
    "filename = \"ConvNet_kfold_learned.torch\"\n",
    "parameters = {\n",
    "    \"act\" : nn.ReLU, \n",
    "    \"drop_p\" : 0.1,\n",
    "}\n",
    "\n",
    "# Inizialize the network\n",
    "torch.manual_seed(0)\n",
    "net = ConvNet(parameters)\n",
    "net.to(device)\n",
    "\n",
    "# Define the loss function\n",
    "loss_function = nn.CrossEntropyLoss()\n",
    "\n",
    "# Define the optimizer\n",
    "optimizer = optim.Adam(net.parameters(), lr = 0.0001 , weight_decay = 0.22302174896930235)\n"
   ]
  },
  {
   "cell_type": "code",
   "execution_count": 16,
   "id": "16634026",
   "metadata": {},
   "outputs": [
    {
     "data": {
      "application/vnd.jupyter.widget-view+json": {
       "model_id": "11c8244a01914323aaf00f78f702d47a",
       "version_major": 2,
       "version_minor": 0
      },
      "text/plain": [
       "  0%|          | 0/20 [00:00<?, ?it/s]"
      ]
     },
     "metadata": {},
     "output_type": "display_data"
    }
   ],
   "source": [
    "\n",
    "# K-fold cross validation training\n",
    "max_num_epochs = 20\n",
    "early_stopping = True\n",
    "mean_train_loss, std_train_loss, mean_val_loss, std_val_loss = kf_train_epochs(net, device, 3, 128, dataset, test_dataloader, loss_function, optimizer, max_num_epochs, early_stopping = early_stopping)\n"
   ]
  },
  {
   "cell_type": "code",
   "execution_count": 20,
   "id": "630ec28b",
   "metadata": {},
   "outputs": [
    {
     "data": {
      "image/png": "[encoded data removed]",
      "text/plain": [
       "<Figure size 864x576 with 1 Axes>"
      ]
     },
     "metadata": {
      "needs_background": "light"
     },
     "output_type": "display_data"
    }
   ],
   "source": [
    "### Plot k-fold losses\n",
    "\n",
    "\n",
    "fig = plt.figure(figsize=(12,8))\n",
    "ax1 = fig.add_subplot(121)\n",
    "ax1.semilogy(mean_train_loss, c = \"b\", label='Train loss')\n",
    "ax1.fill_between(np.array(range(max_num_epochs)), np.subtract(mean_train_loss,std_train_loss), np.add(mean_train_loss,std_train_loss), color = \"r\")\n",
    "#ax1.semilogy(mean_val_log, label='Validation loss')\n",
    "ax1.set_xlabel('Epoch')\n",
    "ax1.set_ylabel('Loss')\n",
    "ax1.grid()\n",
    "ax1.legend()\n",
    "\n",
    "\n",
    "plt.tight_layout()\n",
    "plt.show()"
   ]
  },
  {
   "cell_type": "markdown",
   "id": "fa8f53ee",
   "metadata": {},
   "source": [
    "## Network analysis"
   ]
  },
  {
   "cell_type": "code",
   "execution_count": null,
   "id": "fc32d874",
   "metadata": {},
   "outputs": [],
   "source": [
    "### Load network state\n",
    "filename = \"ConvNet_adam.torch\"\n",
    "\n",
    "# Load the state dict previously saved\n",
    "net_dict = torch.load(filename)\n",
    "net_state_dict = net_dict[\"state\"]\n",
    "net_parameters_dict = net_dict[\"parameters\"]\n",
    "\n",
    "# Redefine the network and upload parameters\n",
    "net = ConvNet(net_parameters_dict)\n",
    "net.load_state_dict(net_state_dict)"
   ]
  },
  {
   "cell_type": "markdown",
   "id": "17041dd7",
   "metadata": {},
   "source": [
    "### Accuracy\n",
    "    \n",
    "    "
   ]
  },
  {
   "cell_type": "code",
   "execution_count": null,
   "id": "f8bf6db2",
   "metadata": {},
   "outputs": [],
   "source": [
    "### Compute accuracy of the model\n",
    "mismatched, confusion, acc = my_accuracy(net, device, test_dataloader)\n",
    "print(\"Test accuracy: \", acc, \"%\")"
   ]
  },
  {
   "cell_type": "markdown",
   "id": "333d7202",
   "metadata": {},
   "source": [
    "### Plot mismatched numbers\n"
   ]
  },
  {
   "cell_type": "code",
   "execution_count": null,
   "id": "2f25b9b8",
   "metadata": {},
   "outputs": [],
   "source": [
    "# Plot Mismatched numbers\n",
    "figure = plt.figure(figsize=(8, 8))\n",
    "cols, rows = 4,4\n",
    "\n",
    "\n",
    "for i in range(rows*cols):\n",
    "    img = mismatched[i][0]\n",
    "    \n",
    "    figure.add_subplot(rows, cols, i+1)\n",
    "    plt.axis(\"off\")\n",
    "    plt.imshow(img.squeeze(), cmap=\"gray\"  )\n",
    "    plt.title(\"Predicted: \"+str(mismatched[i][1])+\"\\n\"+\"True: \"+str(mismatched[i][2]))\n",
    "    \n",
    "plt.tight_layout()\n",
    "plt.show()"
   ]
  },
  {
   "cell_type": "markdown",
   "id": "1c150f4d",
   "metadata": {},
   "source": [
    "### Confusion matrix"
   ]
  },
  {
   "cell_type": "code",
   "execution_count": null,
   "id": "c72157b5",
   "metadata": {
    "scrolled": true
   },
   "outputs": [],
   "source": [
    "### Build the confusion matrix\n",
    "from sklearn.metrics import confusion_matrix, plot_confusion_matrix, ConfusionMatrixDisplay\n",
    "\n",
    "# Get predictions and ground trues\n",
    "trues = confusion[0]\n",
    "predictions = confusion[1]\n",
    "\n",
    "# Compute and plot confusion matrix\n",
    "cm = confusion_matrix(trues, predictions, labels =np.array(range(10)) )\n",
    "disp = ConfusionMatrixDisplay(confusion_matrix=cm, display_labels = np.array(range(10)))\n",
    "disp.plot()\n",
    "plt.show()\n"
   ]
  },
  {
   "cell_type": "markdown",
   "id": "fef52a11",
   "metadata": {},
   "source": [
    "## Network parameters "
   ]
  },
  {
   "cell_type": "code",
   "execution_count": null,
   "id": "5671b48a",
   "metadata": {},
   "outputs": [],
   "source": [
    "# Access convolution network parameters\n",
    "\n",
    "dense_weight = net.lin[0].weight.data.cpu().numpy()\n",
    "dense_bias = net.lin[0].bias.data.cpu().numpy()\n",
    "out_weight = net.lin[3].weight.data.cpu().numpy()\n",
    "out_bias = net.lin[3].bias.data.cpu().numpy()"
   ]
  },
  {
   "cell_type": "markdown",
   "id": "de116b93",
   "metadata": {},
   "source": [
    "### Convolution filtered images"
   ]
  },
  {
   "cell_type": "code",
   "execution_count": null,
   "id": "b94e2d79",
   "metadata": {},
   "outputs": [],
   "source": [
    "# Acces convolution filters\n",
    "conv1 = net.cnn[0].weight.data.cpu()\n",
    "conv2 = net.cnn[5].weight.data.cpu()"
   ]
  },
  {
   "cell_type": "code",
   "execution_count": null,
   "id": "02661834",
   "metadata": {},
   "outputs": [],
   "source": [
    "### First convolution filter\n",
    "fig = plt.figure(figsize=(8, 8))\n",
    "cols, rows = 4,4\n",
    "\n",
    "# Take an image and apply convolution\n",
    "img, label = train_data[35]\n",
    "img = F.conv2d(img.unsqueeze(dim=0), conv1)\n",
    "\n",
    "\n",
    "# Plot filtered images\n",
    "\n",
    "for i in range(16):\n",
    "    fig.add_subplot(rows, cols, i+1)\n",
    "    plt.axis(\"off\")\n",
    "    #plt.title(\"Filter %d\" %(i+1))\n",
    "    plt.imshow(img.squeeze().numpy()[i], cmap=\"gray\")\n",
    "    \n",
    "plt.tight_layout()\n",
    "plt.show()\n",
    "\n",
    "\n"
   ]
  },
  {
   "cell_type": "code",
   "execution_count": null,
   "id": "8acea487",
   "metadata": {},
   "outputs": [],
   "source": [
    "### Second convolution filter\n",
    "fig = plt.figure(figsize=(8, 8))\n",
    "cols, rows = 8,4\n",
    "\n",
    "# Take an image and apply convolution\n",
    "img, label = train_data[9]\n",
    "img = F.conv2d(img.unsqueeze(dim=0), conv1)\n",
    "img = F.relu(img)\n",
    "img  = F.max_pool2d(img, kernel_size = 2)\n",
    "img = F.conv2d(img, conv2)\n",
    "\n",
    "# Plot filtered images\n",
    "\n",
    "for i in range(32):\n",
    "    fig.add_subplot(rows, cols, i+1)\n",
    "    plt.axis(\"off\")\n",
    "    #plt.title(\"Filter %d\" %(i+1))\n",
    "    plt.imshow(img.squeeze().numpy()[i], cmap=\"gray\")\n",
    "    \n",
    "plt.tight_layout()\n",
    "plt.show()"
   ]
  },
  {
   "cell_type": "code",
   "execution_count": null,
   "id": "7d833dd3",
   "metadata": {},
   "outputs": [],
   "source": []
  }
 ],
 "metadata": {
  "kernelspec": {
   "display_name": "Python 3",
   "language": "python",
   "name": "python3"
  },
  "language_info": {
   "codemirror_mode": {
    "name": "ipython",
    "version": 3
   },
   "file_extension": ".py",
   "mimetype": "text/x-python",
   "name": "python",
   "nbconvert_exporter": "python",
   "pygments_lexer": "ipython3",
   "version": "3.8.8"
  }
 },
 "nbformat": 4,
 "nbformat_minor": 5
}
