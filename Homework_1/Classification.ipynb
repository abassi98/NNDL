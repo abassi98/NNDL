{
 "cells": [
  {
   "cell_type": "markdown",
   "id": "1e869ab8",
   "metadata": {},
   "source": [
    "# Classification"
   ]
  },
  {
   "cell_type": "code",
   "execution_count": 1,
   "id": "9de78412",
   "metadata": {},
   "outputs": [],
   "source": [
    "import numpy as np\n",
    "import matplotlib.pyplot as plt\n",
    "\n",
    "import torch\n",
    "from pytorch_lightning import LightningModule, LightningDataModule, Trainer\n",
    "from pytorch_lightning.metrics.functional import accuracy\n",
    "from pytorch_lightning.callbacks import ModelCheckpoint, EarlyStopping\n",
    "import torch.nn as nn\n",
    "import torch.optim as optim\n",
    "from torch.utils.data import Dataset, DataLoader, random_split, ConcatDataset, Subset\n",
    "from torchvision import transforms, datasets\n",
    "import torch.nn.functional as F\n",
    "\n",
    "from sklearn.model_selection import KFold\n",
    "import optuna as opt\n",
    "\n",
    "from models import ConvNet, FFNet\n",
    "from data_modules import MNISTDataModule\n",
    "#from functions import train_epoch, val_epoch, my_accuracy\n",
    "\n",
    "from tqdm import tqdm\n",
    "from tqdm.notebook import tqdm_notebook\n",
    "from time import sleep\n"
   ]
  },
  {
   "cell_type": "markdown",
   "id": "410e9852",
   "metadata": {},
   "source": [
    "## Dataset and Dataloader"
   ]
  },
  {
   "cell_type": "code",
   "execution_count": 2,
   "id": "fb307ef1",
   "metadata": {},
   "outputs": [
    {
     "name": "stderr",
     "output_type": "stream",
     "text": [
      "/home/alberto/anaconda3/lib/python3.8/site-packages/torchvision/datasets/mnist.py:498: UserWarning: The given NumPy array is not writeable, and PyTorch does not support non-writeable tensors. This means you can write to the underlying (supposedly non-writeable) NumPy array using the tensor. You may want to copy the array to protect its data or make it writeable before converting it to a tensor. This type of warning will be suppressed for the rest of this program. (Triggered internally at  /pytorch/torch/csrc/utils/tensor_numpy.cpp:180.)\n",
      "  return torch.from_numpy(parsed.astype(m[2], copy=False)).view(*s)\n"
     ]
    },
    {
     "data": {
      "image/png": "[encoded data removed]",
      "text/plain": [
       "<Figure size 576x576 with 16 Axes>"
      ]
     },
     "metadata": {
      "needs_background": "light"
     },
     "output_type": "display_data"
    }
   ],
   "source": [
    "### Define MNIST data module\n",
    "\n",
    "# Parameters dictionary\n",
    "data_parameters = {\n",
    "    \"data_dir\" : \"MNIST\",\n",
    "    \"batch_size\" : 100,\n",
    "}\n",
    "\n",
    "# Create a dataset using pytorch_lighning data module\n",
    "dm = MNISTDataModule(data_parameters)\n",
    "dm.prepare_data()\n",
    "dm.setup()\n",
    "\n",
    "# Plot Mnist\n",
    "figure = plt.figure(figsize=(8, 8))\n",
    "cols, rows = 4,4\n",
    "\n",
    "batch, label = next(iter(dm.train_dataloader()))\n",
    "\n",
    "for i in range(1,cols * rows+1):\n",
    "    sample_idx = torch.randint(len(batch), size=(1,)).item()\n",
    "    img = batch[sample_idx]\n",
    "    figure.add_subplot(rows, cols, i)\n",
    "    plt.axis(\"off\")\n",
    "    plt.imshow(img.squeeze(), cmap=\"gray\")\n",
    "plt.show()"
   ]
  },
  {
   "cell_type": "markdown",
   "id": "5a0ac769",
   "metadata": {},
   "source": [
    "## Define the network"
   ]
  },
  {
   "cell_type": "code",
   "execution_count": 3,
   "id": "59684431",
   "metadata": {},
   "outputs": [
    {
     "name": "stderr",
     "output_type": "stream",
     "text": [
      "GPU available: True, used: True\n",
      "TPU available: False, using: 0 TPU cores\n",
      "IPU available: False, using: 0 IPUs\n"
     ]
    },
    {
     "name": "stdout",
     "output_type": "stream",
     "text": [
      "Network initialized\n"
     ]
    }
   ],
   "source": [
    "# Define the pytorch_lightning networks\n",
    "parameters1 = {\n",
    "    \"act\" : \"ReLU\", \n",
    "    \"optimizer\" : \"Adam\", \n",
    "    \"loss_fn\" : \"CrossEntropyLoss\",\n",
    "    \"lr\" : 1e-3, \n",
    "    \"L2_reg\" : 0.0, \n",
    "    \"drop_p\" : 0.1,\n",
    "}\n",
    "\n",
    "parameters2 = {\n",
    "    \"act\" : \"ReLU\", \n",
    "    \"optimizer\" : \"RMSprop\", \n",
    "    \"loss_fn\" : \"CrossEntropyLoss\",\n",
    "    \"lr\" : 1e-3, \n",
    "    \"L2_reg\" : 0.0, \n",
    "    \"drop_p\" : 0.1,\n",
    "}\n",
    "\n",
    "parameters3 = {\n",
    "    \"act\" : \"ReLU\", \n",
    "    \"optimizer\" : \"SGD\", \n",
    "    \"loss_fn\" : \"CrossEntropyLoss\",\n",
    "    \"lr\" : 1e-3, \n",
    "    \"L2_reg\" : 0.0, \n",
    "    \"drop_p\" : 0.1,\n",
    "}\n",
    "\n",
    "\n",
    "torch.manual_seed(0)\n",
    "net = ConvNet(parameters1)\n",
    "\n",
    "# Define an early stopping method\n",
    "es = EarlyStopping(monitor = \"val_loss\")\n",
    "\n",
    "# Define the trainer\n",
    "num_epochs = 20\n",
    "trainer = Trainer(\n",
    "    gpus=1,\n",
    "    max_epochs= num_epochs,\n",
    "    progress_bar_refresh_rate=2,\n",
    "    callbacks = [es],\n",
    ")\n"
   ]
  },
  {
   "cell_type": "markdown",
   "id": "dfbc5e0f",
   "metadata": {},
   "source": [
    "## Training"
   ]
  },
  {
   "cell_type": "code",
   "execution_count": null,
   "id": "723fff5a",
   "metadata": {},
   "outputs": [],
   "source": [
    "### Training with early stopping\n",
    "\n",
    "# Concatenate all dataset\n",
    "data_set = ConcatDataset([dm.train_dataloader().dataset,\n",
    "                              dm.val_dataloader().dataset,\n",
    "                              dm.test_dataloader().dataset])\n",
    "\n",
    "\n",
    "trainer.fit(net, dm)\n",
    "\n",
    "\n",
    "\n"
   ]
  },
  {
   "cell_type": "code",
   "execution_count": null,
   "id": "8046144e",
   "metadata": {},
   "outputs": [],
   "source": [
    "net.val_loss"
   ]
  },
  {
   "cell_type": "code",
   "execution_count": null,
   "id": "9065164e",
   "metadata": {},
   "outputs": [],
   "source": [
    "### Save network parameters\n",
    "### Save the network state\n",
    "# The state dictionary includes all the parameters of the network\n",
    "net_dict = { \"state\" : net.state_dict(),\n",
    "            \"parameters\" : parameters1}\n",
    "# Save the state dict to a file\n",
    "torch.save(net_dict,'ConvNet_parameters.torch')\n",
    "print(net_dict[\"parameters\"])"
   ]
  },
  {
   "cell_type": "code",
   "execution_count": null,
   "id": "edf0aa17",
   "metadata": {},
   "outputs": [],
   "source": [
    "### Reload the network state\n",
    "# First initialize the network (if not already done)\n",
    "\n",
    "\n",
    "net = ConvNet(init_par1)\n",
    "\n",
    "net.to(device)\n",
    "# Load the state dict previously saved\n",
    "net_state_dict = torch.load('ConvNet_parameters.torch')\n",
    "# Update the network parameters\n",
    "net.load_state_dict(net_state_dict)"
   ]
  },
  {
   "cell_type": "code",
   "execution_count": null,
   "id": "54a925e7",
   "metadata": {},
   "outputs": [],
   "source": [
    "### Save losses and accuracy: network 1\n",
    "\n",
    "train_loss_net1 = [np.mean(net.train_loss[i*100:100*i+99]) for i in range(49)] \n",
    "val_loss_net1 = [np.mean(net.val_loss[i*20:20*i+19]) for i in range(49)] \n",
    "val_acc_net1 = [np.mean(net.val_acc[i*20:20*i+19]) for i in range(49)] "
   ]
  },
  {
   "cell_type": "code",
   "execution_count": null,
   "id": "89c4e873",
   "metadata": {},
   "outputs": [],
   "source": [
    "### Save losses and accuracy: network 2\n",
    "\n",
    "train_loss_net2 = [np.mean(net.train_loss[i*100:100*i+99]) for i in range(49)] \n",
    "val_loss_net2 = [np.mean(net.val_loss[i*20:20*i+19]) for i in range(49)] \n",
    "val_acc_net2 = [np.mean(net.val_acc[i*20:20*i+19]) for i in range(49)] "
   ]
  },
  {
   "cell_type": "code",
   "execution_count": null,
   "id": "5fbe0d8b",
   "metadata": {},
   "outputs": [],
   "source": [
    "### Save losses and accuracy: network 2\n",
    "\n",
    "train_loss_net3 = [np.mean(net.train_loss[i*100:100*i+99]) for i in range(49)] \n",
    "val_loss_net3 = [np.mean(net.val_loss[i*20:20*i+19]) for i in range(49)] \n",
    "val_acc_net3 = [np.mean(net.val_acc[i*20:20*i+19]) for i in range(49)] "
   ]
  },
  {
   "cell_type": "code",
   "execution_count": null,
   "id": "d66d240e",
   "metadata": {},
   "outputs": [],
   "source": [
    "# Plot train losses\n",
    "plt.figure(figsize=(12,8))\n",
    "plt.semilogy(train_loss_net1, label='Adam')\n",
    "plt.semilogy(train_loss_net2, label='RMSprop')\n",
    "plt.semilogy(train_loss_net3, label='SGD')\n",
    "plt.xlabel('Epoch')\n",
    "plt.ylabel('Train loss')\n",
    "plt.grid()\n",
    "plt.legend()\n",
    "plt.show()"
   ]
  },
  {
   "cell_type": "code",
   "execution_count": null,
   "id": "3b671324",
   "metadata": {},
   "outputs": [],
   "source": [
    "\n",
    "# Plot validation losses\n",
    "plt.figure(figsize=(12,8))\n",
    "plt.semilogy(val_loss_net1, label='Adam')\n",
    "plt.semilogy(val_loss_net2, label='RMSprop')\n",
    "plt.semilogy(val_loss_net3, label='SGD')\n",
    "plt.xlabel('Epoch')\n",
    "plt.ylabel('Validation loss')\n",
    "plt.grid()\n",
    "plt.legend()\n",
    "plt.show()"
   ]
  },
  {
   "cell_type": "code",
   "execution_count": null,
   "id": "3d8605c6",
   "metadata": {},
   "outputs": [],
   "source": [
    "# Plot test accuracy\n",
    "\n",
    "plt.figure(figsize = (12,8))\n",
    "plt.plot(val_acc_net1, label = \"Adam\")\n",
    "plt.plot(val_acc_net2, label = \"RMSprop\")\n",
    "plt.semilogy(val_acc_net3, label='SGD')\n",
    "plt.xlabel('Epoch')\n",
    "plt.ylabel('Classification accuracy (%)')\n",
    "plt.grid()\n",
    "plt.legend()\n",
    "plt.show()\n"
   ]
  },
  {
   "cell_type": "code",
   "execution_count": null,
   "id": "a2d2576a",
   "metadata": {},
   "outputs": [],
   "source": [
    "# Access metrics\n",
    "trainer.callback_metrics\n",
    "# Start tensorboard.\n",
    "%load_ext tensorboard\n",
    "%tensorboard --logdir lightning_logs/"
   ]
  },
  {
   "cell_type": "markdown",
   "id": "05f9f857",
   "metadata": {},
   "source": [
    "## Hyperparameters optimization"
   ]
  },
  {
   "cell_type": "code",
   "execution_count": 4,
   "id": "fdc7235c",
   "metadata": {},
   "outputs": [],
   "source": [
    "### Define the objective function\n",
    "\n",
    "def objective(trial):\n",
    "\n",
    "    \n",
    "    # Generate the optimizers.\n",
    "    optimizer_name = trial.suggest_categorical(\"optimizer\", [\"Adam\", \"RMSprop\", \"SGD\"])\n",
    "    lr = trial.suggest_float(\"lr\", 1e-5, 1e-1, log=True)\n",
    "    \n",
    "    parameters = {\n",
    "    \"act\" : \"ReLU\", \n",
    "    \"optimizer\" : optimizer_name, \n",
    "    \"loss_fn\" : \"CrossEntropyLoss\",\n",
    "    \"lr\" : lr, \n",
    "    \"L2_reg\" : 0.0, \n",
    "    \"drop_p\" : 0.1,\n",
    "}\n",
    "    \n",
    "    # Generate the model.\n",
    "    model = ConvNet(parameters)\n",
    "\n",
    "    \n",
    "    trainer.fit(model, dm)\n",
    "    \n",
    "    \n",
    "    return np.mean[model.val_loss[-100:-1]]\n",
    "\n",
    "\n"
   ]
  },
  {
   "cell_type": "code",
   "execution_count": 5,
   "id": "6e91e240",
   "metadata": {},
   "outputs": [
    {
     "name": "stderr",
     "output_type": "stream",
     "text": [
      "\u001b[32m[I 2021-08-31 11:25:13,295]\u001b[0m A new study created in memory with name: no-name-d750050d-b93b-4da5-b616-b9f1ba967760\u001b[0m\n",
      "/home/alberto/anaconda3/lib/python3.8/site-packages/pytorch_lightning/core/datamodule.py:423: LightningDeprecationWarning: DataModule.setup has already been called, so it will not be called again. In v1.6 this behavior will change to always call DataModule.setup.\n",
      "  rank_zero_deprecation(\n",
      "LOCAL_RANK: 0 - CUDA_VISIBLE_DEVICES: [0]\n"
     ]
    },
    {
     "name": "stdout",
     "output_type": "stream",
     "text": [
      "Network initialized\n"
     ]
    },
    {
     "name": "stderr",
     "output_type": "stream",
     "text": [
      "\n",
      "  | Name    | Type             | Params\n",
      "---------------------------------------------\n",
      "0 | loss_fn | CrossEntropyLoss | 0     \n",
      "1 | cnn     | Sequential       | 13.2 K\n",
      "2 | lin     | Sequential       | 67.0 K\n",
      "---------------------------------------------\n",
      "80.2 K    Trainable params\n",
      "0         Non-trainable params\n",
      "80.2 K    Total params\n",
      "0.321     Total estimated model params size (MB)\n"
     ]
    },
    {
     "data": {
      "application/vnd.jupyter.widget-view+json": {
       "model_id": "",
       "version_major": 2,
       "version_minor": 0
      },
      "text/plain": [
       "Validation sanity check: 0it [00:00, ?it/s]"
      ]
     },
     "metadata": {},
     "output_type": "display_data"
    },
    {
     "name": "stderr",
     "output_type": "stream",
     "text": [
      "/home/alberto/anaconda3/lib/python3.8/site-packages/pytorch_lightning/trainer/data_loading.py:105: UserWarning: The dataloader, val dataloader 0, does not have many workers which may be a bottleneck. Consider increasing the value of the `num_workers` argument` (try 8 which is the number of cpus on this machine) in the `DataLoader` init to improve performance.\n",
      "  rank_zero_warn(\n",
      "/home/alberto/anaconda3/lib/python3.8/site-packages/torch/nn/functional.py:718: UserWarning: Named tensors and all their associated APIs are an experimental feature and subject to change. Please do not use them for anything important until they are released as stable. (Triggered internally at  /pytorch/c10/core/TensorImpl.h:1156.)\n",
      "  return torch.max_pool2d(input, kernel_size, stride, padding, dilation, ceil_mode)\n",
      "/home/alberto/anaconda3/lib/python3.8/site-packages/deprecate/deprecation.py:115: LightningDeprecationWarning: The `accuracy` was deprecated since v1.3.0 in favor of `torchmetrics.functional.classification.accuracy.accuracy`. It will be removed in v1.5.0.\n",
      "  stream(template_mgs % msg_args)\n",
      "/home/alberto/anaconda3/lib/python3.8/site-packages/pytorch_lightning/trainer/data_loading.py:105: UserWarning: The dataloader, train dataloader, does not have many workers which may be a bottleneck. Consider increasing the value of the `num_workers` argument` (try 8 which is the number of cpus on this machine) in the `DataLoader` init to improve performance.\n",
      "  rank_zero_warn(\n"
     ]
    },
    {
     "data": {
      "application/vnd.jupyter.widget-view+json": {
       "model_id": "b2a41be44f9341429e03b50373e38ea9",
       "version_major": 2,
       "version_minor": 0
      },
      "text/plain": [
       "Training: -1it [00:00, ?it/s]"
      ]
     },
     "metadata": {},
     "output_type": "display_data"
    },
    {
     "data": {
      "application/vnd.jupyter.widget-view+json": {
       "model_id": "",
       "version_major": 2,
       "version_minor": 0
      },
      "text/plain": [
       "Validating: 0it [00:00, ?it/s]"
      ]
     },
     "metadata": {},
     "output_type": "display_data"
    },
    {
     "data": {
      "application/vnd.jupyter.widget-view+json": {
       "model_id": "",
       "version_major": 2,
       "version_minor": 0
      },
      "text/plain": [
       "Validating: 0it [00:00, ?it/s]"
      ]
     },
     "metadata": {},
     "output_type": "display_data"
    },
    {
     "data": {
      "application/vnd.jupyter.widget-view+json": {
       "model_id": "",
       "version_major": 2,
       "version_minor": 0
      },
      "text/plain": [
       "Validating: 0it [00:00, ?it/s]"
      ]
     },
     "metadata": {},
     "output_type": "display_data"
    },
    {
     "data": {
      "application/vnd.jupyter.widget-view+json": {
       "model_id": "",
       "version_major": 2,
       "version_minor": 0
      },
      "text/plain": [
       "Validating: 0it [00:00, ?it/s]"
      ]
     },
     "metadata": {},
     "output_type": "display_data"
    },
    {
     "name": "stderr",
     "output_type": "stream",
     "text": [
      "\u001b[33m[W 2021-08-31 11:25:54,683]\u001b[0m Trial 0 failed because of the following error: TypeError(\"'function' object is not subscriptable\")\u001b[0m\n",
      "Traceback (most recent call last):\n",
      "  File \"/home/alberto/anaconda3/lib/python3.8/site-packages/optuna/study/_optimize.py\", line 213, in _run_trial\n",
      "    value_or_values = func(trial)\n",
      "  File \"/tmp/ipykernel_15309/4053391190.py\", line 26, in objective\n",
      "    return np.mean[model.val_loss[-100:-1]]\n",
      "TypeError: 'function' object is not subscriptable\n"
     ]
    },
    {
     "ename": "TypeError",
     "evalue": "'function' object is not subscriptable",
     "output_type": "error",
     "traceback": [
      "\u001b[0;31m---------------------------------------------------------------------------\u001b[0m",
      "\u001b[0;31mTypeError\u001b[0m                                 Traceback (most recent call last)",
      "\u001b[0;32m/tmp/ipykernel_15309/3718535679.py\u001b[0m in \u001b[0;36m<module>\u001b[0;34m\u001b[0m\n\u001b[1;32m      1\u001b[0m \u001b[0mstudy\u001b[0m \u001b[0;34m=\u001b[0m \u001b[0mopt\u001b[0m\u001b[0;34m.\u001b[0m\u001b[0mcreate_study\u001b[0m\u001b[0;34m(\u001b[0m\u001b[0mdirection\u001b[0m\u001b[0;34m=\u001b[0m\u001b[0;34m\"minimize\"\u001b[0m\u001b[0;34m)\u001b[0m\u001b[0;34m\u001b[0m\u001b[0;34m\u001b[0m\u001b[0m\n\u001b[0;32m----> 2\u001b[0;31m \u001b[0mstudy\u001b[0m\u001b[0;34m.\u001b[0m\u001b[0moptimize\u001b[0m\u001b[0;34m(\u001b[0m\u001b[0mobjective\u001b[0m\u001b[0;34m,\u001b[0m \u001b[0mn_trials\u001b[0m\u001b[0;34m=\u001b[0m\u001b[0;36m100\u001b[0m\u001b[0;34m)\u001b[0m\u001b[0;34m\u001b[0m\u001b[0;34m\u001b[0m\u001b[0m\n\u001b[0m\u001b[1;32m      3\u001b[0m \u001b[0;34m\u001b[0m\u001b[0m\n\u001b[1;32m      4\u001b[0m \u001b[0;34m\u001b[0m\u001b[0m\n",
      "\u001b[0;32m~/anaconda3/lib/python3.8/site-packages/optuna/study/study.py\u001b[0m in \u001b[0;36moptimize\u001b[0;34m(self, func, n_trials, timeout, n_jobs, catch, callbacks, gc_after_trial, show_progress_bar)\u001b[0m\n\u001b[1;32m    398\u001b[0m             )\n\u001b[1;32m    399\u001b[0m \u001b[0;34m\u001b[0m\u001b[0m\n\u001b[0;32m--> 400\u001b[0;31m         _optimize(\n\u001b[0m\u001b[1;32m    401\u001b[0m             \u001b[0mstudy\u001b[0m\u001b[0;34m=\u001b[0m\u001b[0mself\u001b[0m\u001b[0;34m,\u001b[0m\u001b[0;34m\u001b[0m\u001b[0;34m\u001b[0m\u001b[0m\n\u001b[1;32m    402\u001b[0m             \u001b[0mfunc\u001b[0m\u001b[0;34m=\u001b[0m\u001b[0mfunc\u001b[0m\u001b[0;34m,\u001b[0m\u001b[0;34m\u001b[0m\u001b[0;34m\u001b[0m\u001b[0m\n",
      "\u001b[0;32m~/anaconda3/lib/python3.8/site-packages/optuna/study/_optimize.py\u001b[0m in \u001b[0;36m_optimize\u001b[0;34m(study, func, n_trials, timeout, n_jobs, catch, callbacks, gc_after_trial, show_progress_bar)\u001b[0m\n\u001b[1;32m     64\u001b[0m     \u001b[0;32mtry\u001b[0m\u001b[0;34m:\u001b[0m\u001b[0;34m\u001b[0m\u001b[0;34m\u001b[0m\u001b[0m\n\u001b[1;32m     65\u001b[0m         \u001b[0;32mif\u001b[0m \u001b[0mn_jobs\u001b[0m \u001b[0;34m==\u001b[0m \u001b[0;36m1\u001b[0m\u001b[0;34m:\u001b[0m\u001b[0;34m\u001b[0m\u001b[0;34m\u001b[0m\u001b[0m\n\u001b[0;32m---> 66\u001b[0;31m             _optimize_sequential(\n\u001b[0m\u001b[1;32m     67\u001b[0m                 \u001b[0mstudy\u001b[0m\u001b[0;34m,\u001b[0m\u001b[0;34m\u001b[0m\u001b[0;34m\u001b[0m\u001b[0m\n\u001b[1;32m     68\u001b[0m                 \u001b[0mfunc\u001b[0m\u001b[0;34m,\u001b[0m\u001b[0;34m\u001b[0m\u001b[0;34m\u001b[0m\u001b[0m\n",
      "\u001b[0;32m~/anaconda3/lib/python3.8/site-packages/optuna/study/_optimize.py\u001b[0m in \u001b[0;36m_optimize_sequential\u001b[0;34m(study, func, n_trials, timeout, catch, callbacks, gc_after_trial, reseed_sampler_rng, time_start, progress_bar)\u001b[0m\n\u001b[1;32m    161\u001b[0m \u001b[0;34m\u001b[0m\u001b[0m\n\u001b[1;32m    162\u001b[0m         \u001b[0;32mtry\u001b[0m\u001b[0;34m:\u001b[0m\u001b[0;34m\u001b[0m\u001b[0;34m\u001b[0m\u001b[0m\n\u001b[0;32m--> 163\u001b[0;31m             \u001b[0mtrial\u001b[0m \u001b[0;34m=\u001b[0m \u001b[0m_run_trial\u001b[0m\u001b[0;34m(\u001b[0m\u001b[0mstudy\u001b[0m\u001b[0;34m,\u001b[0m \u001b[0mfunc\u001b[0m\u001b[0;34m,\u001b[0m \u001b[0mcatch\u001b[0m\u001b[0;34m)\u001b[0m\u001b[0;34m\u001b[0m\u001b[0;34m\u001b[0m\u001b[0m\n\u001b[0m\u001b[1;32m    164\u001b[0m         \u001b[0;32mexcept\u001b[0m \u001b[0mException\u001b[0m\u001b[0;34m:\u001b[0m\u001b[0;34m\u001b[0m\u001b[0;34m\u001b[0m\u001b[0m\n\u001b[1;32m    165\u001b[0m             \u001b[0;32mraise\u001b[0m\u001b[0;34m\u001b[0m\u001b[0;34m\u001b[0m\u001b[0m\n",
      "\u001b[0;32m~/anaconda3/lib/python3.8/site-packages/optuna/study/_optimize.py\u001b[0m in \u001b[0;36m_run_trial\u001b[0;34m(study, func, catch)\u001b[0m\n\u001b[1;32m    262\u001b[0m \u001b[0;34m\u001b[0m\u001b[0m\n\u001b[1;32m    263\u001b[0m     \u001b[0;32mif\u001b[0m \u001b[0mstate\u001b[0m \u001b[0;34m==\u001b[0m \u001b[0mTrialState\u001b[0m\u001b[0;34m.\u001b[0m\u001b[0mFAIL\u001b[0m \u001b[0;32mand\u001b[0m \u001b[0mfunc_err\u001b[0m \u001b[0;32mis\u001b[0m \u001b[0;32mnot\u001b[0m \u001b[0;32mNone\u001b[0m \u001b[0;32mand\u001b[0m \u001b[0;32mnot\u001b[0m \u001b[0misinstance\u001b[0m\u001b[0;34m(\u001b[0m\u001b[0mfunc_err\u001b[0m\u001b[0;34m,\u001b[0m \u001b[0mcatch\u001b[0m\u001b[0;34m)\u001b[0m\u001b[0;34m:\u001b[0m\u001b[0;34m\u001b[0m\u001b[0;34m\u001b[0m\u001b[0m\n\u001b[0;32m--> 264\u001b[0;31m         \u001b[0;32mraise\u001b[0m \u001b[0mfunc_err\u001b[0m\u001b[0;34m\u001b[0m\u001b[0;34m\u001b[0m\u001b[0m\n\u001b[0m\u001b[1;32m    265\u001b[0m     \u001b[0;32mreturn\u001b[0m \u001b[0mtrial\u001b[0m\u001b[0;34m\u001b[0m\u001b[0;34m\u001b[0m\u001b[0m\n\u001b[1;32m    266\u001b[0m \u001b[0;34m\u001b[0m\u001b[0m\n",
      "\u001b[0;32m~/anaconda3/lib/python3.8/site-packages/optuna/study/_optimize.py\u001b[0m in \u001b[0;36m_run_trial\u001b[0;34m(study, func, catch)\u001b[0m\n\u001b[1;32m    211\u001b[0m \u001b[0;34m\u001b[0m\u001b[0m\n\u001b[1;32m    212\u001b[0m     \u001b[0;32mtry\u001b[0m\u001b[0;34m:\u001b[0m\u001b[0;34m\u001b[0m\u001b[0;34m\u001b[0m\u001b[0m\n\u001b[0;32m--> 213\u001b[0;31m         \u001b[0mvalue_or_values\u001b[0m \u001b[0;34m=\u001b[0m \u001b[0mfunc\u001b[0m\u001b[0;34m(\u001b[0m\u001b[0mtrial\u001b[0m\u001b[0;34m)\u001b[0m\u001b[0;34m\u001b[0m\u001b[0;34m\u001b[0m\u001b[0m\n\u001b[0m\u001b[1;32m    214\u001b[0m     \u001b[0;32mexcept\u001b[0m \u001b[0mexceptions\u001b[0m\u001b[0;34m.\u001b[0m\u001b[0mTrialPruned\u001b[0m \u001b[0;32mas\u001b[0m \u001b[0me\u001b[0m\u001b[0;34m:\u001b[0m\u001b[0;34m\u001b[0m\u001b[0;34m\u001b[0m\u001b[0m\n\u001b[1;32m    215\u001b[0m         \u001b[0;31m# TODO(mamu): Handle multi-objective cases.\u001b[0m\u001b[0;34m\u001b[0m\u001b[0;34m\u001b[0m\u001b[0;34m\u001b[0m\u001b[0m\n",
      "\u001b[0;32m/tmp/ipykernel_15309/4053391190.py\u001b[0m in \u001b[0;36mobjective\u001b[0;34m(trial)\u001b[0m\n\u001b[1;32m     24\u001b[0m \u001b[0;34m\u001b[0m\u001b[0m\n\u001b[1;32m     25\u001b[0m \u001b[0;34m\u001b[0m\u001b[0m\n\u001b[0;32m---> 26\u001b[0;31m     \u001b[0;32mreturn\u001b[0m \u001b[0mnp\u001b[0m\u001b[0;34m.\u001b[0m\u001b[0mmean\u001b[0m\u001b[0;34m[\u001b[0m\u001b[0mmodel\u001b[0m\u001b[0;34m.\u001b[0m\u001b[0mval_loss\u001b[0m\u001b[0;34m[\u001b[0m\u001b[0;34m-\u001b[0m\u001b[0;36m100\u001b[0m\u001b[0;34m:\u001b[0m\u001b[0;34m-\u001b[0m\u001b[0;36m1\u001b[0m\u001b[0;34m]\u001b[0m\u001b[0;34m]\u001b[0m\u001b[0;34m\u001b[0m\u001b[0;34m\u001b[0m\u001b[0m\n\u001b[0m\u001b[1;32m     27\u001b[0m \u001b[0;34m\u001b[0m\u001b[0m\n\u001b[1;32m     28\u001b[0m \u001b[0;34m\u001b[0m\u001b[0m\n",
      "\u001b[0;31mTypeError\u001b[0m: 'function' object is not subscriptable"
     ]
    }
   ],
   "source": [
    "\n",
    "study = opt.create_study(direction=\"minimize\")\n",
    "study.optimize(objective, n_trials=100)\n",
    "\n",
    "   "
   ]
  },
  {
   "cell_type": "markdown",
   "id": "76c0c280",
   "metadata": {},
   "source": [
    "## Save and load model"
   ]
  },
  {
   "cell_type": "code",
   "execution_count": null,
   "id": "10404dc2",
   "metadata": {},
   "outputs": [],
   "source": [
    "### Save network parameters\n",
    "### Save the network state\n",
    "# The state dictionary includes all the parameters of the network\n",
    "net_dict = { \"state\" : net.state_dict(),\n",
    "            \"parameters\" : parameters1}\n",
    "# Save the state dict to a file\n",
    "torch.save(net_dict,'ConvNet_parameters.torch')\n",
    "print(net_dict)"
   ]
  },
  {
   "cell_type": "code",
   "execution_count": null,
   "id": "17fc35f0",
   "metadata": {},
   "outputs": [],
   "source": [
    "### Reload the network state\n",
    "# First initialize the network (if not already done)\n",
    "\n",
    "p = 0.1\n",
    "net = ConvNet( p)\n",
    "\n",
    "net.to(device)\n",
    "# Load the state dict previously saved\n",
    "net_state_dict = torch.load('ConvNet_parameters.torch')\n",
    "# Update the network parameters\n",
    "net.load_state_dict(net_state_dict)"
   ]
  },
  {
   "cell_type": "markdown",
   "id": "fa8f53ee",
   "metadata": {},
   "source": [
    "# Network analysis"
   ]
  },
  {
   "cell_type": "markdown",
   "id": "17041dd7",
   "metadata": {},
   "source": [
    "## Accuracy\n",
    "    \n",
    "    "
   ]
  },
  {
   "cell_type": "code",
   "execution_count": null,
   "id": "01f5cd85",
   "metadata": {},
   "outputs": [],
   "source": [
    "### Test the network on test dataset to check accuracy on mnist classification\n",
    "def my_accuracy(network, device, dataloader):\n",
    "    # Set evaluation mode\n",
    "    network.eval()\n",
    "\n",
    "    total = 0\n",
    "    correct = 0\n",
    "    mismatched = []\n",
    "    \n",
    "    with torch.no_grad():\n",
    "        for  (x_batch, label_batch) in dataloader:\n",
    "                \n",
    "            # Move to device\n",
    "            x_batch = x_batch.to(device)\n",
    "            label_batch = label_batch.to(device)\n",
    "\n",
    "            # Forward pass\n",
    "            out = network(x_batch)\n",
    "            \n",
    "            out = out.squeeze()\n",
    "\n",
    "            # Apply softmax \n",
    "            m = nn.Softmax(dim=0)\n",
    "            out_soft = m(out)\n",
    "\n",
    "           \n",
    "            # Take the prediction\n",
    "            predicted = out_soft.detach().cpu().argmax().item()\n",
    "\n",
    "            # True value\n",
    "            true = label_batch.detach().cpu().item()\n",
    "\n",
    "            if predicted==true:\n",
    "                correct += 1\n",
    "            else:\n",
    "                mismatched.append((x_batch.detach().cpu().numpy(), predicted, true))\n",
    "                                  \n",
    "            total += 1\n",
    "\n",
    "    return mismatched, 100.0*correct/total"
   ]
  },
  {
   "cell_type": "code",
   "execution_count": null,
   "id": "f8bf6db2",
   "metadata": {},
   "outputs": [],
   "source": [
    "\n",
    "mismatched, acc = my_accuracy(net, device = \"cpu\")\n",
    "print(\"Test accuracy: \", acc, \"%\")"
   ]
  },
  {
   "cell_type": "markdown",
   "id": "333d7202",
   "metadata": {},
   "source": [
    "### Plot mismatched numbers\n"
   ]
  },
  {
   "cell_type": "code",
   "execution_count": null,
   "id": "2f25b9b8",
   "metadata": {},
   "outputs": [],
   "source": [
    "\n",
    "\n",
    "# Plot Mismatched numbers\n",
    "figure = plt.figure(figsize=(8, 8))\n",
    "cols, rows = 4,4\n",
    "\n",
    "\n",
    "for i in range(rows*cols):\n",
    "    img = mismatched[i][0]\n",
    "    \n",
    "    figure.add_subplot(rows, cols, i+1)\n",
    "    plt.axis(\"off\")\n",
    "    plt.imshow(img.squeeze(), cmap=\"gray\"  )\n",
    "    plt.title(\"Predicted: \"+str(mismatched[i][1]))\n",
    "plt.show()"
   ]
  },
  {
   "cell_type": "markdown",
   "id": "1c150f4d",
   "metadata": {},
   "source": [
    "### Confusion matrix"
   ]
  },
  {
   "cell_type": "code",
   "execution_count": null,
   "id": "c72157b5",
   "metadata": {},
   "outputs": [],
   "source": []
  },
  {
   "cell_type": "markdown",
   "id": "fef52a11",
   "metadata": {},
   "source": [
    "## Network parameters "
   ]
  },
  {
   "cell_type": "code",
   "execution_count": null,
   "id": "5671b48a",
   "metadata": {},
   "outputs": [],
   "source": [
    "# Access convolution network parameters\n",
    "\n",
    "dense_weight = net.lin[0].weight.data.cpu().numpy()\n",
    "dense_bias = net.lin[0].bias.data.cpu().numpy()\n",
    "out_weight = net.lin[3].weight.data.cpu().numpy()\n",
    "out_bias = net.lin[3].bias.data.cpu().numpy()"
   ]
  },
  {
   "cell_type": "markdown",
   "id": "de116b93",
   "metadata": {},
   "source": [
    "### Convolution filtered images"
   ]
  },
  {
   "cell_type": "code",
   "execution_count": null,
   "id": "b94e2d79",
   "metadata": {},
   "outputs": [],
   "source": [
    "# Acces convolution filters\n",
    "conv1 = net.cnn[0].weight.data.cpu()\n",
    "conv2 = net.cnn[4].weight.data.cpu()"
   ]
  },
  {
   "cell_type": "code",
   "execution_count": null,
   "id": "02661834",
   "metadata": {},
   "outputs": [],
   "source": [
    "### First convolution filter\n",
    "fig = plt.figure(figsize=(8, 8))\n",
    "cols, rows = 4,4\n",
    "\n",
    "# Take an image and apply convolution\n",
    "img, label = train_data[0]\n",
    "img = F.conv2d(img.unsqueeze(dim=0), conv1)\n",
    "\n",
    "# Plot filtered images\n",
    "\n",
    "for i in range(16):\n",
    "    fig.add_subplot(rows, cols, i+1)\n",
    "    plt.axis(\"off\")\n",
    "    #plt.title(\"Filter %d\" %(i+1))\n",
    "    plt.imshow(img.squeeze().numpy()[i], cmap=\"gray\")\n",
    "    \n",
    "plt.tight_layout()\n",
    "plt.show()\n",
    "\n",
    "\n"
   ]
  },
  {
   "cell_type": "code",
   "execution_count": null,
   "id": "8acea487",
   "metadata": {},
   "outputs": [],
   "source": [
    "### Second convolution filter\n",
    "fig = plt.figure(figsize=(8, 8))\n",
    "cols, rows = 8,4\n",
    "\n",
    "# Take an image and apply convolution\n",
    "img, label = train_data[9]\n",
    "img = F.conv2d(img.unsqueeze(dim=0), conv1)\n",
    "img = F.relu(img)\n",
    "img  = F.max_pool2d(img, kernel_size = 2)\n",
    "img = F.conv2d(img, conv2)\n",
    "\n",
    "# Plot filtered images\n",
    "\n",
    "for i in range(32):\n",
    "    fig.add_subplot(rows, cols, i+1)\n",
    "    plt.axis(\"off\")\n",
    "    #plt.title(\"Filter %d\" %(i+1))\n",
    "    plt.imshow(img.squeeze().numpy()[i], cmap=\"gray\")\n",
    "    \n",
    "plt.tight_layout()\n",
    "plt.show()"
   ]
  },
  {
   "cell_type": "code",
   "execution_count": null,
   "id": "7d833dd3",
   "metadata": {},
   "outputs": [],
   "source": []
  }
 ],
 "metadata": {
  "kernelspec": {
   "display_name": "Python 3 (ipykernel)",
   "language": "python",
   "name": "python3"
  },
  "language_info": {
   "codemirror_mode": {
    "name": "ipython",
    "version": 3
   },
   "file_extension": ".py",
   "mimetype": "text/x-python",
   "name": "python",
   "nbconvert_exporter": "python",
   "pygments_lexer": "ipython3",
   "version": "3.8.8"
  }
 },
 "nbformat": 4,
 "nbformat_minor": 5
}
