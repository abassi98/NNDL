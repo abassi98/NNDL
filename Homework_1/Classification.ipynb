{
 "cells": [
  {
   "cell_type": "markdown",
   "id": "1e869ab8",
   "metadata": {},
   "source": [
    "# Classification"
   ]
  },
  {
   "cell_type": "code",
   "execution_count": 1,
   "id": "9de78412",
   "metadata": {},
   "outputs": [],
   "source": [
    "#!usr/bin/env python3\n",
    "\n",
    "# Basic import\n",
    "import numpy as np\n",
    "import matplotlib.pyplot as plt\n",
    "\n",
    "# Pytorch import\n",
    "import torch\n",
    "import torch.nn as nn\n",
    "import torch.optim as optim\n",
    "from torch.utils.data import Dataset, DataLoader, random_split, ConcatDataset, Subset\n",
    "from torchvision import transforms, datasets\n",
    "import torch.nn.functional as F\n",
    "\n",
    "# Import models and training functions\n",
    "from models import ConvNet, FFNet\n",
    "from training import train_epoch, val_epoch\n",
    "from functions import my_accuracy\n",
    "\n",
    "# Import progress bars\n",
    "from tqdm import tqdm\n",
    "from tqdm.notebook import tqdm_notebook\n",
    "from time import sleep\n",
    "\n",
    "\n"
   ]
  },
  {
   "cell_type": "markdown",
   "id": "410e9852",
   "metadata": {},
   "source": [
    "## Dataset and Dataloader"
   ]
  },
  {
   "cell_type": "code",
   "execution_count": 2,
   "id": "212ac27f",
   "metadata": {},
   "outputs": [],
   "source": [
    "### Dataset\n",
    "\n",
    "dataset = datasets.MNIST('MNIST', train = True, download = True,\n",
    "                             transform = transforms.Compose([\n",
    "                               transforms.ToTensor()\n",
    "                             ]))\n",
    "\n",
    "test_data = datasets.MNIST('MNIST', train = False, download = True,\n",
    "                             transform=transforms.Compose([\n",
    "                               transforms.ToTensor()\n",
    "                             ]))\n",
    "\n",
    "# Divide data dataset in train dataset and val dataset\n",
    "train_data, val_data = torch.utils.data.random_split(dataset, [50000, 10000])"
   ]
  },
  {
   "cell_type": "code",
   "execution_count": 3,
   "id": "c58524de",
   "metadata": {},
   "outputs": [],
   "source": [
    "### Dataloaders\n",
    "train_dataloader = DataLoader(train_data, batch_size = 100, shuffle = True, num_workers=0)\n",
    "val_dataloader = DataLoader(val_data, batch_size = 100, shuffle=True, num_workers=0)\n",
    "test_dataloader = DataLoader(test_data, batch_size = 1, shuffle=True, num_workers=0)"
   ]
  },
  {
   "cell_type": "code",
   "execution_count": 4,
   "id": "fb307ef1",
   "metadata": {},
   "outputs": [
    {
     "data": {
      "image/png": "[encoded data removed]",
      "text/plain": [
       "<Figure size 576x576 with 16 Axes>"
      ]
     },
     "metadata": {
      "needs_background": "light"
     },
     "output_type": "display_data"
    }
   ],
   "source": [
    "# Plot Mnist\n",
    "figure = plt.figure(figsize=(8, 8))\n",
    "cols, rows = 4,4\n",
    "\n",
    "\n",
    "for i in range(1,cols * rows+1):\n",
    "    sample_idx = torch.randint(len(train_data), size=(1,)).item()\n",
    "    img, label = train_data[sample_idx]\n",
    "    figure.add_subplot(rows, cols, i)\n",
    "    plt.axis(\"off\")\n",
    "    plt.imshow(img.squeeze(), cmap=\"gray\")\n",
    "plt.show()"
   ]
  },
  {
   "cell_type": "markdown",
   "id": "5a0ac769",
   "metadata": {},
   "source": [
    "## Define the network"
   ]
  },
  {
   "cell_type": "code",
   "execution_count": 5,
   "id": "2717a13f",
   "metadata": {},
   "outputs": [
    {
     "name": "stdout",
     "output_type": "stream",
     "text": [
      "Training device: cpu\n"
     ]
    }
   ],
   "source": [
    "# Check if the GPU is available\n",
    "device = torch.device(\"cuda\") if torch.cuda.is_available() else torch.device(\"cpu\")\n",
    "print(f\"Training device: {device}\")"
   ]
  },
  {
   "cell_type": "code",
   "execution_count": 6,
   "id": "59684431",
   "metadata": {},
   "outputs": [
    {
     "name": "stdout",
     "output_type": "stream",
     "text": [
      "Network initialized\n"
     ]
    },
    {
     "data": {
      "text/plain": [
       "ConvNet(\n",
       "  (cnn): Sequential(\n",
       "    (0): Conv2d(1, 16, kernel_size=(5, 5), stride=(1, 1))\n",
       "    (1): ReLU()\n",
       "    (2): MaxPool2d(kernel_size=2, stride=2, padding=0, dilation=1, ceil_mode=False)\n",
       "    (3): Dropout(p=0.1, inplace=False)\n",
       "    (4): Conv2d(16, 32, kernel_size=(5, 5), stride=(1, 1))\n",
       "    (5): ReLU()\n",
       "    (6): MaxPool2d(kernel_size=2, stride=2, padding=0, dilation=1, ceil_mode=False)\n",
       "    (7): Dropout(p=0.1, inplace=False)\n",
       "  )\n",
       "  (lin): Sequential(\n",
       "    (0): Linear(in_features=512, out_features=128, bias=True)\n",
       "    (1): ReLU()\n",
       "    (2): Dropout(p=0.1, inplace=False)\n",
       "    (3): Linear(in_features=128, out_features=10, bias=True)\n",
       "  )\n",
       ")"
      ]
     },
     "execution_count": 6,
     "metadata": {},
     "output_type": "execute_result"
    }
   ],
   "source": [
    "# Define the pytorch_lightning networks\n",
    "parameters1 = {\n",
    "    \"act\" : \"ReLU\", \n",
    "    \"optimizer\" : \"Adam\", \n",
    "    \"loss_fn\" : \"CrossEntropyLoss\",\n",
    "    \"lr\" : 1e-3, \n",
    "    \"L2_reg\" : 0.0, \n",
    "    \"drop_p\" : 0.1,\n",
    "}\n",
    "\n",
    "parameters2 = {\n",
    "    \"act\" : \"ReLU\", \n",
    "    \"optimizer\" : \"RMSprop\", \n",
    "    \"loss_fn\" : \"CrossEntropyLoss\",\n",
    "    \"lr\" : 1e-3, \n",
    "    \"L2_reg\" : 0.0, \n",
    "    \"drop_p\" : 0.1,\n",
    "}\n",
    "\n",
    "parameters3 = {\n",
    "    \"act\" : \"ReLU\", \n",
    "    \"optimizer\" : \"SGD\", \n",
    "    \"loss_fn\" : \"CrossEntropyLoss\",\n",
    "    \"lr\" : 1e-3, \n",
    "    \"L2_reg\" : 0.0, \n",
    "    \"drop_p\" : 0.1,\n",
    "}\n",
    "\n",
    "\n",
    "torch.manual_seed(0)\n",
    "net = ConvNet(parameters1)\n",
    "net.to(device)"
   ]
  },
  {
   "cell_type": "markdown",
   "id": "dfbc5e0f",
   "metadata": {},
   "source": [
    "## Training"
   ]
  },
  {
   "cell_type": "code",
   "execution_count": null,
   "id": "723fff5a",
   "metadata": {},
   "outputs": [],
   "source": [
    "# Define the loss function\n",
    "loss_function = nn.CrossEntropyLoss()\n",
    "\n",
    "# Define the optimizer\n",
    "optimizer = optim.Adam(net.parameters(), lr = 1e-4, weight_decay = 0.0)"
   ]
  },
  {
   "cell_type": "code",
   "execution_count": null,
   "id": "b8b03b6e",
   "metadata": {},
   "outputs": [],
   "source": [
    "### Training loop\n",
    "num_epochs = 50\n",
    "\n",
    "# Pogress bar\n",
    "pbar = tqdm_notebook(range(num_epochs))\n",
    "\n",
    "# Inizialize empty lists to save losses\n",
    "train_loss_log = []\n",
    "val_loss_log = []\n",
    "\n",
    "for epoch_num in pbar:\n",
    "    # Tran epoch\n",
    "    mean_train_loss = train_epoch(net, device, train_dataloader, loss_function, optimizer)\n",
    "\n",
    "    # Validate epoch\n",
    "    mean_val_loss = val_epoch(net,  device, val_dataloader, loss_function)\n",
    "\n",
    "    # Append losses\n",
    "    train_loss_log.append(mean_train_loss)\n",
    "    val_loss_log.append(mean_val_loss)\n",
    "\n",
    "    # Set pbar description\n",
    "    pbar.set_description(\"Train loss: %s\" %round(mean_train_loss,2)+\",\"+\"Validation loss %s\" %round(mean_val_loss,2))\n",
    "    \n",
    "\n",
    "    "
   ]
  },
  {
   "cell_type": "code",
   "execution_count": null,
   "id": "bed1ff0c",
   "metadata": {},
   "outputs": [],
   "source": [
    "### Plot losses\n",
    "plt.figure(figsize=(12,8))\n",
    "plt.semilogy(train_loss_log, label='Train loss')\n",
    "plt.semilogy(val_loss_log, label='Validation loss')\n",
    "plt.xlabel('Epoch')\n",
    "plt.ylabel('Loss')\n",
    "plt.grid()\n",
    "plt.legend()\n",
    "plt.show()"
   ]
  },
  {
   "cell_type": "markdown",
   "id": "76c0c280",
   "metadata": {},
   "source": [
    "## Save and load model"
   ]
  },
  {
   "cell_type": "code",
   "execution_count": null,
   "id": "10404dc2",
   "metadata": {},
   "outputs": [],
   "source": [
    "### Save network parameters\n",
    "### Save the network state\n",
    "# The state dictionary includes all the parameters of the network\n",
    "net_dict = { \"state\" : net.state_dict(),\n",
    "            \"parameters\" : parameters1}\n",
    "# Save the state dict to a file\n",
    "torch.save(net_dict,'ConvNet_parameters.torch')\n"
   ]
  },
  {
   "cell_type": "code",
   "execution_count": 7,
   "id": "17fc35f0",
   "metadata": {},
   "outputs": [
    {
     "name": "stdout",
     "output_type": "stream",
     "text": [
      "Network initialized\n"
     ]
    },
    {
     "data": {
      "text/plain": [
       "<All keys matched successfully>"
      ]
     },
     "execution_count": 7,
     "metadata": {},
     "output_type": "execute_result"
    }
   ],
   "source": [
    "### Reload the network state\n",
    "\n",
    "# Load the state dict previously saved\n",
    "net_dict = torch.load('ConvNet_parameters.torch')\n",
    "net_state_dict = net_dict[\"state\"]\n",
    "net_parameters_dict = net_dict[\"parameters\"]\n",
    "\n",
    "# Redefine the network and upload parameters\n",
    "net = ConvNet(net_parameters_dict)\n",
    "net.load_state_dict(net_state_dict)"
   ]
  },
  {
   "cell_type": "markdown",
   "id": "fa8f53ee",
   "metadata": {},
   "source": [
    "# Network analysis"
   ]
  },
  {
   "cell_type": "markdown",
   "id": "17041dd7",
   "metadata": {},
   "source": [
    "## Accuracy\n",
    "    \n",
    "    "
   ]
  },
  {
   "cell_type": "code",
   "execution_count": 8,
   "id": "f8bf6db2",
   "metadata": {},
   "outputs": [
    {
     "name": "stdout",
     "output_type": "stream",
     "text": [
      "Test accuracy:  99.11 %\n"
     ]
    }
   ],
   "source": [
    "### Compute accuracy of the model\n",
    "mismatched, confusion, acc = my_accuracy(net, device, test_dataloader)\n",
    "print(\"Test accuracy: \", acc, \"%\")"
   ]
  },
  {
   "cell_type": "markdown",
   "id": "333d7202",
   "metadata": {},
   "source": [
    "### Plot mismatched numbers\n"
   ]
  },
  {
   "cell_type": "code",
   "execution_count": 9,
   "id": "2f25b9b8",
   "metadata": {},
   "outputs": [
    {
     "data": {
      "image/png": "[encoded data removed]",
      "text/plain": [
       "<Figure size 576x576 with 16 Axes>"
      ]
     },
     "metadata": {
      "needs_background": "light"
     },
     "output_type": "display_data"
    }
   ],
   "source": [
    "# Plot Mismatched numbers\n",
    "figure = plt.figure(figsize=(8, 8))\n",
    "cols, rows = 4,4\n",
    "\n",
    "\n",
    "for i in range(rows*cols):\n",
    "    img = mismatched[i][0]\n",
    "    \n",
    "    figure.add_subplot(rows, cols, i+1)\n",
    "    plt.axis(\"off\")\n",
    "    plt.imshow(img.squeeze(), cmap=\"gray\"  )\n",
    "    plt.title(\"Predicted: \"+str(mismatched[i][1])+\"\\n\"+\"True: \"+str(mismatched[i][2]))\n",
    "plt.show()"
   ]
  },
  {
   "cell_type": "markdown",
   "id": "1c150f4d",
   "metadata": {},
   "source": [
    "### Confusion matrix"
   ]
  },
  {
   "cell_type": "code",
   "execution_count": 22,
   "id": "c72157b5",
   "metadata": {},
   "outputs": [
    {
     "data": {
      "image/png": "[encoded data removed]",
      "text/plain": [
       "<Figure size 432x288 with 2 Axes>"
      ]
     },
     "metadata": {
      "needs_background": "light"
     },
     "output_type": "display_data"
    }
   ],
   "source": [
    "### Build the confusion matrix\n",
    "from sklearn.metrics import confusion_matrix, plot_confusion_matrix, ConfusionMatrixDisplay\n",
    "\n",
    "# Get predictions and ground trues\n",
    "trues = confusion[0]\n",
    "predictions = confusion[1]\n",
    "\n",
    "# Compute and plot confusion matrix\n",
    "cm = confusion_matrix(trues, predictions, labels =np.array(range(10)) )\n",
    "disp = ConfusionMatrixDisplay(confusion_matrix=cm, display_labels = np.array(range(10)))\n",
    "disp.plot()\n",
    "plt.show()\n"
   ]
  },
  {
   "cell_type": "markdown",
   "id": "fef52a11",
   "metadata": {},
   "source": [
    "## Network parameters "
   ]
  },
  {
   "cell_type": "code",
   "execution_count": null,
   "id": "5671b48a",
   "metadata": {},
   "outputs": [],
   "source": [
    "# Access convolution network parameters\n",
    "\n",
    "dense_weight = net.lin[0].weight.data.cpu().numpy()\n",
    "dense_bias = net.lin[0].bias.data.cpu().numpy()\n",
    "out_weight = net.lin[3].weight.data.cpu().numpy()\n",
    "out_bias = net.lin[3].bias.data.cpu().numpy()"
   ]
  },
  {
   "cell_type": "markdown",
   "id": "de116b93",
   "metadata": {},
   "source": [
    "### Convolution filtered images"
   ]
  },
  {
   "cell_type": "code",
   "execution_count": null,
   "id": "b94e2d79",
   "metadata": {},
   "outputs": [],
   "source": [
    "# Acces convolution filters\n",
    "conv1 = net.cnn[0].weight.data.cpu()\n",
    "conv2 = net.cnn[4].weight.data.cpu()"
   ]
  },
  {
   "cell_type": "code",
   "execution_count": null,
   "id": "02661834",
   "metadata": {},
   "outputs": [],
   "source": [
    "### First convolution filter\n",
    "fig = plt.figure(figsize=(8, 8))\n",
    "cols, rows = 4,4\n",
    "\n",
    "# Take an image and apply convolution\n",
    "img, label = train_data[0]\n",
    "img = F.conv2d(img.unsqueeze(dim=0), conv1)\n",
    "\n",
    "# Plot filtered images\n",
    "\n",
    "for i in range(16):\n",
    "    fig.add_subplot(rows, cols, i+1)\n",
    "    plt.axis(\"off\")\n",
    "    #plt.title(\"Filter %d\" %(i+1))\n",
    "    plt.imshow(img.squeeze().numpy()[i], cmap=\"gray\")\n",
    "    \n",
    "plt.tight_layout()\n",
    "plt.show()\n",
    "\n",
    "\n"
   ]
  },
  {
   "cell_type": "code",
   "execution_count": null,
   "id": "8acea487",
   "metadata": {},
   "outputs": [],
   "source": [
    "### Second convolution filter\n",
    "fig = plt.figure(figsize=(8, 8))\n",
    "cols, rows = 8,4\n",
    "\n",
    "# Take an image and apply convolution\n",
    "img, label = train_data[9]\n",
    "img = F.conv2d(img.unsqueeze(dim=0), conv1)\n",
    "img = F.relu(img)\n",
    "img  = F.max_pool2d(img, kernel_size = 2)\n",
    "img = F.conv2d(img, conv2)\n",
    "\n",
    "# Plot filtered images\n",
    "\n",
    "for i in range(32):\n",
    "    fig.add_subplot(rows, cols, i+1)\n",
    "    plt.axis(\"off\")\n",
    "    #plt.title(\"Filter %d\" %(i+1))\n",
    "    plt.imshow(img.squeeze().numpy()[i], cmap=\"gray\")\n",
    "    \n",
    "plt.tight_layout()\n",
    "plt.show()"
   ]
  },
  {
   "cell_type": "code",
   "execution_count": null,
   "id": "7d833dd3",
   "metadata": {},
   "outputs": [],
   "source": []
  }
 ],
 "metadata": {
  "kernelspec": {
   "display_name": "Python 3",
   "language": "python",
   "name": "python3"
  },
  "language_info": {
   "codemirror_mode": {
    "name": "ipython",
    "version": 3
   },
   "file_extension": ".py",
   "mimetype": "text/x-python",
   "name": "python",
   "nbconvert_exporter": "python",
   "pygments_lexer": "ipython3",
   "version": "3.8.8"
  }
 },
 "nbformat": 4,
 "nbformat_minor": 5
}
