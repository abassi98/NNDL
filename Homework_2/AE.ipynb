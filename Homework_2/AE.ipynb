{
 "cells": [
  {
   "cell_type": "markdown",
   "id": "1e869ab8",
   "metadata": {},
   "source": [
    "# Autoencoders\n"
   ]
  },
  {
   "cell_type": "code",
   "execution_count": 1,
   "id": "9de78412",
   "metadata": {},
   "outputs": [],
   "source": [
    "import numpy as np\n",
    "import matplotlib.pyplot as plt\n",
    "import os\n",
    "import plotly.express as px\n",
    "import pandas as pd\n",
    "\n",
    "import torch\n",
    "import torch.nn as nn\n",
    "import torch.optim as optim\n",
    "from torch.utils.data import Dataset, DataLoader\n",
    "from torchvision import transforms, datasets\n",
    "\n",
    "from models import ConvEncoder, ConvDecoder, ConvAE\n",
    "from training import train_epoch, val_epoch, train_epochs, ft_train_epoch, ft_val_epoch, ft_train_epochs\n",
    "from functions import my_accuracy\n",
    "\n",
    "from tqdm import tqdm\n",
    "from tqdm.notebook import tqdm_notebook\n",
    "from time import sleep\n",
    "\n",
    "from sklearn.decomposition import PCA\n",
    "from sklearn.manifold import TSNE\n"
   ]
  },
  {
   "cell_type": "markdown",
   "id": "410e9852",
   "metadata": {},
   "source": [
    "## Dataset and Dataloader"
   ]
  },
  {
   "cell_type": "code",
   "execution_count": 2,
   "id": "885e348a",
   "metadata": {},
   "outputs": [],
   "source": [
    "### Dataset\n",
    "\n",
    "dataset = datasets.MNIST('MNIST', train = True, download = True,\n",
    "                             transform = transforms.Compose([\n",
    "                               transforms.ToTensor(),\n",
    "                                 transforms.Normalize(0.0,1.0)\n",
    "                             ]))\n",
    "\n",
    "test_data = datasets.MNIST('MNIST', train = False, download = True,\n",
    "                             transform=transforms.Compose([\n",
    "                               transforms.ToTensor(),\n",
    "                                 transforms.Normalize(0.0,1.0)\n",
    "                             ]))\n",
    "\n",
    "# Divide data dataset in train dataset and val dataset\n",
    "\n",
    "train_data, val_data = torch.utils.data.random_split(dataset, [50000, 10000])"
   ]
  },
  {
   "cell_type": "code",
   "execution_count": 3,
   "id": "36460fe5",
   "metadata": {},
   "outputs": [],
   "source": [
    "### Dataloaders\n",
    "batch_size = 128\n",
    "\n",
    "train_dataloader = DataLoader(train_data, batch_size = batch_size, shuffle = True, num_workers=0)\n",
    "val_dataloader = DataLoader(val_data, batch_size = batch_size, shuffle=True, num_workers=0)\n",
    "test_dataloader = DataLoader(test_data, batch_size = 1, shuffle=True, num_workers=0)\n",
    "\n"
   ]
  },
  {
   "cell_type": "code",
   "execution_count": 4,
   "id": "84de77b3",
   "metadata": {},
   "outputs": [
    {
     "data": {
      "image/png": "[encoded data removed]",
      "text/plain": [
       "<Figure size 576x576 with 16 Axes>"
      ]
     },
     "metadata": {
      "needs_background": "light"
     },
     "output_type": "display_data"
    }
   ],
   "source": [
    "# Plot Mnist\n",
    "figure = plt.figure(figsize=(8, 8))\n",
    "cols, rows = 4,4\n",
    "\n",
    "\n",
    "for i in range(1,cols * rows+1):\n",
    "    sample_idx = torch.randint(len(train_data), size=(1,)).item()\n",
    "    img, label = train_data[sample_idx]\n",
    "    figure.add_subplot(rows, cols, i)\n",
    "    plt.axis(\"off\")\n",
    "    plt.imshow(img.squeeze(), cmap=\"gray\")\n",
    "plt.show()"
   ]
  },
  {
   "cell_type": "markdown",
   "id": "81f58bb2",
   "metadata": {},
   "source": [
    "## Training"
   ]
  },
  {
   "cell_type": "code",
   "execution_count": 5,
   "id": "7b528883",
   "metadata": {},
   "outputs": [
    {
     "name": "stdout",
     "output_type": "stream",
     "text": [
      "Training device: cpu\n"
     ]
    }
   ],
   "source": [
    "# Check if the GPU is available\n",
    "device = torch.device(\"cuda\") if torch.cuda.is_available() else torch.device(\"cpu\")\n",
    "print(f\"Training device: {device}\")"
   ]
  },
  {
   "cell_type": "markdown",
   "id": "6a4906b9",
   "metadata": {},
   "source": [
    "### Stochastic Gradient Descent"
   ]
  },
  {
   "cell_type": "code",
   "execution_count": 6,
   "id": "3e247605",
   "metadata": {},
   "outputs": [
    {
     "data": {
      "text/plain": [
       "ConvAE(\n",
       "  (encoder): ConvEncoder(\n",
       "    (encoder_cnn): Sequential(\n",
       "      (0): Conv2d(1, 8, kernel_size=(3, 3), stride=(2, 2), padding=(1, 1))\n",
       "      (1): ReLU(inplace=True)\n",
       "      (2): Conv2d(8, 16, kernel_size=(3, 3), stride=(2, 2), padding=(1, 1))\n",
       "      (3): ReLU(inplace=True)\n",
       "      (4): Conv2d(16, 32, kernel_size=(3, 3), stride=(2, 2))\n",
       "      (5): ReLU(inplace=True)\n",
       "    )\n",
       "    (flatten): Flatten(start_dim=1, end_dim=-1)\n",
       "    (encoder_lin): Sequential(\n",
       "      (0): Linear(in_features=288, out_features=128, bias=True)\n",
       "      (1): ReLU(inplace=True)\n",
       "      (2): Linear(in_features=128, out_features=20, bias=True)\n",
       "    )\n",
       "  )\n",
       "  (decoder): ConvDecoder(\n",
       "    (decoder_lin): Sequential(\n",
       "      (0): Linear(in_features=20, out_features=64, bias=True)\n",
       "      (1): ReLU(inplace=True)\n",
       "      (2): Linear(in_features=64, out_features=288, bias=True)\n",
       "      (3): ReLU(inplace=True)\n",
       "    )\n",
       "    (unflatten): Unflatten(dim=1, unflattened_size=(32, 3, 3))\n",
       "    (decoder_conv): Sequential(\n",
       "      (0): ConvTranspose2d(32, 16, kernel_size=(3, 3), stride=(2, 2))\n",
       "      (1): ReLU(inplace=True)\n",
       "      (2): ConvTranspose2d(16, 8, kernel_size=(3, 3), stride=(2, 2), padding=(1, 1), output_padding=(1, 1))\n",
       "      (3): ReLU(inplace=True)\n",
       "      (4): ConvTranspose2d(8, 1, kernel_size=(3, 3), stride=(2, 2), padding=(1, 1), output_padding=(1, 1))\n",
       "    )\n",
       "  )\n",
       ")"
      ]
     },
     "execution_count": 6,
     "metadata": {},
     "output_type": "execute_result"
    }
   ],
   "source": [
    "### Filename of the net\n",
    "filename = 'AE_params.torch'\n",
    "\n",
    "### Set the random seed for reproducible results\n",
    "torch.manual_seed(0)\n",
    "\n",
    "### Initialize the two networks\n",
    "encoded_space_dim = 20\n",
    "net = ConvAE(encoded_space_dim=encoded_space_dim)\n",
    "\n",
    "### Move to device\n",
    "net.to(device)"
   ]
  },
  {
   "cell_type": "code",
   "execution_count": null,
   "id": "27c5cde8",
   "metadata": {},
   "outputs": [],
   "source": [
    "# Define the loss function\n",
    "loss_function = nn.MSELoss()\n",
    "\n",
    "# Define the optimizer\n",
    "optimizer = optim.Adam(net.parameters(), lr = 0.001, weight_decay = 0.0)\n",
    "\n",
    "# Training \n",
    "max_num_epochs = 20\n",
    "early_stopping = True\n",
    "train_loss_sgd, val_loss_sgd = train_epochs(net, device, train_dataloader, val_dataloader, test_data, loss_function, optimizer, max_num_epochs, early_stopping)\n"
   ]
  },
  {
   "cell_type": "code",
   "execution_count": null,
   "id": "d3bcdf61",
   "metadata": {
    "scrolled": false
   },
   "outputs": [],
   "source": [
    "# Plot losses\n",
    "plt.figure(figsize=(12,8))\n",
    "plt.semilogy(train_loss_sgd, label='Train loss')\n",
    "plt.semilogy(val_loss_sgd, label='Validation loss')\n",
    "plt.xlabel('Epoch')\n",
    "plt.ylabel('Loss')\n",
    "plt.grid()\n",
    "plt.legend()\n",
    "plt.show()"
   ]
  },
  {
   "cell_type": "markdown",
   "id": "76c0c280",
   "metadata": {},
   "source": [
    "## Save and load model"
   ]
  },
  {
   "cell_type": "code",
   "execution_count": null,
   "id": "10404dc2",
   "metadata": {},
   "outputs": [],
   "source": [
    "### Save network parameters\n",
    "### Save the network state\n",
    "# Save network parameters\n",
    "\n",
    "torch.save(net.state_dict(), filename)"
   ]
  },
  {
   "cell_type": "code",
   "execution_count": 7,
   "id": "17fc35f0",
   "metadata": {},
   "outputs": [
    {
     "data": {
      "text/plain": [
       "<All keys matched successfully>"
      ]
     },
     "execution_count": 7,
     "metadata": {},
     "output_type": "execute_result"
    }
   ],
   "source": [
    "### Reload the network state\n",
    "# Load network parameters\n",
    "params_dict = torch.load(filename)\n",
    "net.load_state_dict(params_dict)\n"
   ]
  },
  {
   "cell_type": "markdown",
   "id": "fa8f53ee",
   "metadata": {},
   "source": [
    "## Network analysis"
   ]
  },
  {
   "cell_type": "code",
   "execution_count": null,
   "id": "81f10fba",
   "metadata": {},
   "outputs": [],
   "source": [
    "### Get the encoded representation of the test samples\n",
    "labels = []\n",
    "matrix = []\n",
    "for sample in tqdm_notebook(test_data):\n",
    "    img = sample[0].unsqueeze(0).to(device)\n",
    "    label = sample[1]\n",
    "    # Encode image\n",
    "    net.eval()\n",
    "    with torch.no_grad():\n",
    "        encoded_img, _  = net(img)\n",
    "    # Append to list\n",
    "    encoded_img = encoded_img.flatten().cpu().numpy()\n",
    "    matrix.append(encoded_img)\n",
    "    labels.append(label)\n",
    "\n",
    "matrix = np.array(matrix)\n",
    "\n"
   ]
  },
  {
   "cell_type": "markdown",
   "id": "bfa0ff8c",
   "metadata": {},
   "source": [
    "### PCA"
   ]
  },
  {
   "cell_type": "code",
   "execution_count": null,
   "id": "4f4fc73e",
   "metadata": {},
   "outputs": [],
   "source": [
    "# Singular values decomposition\n",
    "pca = PCA(n_components=2, svd_solver='full').fit_transform(matrix)\n",
    "\n",
    "# Create dictionary\n",
    "encoded_samples_pca = []\n",
    "for i in tqdm_notebook(range(pca.shape[0])):\n",
    "    encoded_sample = {f\"Enc. Variable {i}\": enc for i, enc in enumerate(pca[i])}\n",
    "    encoded_sample[\"label\"] = labels[i]\n",
    "    encoded_samples_pca.append(encoded_sample)\n"
   ]
  },
  {
   "cell_type": "markdown",
   "id": "c3984e24",
   "metadata": {},
   "source": [
    "### t-SNE"
   ]
  },
  {
   "cell_type": "code",
   "execution_count": null,
   "id": "4556ca01",
   "metadata": {},
   "outputs": [],
   "source": [
    "# t-SNE projection\n",
    "tsne = TSNE(n_components=2, init='pca').fit_transform(matrix)\n",
    "\n",
    "# Create dictionary\n",
    "encoded_samples_tsne = []\n",
    "for i in tqdm_notebook(range(tsne.shape[0])):\n",
    "    encoded_sample = {f\"Enc. Variable {i}\": enc for i, enc in enumerate(tsne[i])}\n",
    "    encoded_sample[\"label\"] = labels[i]\n",
    "    encoded_samples_tsne.append(encoded_sample)"
   ]
  },
  {
   "cell_type": "markdown",
   "id": "c06e7b86",
   "metadata": {},
   "source": [
    "### Visualization"
   ]
  },
  {
   "cell_type": "code",
   "execution_count": null,
   "id": "7ec62230",
   "metadata": {},
   "outputs": [],
   "source": [
    "# Convert to a dataframe\n",
    "encoded_samples_pca = pd.DataFrame(encoded_samples_pca)\n",
    "encoded_samples_tsne = pd.DataFrame(encoded_samples_tsne)\n",
    "\n",
    "#px.scatter(encoded_samples_pca, x='Enc. Variable 0', y='Enc. Variable 1', color=encoded_samples_pca.label.astype(str), opacity=0.7)\n",
    "px.scatter(encoded_samples_tsne, x='Enc. Variable 0', y='Enc. Variable 1', color=encoded_samples_tsne.label.astype(str), opacity=0.7)\n"
   ]
  },
  {
   "cell_type": "code",
   "execution_count": null,
   "id": "cf946dac",
   "metadata": {},
   "outputs": [],
   "source": [
    "# Reconstruct images\n",
    "fig, axs = plt.subplots(3, 2, figsize=(18,9))\n",
    "net.eval()\n",
    "\n",
    "# Get the output of a specific image (the test image at index 0 in this case)\n",
    "img_indx =10\n",
    "img = test_data[img_indx][0].unsqueeze(0).to(device)\n",
    "label = test_data[img_indx][1]\n",
    "\n",
    "with torch.no_grad():\n",
    "    _ , rec_img  = net(img)\n",
    "    \n",
    "# Plot the reconstructed image\n",
    "axs[0,0].imshow(img.cpu().squeeze().numpy(), cmap='gist_gray')\n",
    "axs[0,0].set_title('Original image: label %d' %label)\n",
    "axs[0,1].imshow(rec_img.cpu().squeeze().numpy(), cmap='gist_gray')\n",
    "axs[0,1].set_title('Reconstructed image')\n",
    "\n",
    "\n",
    "\n",
    "# Get the output of a specific image (the test image at index 0 in this case)\n",
    "img_indx = 12\n",
    "img = test_data[img_indx][0].unsqueeze(0).to(device)\n",
    "label = test_data[img_indx][1]\n",
    "\n",
    "with torch.no_grad():\n",
    "    _, rec_img  =net(img)\n",
    "    \n",
    "# Plot the reconstructed image\n",
    "axs[1,0].imshow(img.cpu().squeeze().numpy(), cmap='gist_gray')\n",
    "axs[1,0].set_title('Original image: label %d' %label)\n",
    "axs[1,1].imshow(rec_img.cpu().squeeze().numpy(), cmap='gist_gray')\n",
    "axs[1,1].set_title('Reconstructed image')\n",
    "\n",
    "\n",
    "# Get the output of a specific image (the test image at index 0 in this case)\n",
    "img_indx = 122\n",
    "img = test_data[img_indx][0].unsqueeze(0).to(device)\n",
    "label = test_data[img_indx][1]\n",
    "\n",
    "with torch.no_grad():\n",
    "    _, rec_img  = net(img)\n",
    "    \n",
    "# Plot the reconstructed image\n",
    "axs[2,0].imshow(img.cpu().squeeze().numpy(), cmap='gist_gray')\n",
    "axs[2,0].set_title('Original image: label %d' %label)\n",
    "axs[2,1].imshow(rec_img.cpu().squeeze().numpy(), cmap='gist_gray')\n",
    "axs[2,1].set_title('Reconstructed image')\n",
    "\n",
    "\n",
    "\n",
    "plt.tight_layout()\n",
    "\n"
   ]
  },
  {
   "cell_type": "code",
   "execution_count": null,
   "id": "0f0ee20e",
   "metadata": {},
   "outputs": [],
   "source": [
    "### Generate samples from encoded space\n",
    "\n",
    "# Generate a custom sample\n",
    "custom_encoded_sample = np.random.rand(encoded_space_dim)\n",
    "encoded_value = torch.tensor(custom_encoded_sample).float().unsqueeze(0).to(device)\n",
    "\n",
    "# Decode sample\n",
    "decoder.eval()\n",
    "with torch.no_grad():\n",
    "    generated_img  = decoder(encoded_value)\n",
    "\n",
    "plt.figure(figsize=(12,10))\n",
    "plt.imshow(generated_img.squeeze().cpu().numpy(), cmap='gist_gray')\n",
    "plt.show()"
   ]
  },
  {
   "cell_type": "code",
   "execution_count": null,
   "id": "71c5ac21",
   "metadata": {},
   "outputs": [],
   "source": [
    "### Generate regular samples from encoded space\n",
    "\n",
    "figure = plt.figure(figsize=(16, 16))\n",
    "cols, rows = 8, 8\n",
    "\n",
    "dim1 = np.linspace(-2,2,cols)\n",
    "dim2 = np.linspace(-2,2,rows)\n",
    "\n",
    "for i in range(cols):\n",
    "    for j in range(rows):\n",
    "        # Create  an encoded sample\n",
    "        encoded_sample = [dim1[i], dim2[j]]\n",
    "        encoded_sample = torch.tensor(encoded_sample).float().unsqueeze(0).to(device)\n",
    "        \n",
    "        # Decode sample\n",
    "        decoder.eval()\n",
    "        with torch.no_grad():\n",
    "            generated_img  = decoder(encoded_sample)\n",
    "        sample_idx = torch.randint(len(train_data), size=(1,)).item()\n",
    "        img, label = train_data[sample_idx]\n",
    "        figure.add_subplot(rows, cols, j*cols+1+i)\n",
    "        plt.axis(\"off\")\n",
    "        plt.imshow(generated_img.squeeze().cpu().numpy(), cmap=\"gray\")\n",
    "plt.show()"
   ]
  },
  {
   "cell_type": "markdown",
   "id": "15a45c3a",
   "metadata": {},
   "source": [
    "# Fine tuning"
   ]
  },
  {
   "cell_type": "code",
   "execution_count": 14,
   "id": "de8dff87",
   "metadata": {},
   "outputs": [
    {
     "name": "stdout",
     "output_type": "stream",
     "text": [
      "ConvAE(\n",
      "  (encoder): ConvEncoder(\n",
      "    (encoder_cnn): Sequential(\n",
      "      (0): Conv2d(1, 8, kernel_size=(3, 3), stride=(2, 2), padding=(1, 1))\n",
      "      (1): ReLU(inplace=True)\n",
      "      (2): Conv2d(8, 16, kernel_size=(3, 3), stride=(2, 2), padding=(1, 1))\n",
      "      (3): ReLU(inplace=True)\n",
      "      (4): Conv2d(16, 32, kernel_size=(3, 3), stride=(2, 2))\n",
      "      (5): ReLU(inplace=True)\n",
      "    )\n",
      "    (flatten): Flatten(start_dim=1, end_dim=-1)\n",
      "    (encoder_lin): Sequential(\n",
      "      (0): Linear(in_features=288, out_features=128, bias=True)\n",
      "      (1): ReLU(inplace=True)\n",
      "      (2): Linear(in_features=128, out_features=10, bias=True)\n",
      "    )\n",
      "  )\n",
      "  (decoder): ConvDecoder(\n",
      "    (decoder_lin): Sequential(\n",
      "      (0): Linear(in_features=20, out_features=64, bias=True)\n",
      "      (1): ReLU(inplace=True)\n",
      "      (2): Linear(in_features=64, out_features=288, bias=True)\n",
      "      (3): ReLU(inplace=True)\n",
      "    )\n",
      "    (unflatten): Unflatten(dim=1, unflattened_size=(32, 3, 3))\n",
      "    (decoder_conv): Sequential(\n",
      "      (0): ConvTranspose2d(32, 16, kernel_size=(3, 3), stride=(2, 2))\n",
      "      (1): ReLU(inplace=True)\n",
      "      (2): ConvTranspose2d(16, 8, kernel_size=(3, 3), stride=(2, 2), padding=(1, 1), output_padding=(1, 1))\n",
      "      (3): ReLU(inplace=True)\n",
      "      (4): ConvTranspose2d(8, 1, kernel_size=(3, 3), stride=(2, 2), padding=(1, 1), output_padding=(1, 1))\n",
      "    )\n",
      "  )\n",
      ")\n"
     ]
    }
   ],
   "source": [
    "print(net)"
   ]
  },
  {
   "cell_type": "code",
   "execution_count": 15,
   "id": "8bb6664f",
   "metadata": {},
   "outputs": [
    {
     "name": "stdout",
     "output_type": "stream",
     "text": [
      "encoder.encoder_cnn.0.weight\n",
      "\tFreezing update\n",
      "encoder.encoder_cnn.0.bias\n",
      "\tFreezing update\n",
      "encoder.encoder_cnn.2.weight\n",
      "\tFreezing update\n",
      "encoder.encoder_cnn.2.bias\n",
      "\tFreezing update\n",
      "encoder.encoder_cnn.4.weight\n",
      "\tFreezing update\n",
      "encoder.encoder_cnn.4.bias\n",
      "\tFreezing update\n",
      "encoder.encoder_lin.0.weight\n",
      "\tFreezing update\n",
      "encoder.encoder_lin.0.bias\n",
      "\tFreezing update\n",
      "encoder.encoder_lin.2.weight\n",
      "\tFreezing update\n",
      "encoder.encoder_lin.2.bias\n",
      "\tFreezing update\n",
      "decoder.decoder_lin.0.weight\n",
      "\tFreezing update\n",
      "decoder.decoder_lin.0.bias\n",
      "\tFreezing update\n",
      "decoder.decoder_lin.2.weight\n",
      "\tFreezing update\n",
      "decoder.decoder_lin.2.bias\n",
      "\tFreezing update\n",
      "decoder.decoder_conv.0.weight\n",
      "\tFreezing update\n",
      "decoder.decoder_conv.0.bias\n",
      "\tFreezing update\n",
      "decoder.decoder_conv.2.weight\n",
      "\tFreezing update\n",
      "decoder.decoder_conv.2.bias\n",
      "\tFreezing update\n",
      "decoder.decoder_conv.4.weight\n",
      "\tFreezing update\n",
      "decoder.decoder_conv.4.bias\n",
      "\tFreezing update\n"
     ]
    }
   ],
   "source": [
    "# Disallow the update of all the layers by setting the 'requires_grad' parameter of the tensors to 'False'\n",
    "for param_name, param in net.named_parameters():\n",
    "    print(param_name)\n",
    "    print('\\tFreezing update')\n",
    "    param.requires_grad = False"
   ]
  },
  {
   "cell_type": "code",
   "execution_count": 16,
   "id": "30ea9d2f",
   "metadata": {},
   "outputs": [
    {
     "name": "stdout",
     "output_type": "stream",
     "text": [
      "ConvAE(\n",
      "  (encoder): ConvEncoder(\n",
      "    (encoder_cnn): Sequential(\n",
      "      (0): Conv2d(1, 8, kernel_size=(3, 3), stride=(2, 2), padding=(1, 1))\n",
      "      (1): ReLU(inplace=True)\n",
      "      (2): Conv2d(8, 16, kernel_size=(3, 3), stride=(2, 2), padding=(1, 1))\n",
      "      (3): ReLU(inplace=True)\n",
      "      (4): Conv2d(16, 32, kernel_size=(3, 3), stride=(2, 2))\n",
      "      (5): ReLU(inplace=True)\n",
      "    )\n",
      "    (flatten): Flatten(start_dim=1, end_dim=-1)\n",
      "    (encoder_lin): Sequential(\n",
      "      (0): Linear(in_features=288, out_features=128, bias=True)\n",
      "      (1): ReLU(inplace=True)\n",
      "      (2): Linear(in_features=128, out_features=10, bias=True)\n",
      "    )\n",
      "  )\n",
      "  (decoder): ConvDecoder(\n",
      "    (decoder_lin): Sequential(\n",
      "      (0): Linear(in_features=20, out_features=64, bias=True)\n",
      "      (1): ReLU(inplace=True)\n",
      "      (2): Linear(in_features=64, out_features=288, bias=True)\n",
      "      (3): ReLU(inplace=True)\n",
      "    )\n",
      "    (unflatten): Unflatten(dim=1, unflattened_size=(32, 3, 3))\n",
      "    (decoder_conv): Sequential(\n",
      "      (0): ConvTranspose2d(32, 16, kernel_size=(3, 3), stride=(2, 2))\n",
      "      (1): ReLU(inplace=True)\n",
      "      (2): ConvTranspose2d(16, 8, kernel_size=(3, 3), stride=(2, 2), padding=(1, 1), output_padding=(1, 1))\n",
      "      (3): ReLU(inplace=True)\n",
      "      (4): ConvTranspose2d(8, 1, kernel_size=(3, 3), stride=(2, 2), padding=(1, 1), output_padding=(1, 1))\n",
      "    )\n",
      "  )\n",
      ")\n"
     ]
    }
   ],
   "source": [
    "# Change the last layer to match the new reduced problem    \n",
    "num_classes = 10\n",
    "net.encoder.encoder_lin[2] = torch.nn.Linear(128, num_classes)\n",
    "print(net)"
   ]
  },
  {
   "cell_type": "code",
   "execution_count": 17,
   "id": "369d27f2",
   "metadata": {},
   "outputs": [
    {
     "name": "stdout",
     "output_type": "stream",
     "text": [
      "encoder.encoder_cnn.0.weight \t- requires_grad=False\n",
      "encoder.encoder_cnn.0.bias \t- requires_grad=False\n",
      "encoder.encoder_cnn.2.weight \t- requires_grad=False\n",
      "encoder.encoder_cnn.2.bias \t- requires_grad=False\n",
      "encoder.encoder_cnn.4.weight \t- requires_grad=False\n",
      "encoder.encoder_cnn.4.bias \t- requires_grad=False\n",
      "encoder.encoder_lin.0.weight \t- requires_grad=True\n",
      "encoder.encoder_lin.0.bias \t- requires_grad=True\n",
      "encoder.encoder_lin.2.weight \t- requires_grad=True\n",
      "encoder.encoder_lin.2.bias \t- requires_grad=True\n",
      "decoder.decoder_lin.0.weight \t- requires_grad=False\n",
      "decoder.decoder_lin.0.bias \t- requires_grad=False\n",
      "decoder.decoder_lin.2.weight \t- requires_grad=False\n",
      "decoder.decoder_lin.2.bias \t- requires_grad=False\n",
      "decoder.decoder_conv.0.weight \t- requires_grad=False\n",
      "decoder.decoder_conv.0.bias \t- requires_grad=False\n",
      "decoder.decoder_conv.2.weight \t- requires_grad=False\n",
      "decoder.decoder_conv.2.bias \t- requires_grad=False\n",
      "decoder.decoder_conv.4.weight \t- requires_grad=False\n",
      "decoder.decoder_conv.4.bias \t- requires_grad=False\n"
     ]
    }
   ],
   "source": [
    "# Allow the training of the last two layers (classifier[4] and classifier[6])\n",
    "for param in net.encoder.encoder_lin[0].parameters():\n",
    "    param.requires_grad = True \n",
    "for param in net.encoder.encoder_lin[2].parameters():\n",
    "    param.requires_grad = True \n",
    "\n",
    "# Check if correct\n",
    "for param_name, param in net.named_parameters():\n",
    "    print('%s \\t- requires_grad=%s' % (param_name, param.requires_grad))"
   ]
  },
  {
   "cell_type": "markdown",
   "id": "0a68d535",
   "metadata": {},
   "source": [
    "## Training"
   ]
  },
  {
   "cell_type": "code",
   "execution_count": 18,
   "id": "a7946b26",
   "metadata": {},
   "outputs": [
    {
     "data": {
      "application/vnd.jupyter.widget-view+json": {
       "model_id": "2c6e197d44a247b9aaad77447565531e",
       "version_major": 2,
       "version_minor": 0
      },
      "text/plain": [
       "  0%|          | 0/20 [00:00<?, ?it/s]"
      ]
     },
     "metadata": {},
     "output_type": "display_data"
    },
    {
     "name": "stdout",
     "output_type": "stream",
     "text": [
      "Training stopped at epoch 12 to avoid overfitting.\n"
     ]
    }
   ],
   "source": [
    "# Define the loss function\n",
    "loss_function = nn.CrossEntropyLoss()\n",
    "\n",
    "# Define the optimizers\n",
    "optimizer = optim.Adam(net.parameters(), lr = 0.001, weight_decay = 0.0)\n",
    "\n",
    "### Training epochs\n",
    "max_num_epochs = 20\n",
    "early_stopping = True\n",
    "train_loss_log, val_loss_log, accuracy = ft_train_epochs(net, device, train_dataloader, val_dataloader, test_dataloader, loss_function, optimizer, max_num_epochs, early_stopping)\n"
   ]
  },
  {
   "cell_type": "code",
   "execution_count": 19,
   "id": "d47c6714",
   "metadata": {},
   "outputs": [
    {
     "data": {
      "image/png": "[encoded data removed]",
      "text/plain": [
       "<Figure size 864x576 with 2 Axes>"
      ]
     },
     "metadata": {
      "needs_background": "light"
     },
     "output_type": "display_data"
    }
   ],
   "source": [
    "### Plot losses\n",
    "fig = plt.figure(figsize=(12,8))\n",
    "ax1 = fig.add_subplot(121)\n",
    "ax1.semilogy(train_loss_log, label='Train loss')\n",
    "ax1.semilogy(val_loss_log, label='Validation loss')\n",
    "ax1.set_xlabel('Epoch')\n",
    "ax1.set_ylabel('Loss')\n",
    "ax1.grid()\n",
    "ax1.legend()\n",
    "\n",
    "ax2 = fig.add_subplot(122)\n",
    "ax2.plot(accuracy, label = \"Test accuracy\")\n",
    "ax2.set_xlabel(\"Epoch\")\n",
    "ax2.set_ylabel(\"Test accuracy (%)\")\n",
    "\n",
    "plt.tight_layout()\n",
    "plt.show()"
   ]
  },
  {
   "cell_type": "markdown",
   "id": "006f0026",
   "metadata": {},
   "source": [
    "# Denoising Autoencoder"
   ]
  },
  {
   "cell_type": "code",
   "execution_count": null,
   "id": "036500e5",
   "metadata": {},
   "outputs": [],
   "source": [
    "### Define the noising function\n",
    "\n",
    "class AddNoise(object):\n",
    "    \"\"\"\n",
    "    Add Gaussian noise with given standard deviation to Mnist images\n",
    "    \"\"\"\n",
    "    def __init__(self, std = 1.):\n",
    "        self.std = std\n",
    "        \n",
    "    def __call__(self, img):\n",
    "        return img+torch.randn_like(img)*self.std\n",
    "        "
   ]
  },
  {
   "cell_type": "code",
   "execution_count": null,
   "id": "24705a4c",
   "metadata": {},
   "outputs": [],
   "source": [
    "### Define noise function\n",
    "noise = AddNoise(std = 1.)"
   ]
  },
  {
   "cell_type": "code",
   "execution_count": null,
   "id": "45509b0f",
   "metadata": {},
   "outputs": [],
   "source": [
    "### Plot image and noised version\n",
    "\n",
    "img_indx = 12\n",
    "img = test_data[img_indx][0]\n",
    "\n",
    "noised_img = noise(img)\n",
    "\n",
    "\n",
    "# Plot the reconstructed image\n",
    "fig, axs = plt.subplots(1, 2, figsize=(12,6))\n",
    "axs[0].imshow(img.squeeze().numpy(), cmap='gist_gray')\n",
    "axs[0].set_title('Original image')\n",
    "axs[1].imshow(noised_img.squeeze().numpy(), cmap='gist_gray')\n",
    "axs[1].set_title('Noised image')\n",
    "plt.tight_layout()"
   ]
  },
  {
   "cell_type": "markdown",
   "id": "96ab95fe",
   "metadata": {},
   "source": [
    "## Define the Network"
   ]
  },
  {
   "cell_type": "code",
   "execution_count": null,
   "id": "3798271d",
   "metadata": {},
   "outputs": [],
   "source": [
    "# Check if the GPU is available\n",
    "device = torch.device(\"cuda\") if torch.cuda.is_available() else torch.device(\"cpu\")\n",
    "print(f\"Training device: {device}\")\n",
    "\n",
    "### Set the random seed for reproducible results\n",
    "torch.manual_seed(0)\n",
    "\n",
    "### Initialize the two networks\n",
    "encoded_space_dim = 20\n",
    "net = ConvAE(encoded_space_dim=encoded_space_dim)\n",
    "\n",
    "### Move to device\n",
    "net.to(device)"
   ]
  },
  {
   "cell_type": "markdown",
   "id": "8f1d0c38",
   "metadata": {},
   "source": [
    "## Training"
   ]
  },
  {
   "cell_type": "code",
   "execution_count": null,
   "id": "a18b7065",
   "metadata": {},
   "outputs": [],
   "source": [
    "# Define the loss function\n",
    "loss_function = nn.MSELoss()\n",
    "\n",
    "# Define the optimizers\n",
    "optimizer = optim.Adam(net.parameters(), lr = 0.001, weight_decay = 0.0)\n",
    "\n",
    "### Training loop with progress bar\n",
    "num_epochs = 20\n",
    "\n",
    "\n",
    "train_loss_log = []\n",
    "val_loss_log = []\n",
    "\n",
    "pbar = tqdm_notebook(range(num_epochs))\n",
    "\n",
    "for epoch_num in pbar:\n",
    "    \n",
    "    # Train an epoch and save losses\n",
    "    train_epoch_loss = train_epoch(net, device, train_dataloader, loss_function, optimizer_1, noise = noise)\n",
    "    # Validate an epoch\n",
    "    val_epoch_loss = val_epoch(net,  device, val_dataloader, loss_function, noise = noise)\n",
    "    # Compute averages over an epoch\n",
    "    mean_train_loss = np.mean(train_epoch_loss)\n",
    "    mean_val_loss = np.mean(val_epoch_loss)\n",
    "    # Append to plot\n",
    "    train_loss_log.append(mean_train_loss)\n",
    "    val_loss_log.append(mean_val_loss)\n",
    "    pbar.set_description(\"Train loss: %s\" %round(mean_train_loss,3)+\",\"+\"Validation loss %s\" %round(mean_val_loss,3))\n",
    "    \n",
    "    ### Plot progress\n",
    "    # Get the output of a specific image (the test image at index 0 in this case)\n",
    "    img = test_data[0][0].unsqueeze(0).to(device)\n",
    "    encoder.eval()\n",
    "    decoder.eval()\n",
    "    with torch.no_grad():\n",
    "        _, rec_img  = net(img)\n",
    "    # Plot the reconstructed image\n",
    "    fig, axs = plt.subplots(1, 2, figsize=(12,6))\n",
    "    axs[0].imshow(noise(img).cpu().squeeze().numpy(), cmap='gist_gray')\n",
    "    axs[0].set_title('Original noised image')\n",
    "    axs[1].imshow(rec_img.cpu().squeeze().numpy(), cmap='gist_gray')\n",
    "    axs[1].set_title('Reconstructed image (EPOCH %d)' % (epoch_num + 1))\n",
    "    plt.tight_layout()\n",
    "    plt.pause(0.1)\n",
    "    # Save figures\n",
    "    os.makedirs('denoising_autoencoder_progress_%d_features' % encoded_space_dim, exist_ok=True)\n",
    "    fig.savefig('denoising_autoencoder_progress_%d_features/epoch_%d.jpg' % (encoded_space_dim, epoch_num + 1))\n",
    "    plt.show()\n",
    "    plt.close()\n",
    "    \n",
    "    sleep(0.03)\n",
    "    pbar.update()"
   ]
  },
  {
   "cell_type": "code",
   "execution_count": null,
   "id": "333d7e4c",
   "metadata": {},
   "outputs": [],
   "source": [
    "# Plot losses\n",
    "plt.figure(figsize=(12,8))\n",
    "plt.semilogy(train_loss_log, label='Train loss')\n",
    "plt.semilogy(val_loss_log, label='Validation loss')\n",
    "plt.xlabel('Epoch')\n",
    "plt.ylabel('Loss')\n",
    "plt.grid()\n",
    "plt.legend()\n",
    "plt.show()"
   ]
  },
  {
   "cell_type": "markdown",
   "id": "a52daf9f",
   "metadata": {},
   "source": [
    "## Save and load the model"
   ]
  },
  {
   "cell_type": "code",
   "execution_count": null,
   "id": "152c0c1d",
   "metadata": {},
   "outputs": [],
   "source": [
    "### Save network parameters\n",
    "### Save the network state\n",
    "# Save network parameters\n",
    "filename = 'DenoisingAE_params.torch'\n",
    "\n",
    "torch.save(net.state_dict(), filename)"
   ]
  },
  {
   "cell_type": "code",
   "execution_count": null,
   "id": "ed432daa",
   "metadata": {},
   "outputs": [],
   "source": [
    "### Reload the network state\n",
    "# Load network parameters\n",
    "params_dict = torch.load(filename)\n",
    "\n",
    "net.load_state_dict(params_dict)"
   ]
  },
  {
   "cell_type": "markdown",
   "id": "7f3d22cb",
   "metadata": {},
   "source": [
    "## Network analysis"
   ]
  },
  {
   "cell_type": "code",
   "execution_count": null,
   "id": "25c76b68",
   "metadata": {},
   "outputs": [],
   "source": [
    "### Get the encoded representation of the test samples\n",
    "encoded_samples = []\n",
    "for sample in tqdm(test_data):\n",
    "    img = sample[0].unsqueeze(0).to(device)\n",
    "    label = sample[1]\n",
    "    # Encode image\n",
    "    encoder.eval()\n",
    "    with torch.no_grad():\n",
    "        encoded_img  = encoder(noise(img))\n",
    "    # Append to list\n",
    "    encoded_img = encoded_img.flatten().cpu().numpy()\n",
    "    encoded_sample = {f\"Enc. Variable {i}\": enc for i, enc in enumerate(encoded_img)}\n",
    "    encoded_sample['label'] = label\n",
    "    encoded_samples.append(encoded_sample)"
   ]
  },
  {
   "cell_type": "code",
   "execution_count": null,
   "id": "e8e02c9d",
   "metadata": {},
   "outputs": [],
   "source": [
    "# Convert to a dataframe\n",
    "encoded_samples = pd.DataFrame(encoded_samples)\n",
    "encoded_samples\n",
    "\n",
    "# Scatter plot\n",
    "px.scatter(encoded_samples, x='Enc. Variable 0', y='Enc. Variable 1', color=encoded_samples.label.astype(str), opacity=0.7)"
   ]
  },
  {
   "cell_type": "code",
   "execution_count": null,
   "id": "5fc9f6e7",
   "metadata": {},
   "outputs": [],
   "source": [
    "# Reconstruct images\n",
    "# Get the output of a specific image (the test image at index 0 in this case)\n",
    "img_indx =10\n",
    "img = test_data[img_indx][0].unsqueeze(0).to(device)\n",
    "label = test_data[img_indx][1]\n",
    "encoder.eval()\n",
    "decoder.eval()\n",
    "with torch.no_grad():\n",
    "    rec_img  = decoder(encoder(noise(img)))\n",
    "    \n",
    "# Plot the reconstructed image\n",
    "fig, axs = plt.subplots(3, 2, figsize=(18,9))\n",
    "axs[0,0].imshow(img.cpu().squeeze().numpy(), cmap='gist_gray')\n",
    "axs[0,0].set_title('Original image: label %d' %label)\n",
    "axs[0,1].imshow(rec_img.cpu().squeeze().numpy(), cmap='gist_gray')\n",
    "axs[0,1].set_title('Reconstructed image')\n",
    "plt.tight_layout()\n"
   ]
  },
  {
   "cell_type": "code",
   "execution_count": null,
   "id": "4cc3ff31",
   "metadata": {},
   "outputs": [],
   "source": []
  }
 ],
 "metadata": {
  "kernelspec": {
   "display_name": "Python 3",
   "language": "python",
   "name": "python3"
  },
  "language_info": {
   "codemirror_mode": {
    "name": "ipython",
    "version": 3
   },
   "file_extension": ".py",
   "mimetype": "text/x-python",
   "name": "python",
   "nbconvert_exporter": "python",
   "pygments_lexer": "ipython3",
   "version": "3.8.8"
  }
 },
 "nbformat": 4,
 "nbformat_minor": 5
}
