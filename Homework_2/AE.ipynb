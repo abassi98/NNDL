{
 "cells": [
  {
   "cell_type": "markdown",
   "id": "1e869ab8",
   "metadata": {},
   "source": [
    "# Autoencoders\n"
   ]
  },
  {
   "cell_type": "code",
   "execution_count": 1,
   "id": "9de78412",
   "metadata": {},
   "outputs": [],
   "source": [
    "import numpy as np\n",
    "import matplotlib.pyplot as plt\n",
    "import os\n",
    "import plotly.express as px\n",
    "import pandas as pd\n",
    "\n",
    "import torch\n",
    "import torch.nn as nn\n",
    "import torch.optim as optim\n",
    "from torch.utils.data import Dataset, DataLoader\n",
    "from torchvision import transforms, datasets\n",
    "\n",
    "from models import ConvEncoder, ConvDecoder, ConvAE\n",
    "from training import train_epoch, val_epoch, train_epochs, ft_train_epoch, ft_val_epoch, ft_train_epochs\n",
    "from functions import my_accuracy\n",
    "\n",
    "from tqdm import tqdm\n",
    "from tqdm.notebook import tqdm_notebook\n",
    "from time import sleep\n",
    "\n",
    "# Optuna\n",
    "import optuna\n",
    "from optuna.visualization import plot_parallel_coordinate, plot_param_importances, plot_contour\n",
    "\n",
    "\n",
    "from sklearn.decomposition import PCA\n",
    "from sklearn.manifold import TSNE\n"
   ]
  },
  {
   "cell_type": "markdown",
   "id": "410e9852",
   "metadata": {},
   "source": [
    "## Dataset and Dataloader"
   ]
  },
  {
   "cell_type": "code",
   "execution_count": 2,
   "id": "885e348a",
   "metadata": {},
   "outputs": [],
   "source": [
    "### Dataset\n",
    "\n",
    "dataset = datasets.MNIST('MNIST', train = True, download = True,\n",
    "                             transform = transforms.Compose([\n",
    "                               transforms.ToTensor(),\n",
    "                                 transforms.Normalize(0.0,1.0)\n",
    "                             ]))\n",
    "\n",
    "test_data = datasets.MNIST('MNIST', train = False, download = True,\n",
    "                             transform=transforms.Compose([\n",
    "                               transforms.ToTensor(),\n",
    "                                 transforms.Normalize(0.0,1.0)\n",
    "                             ]))\n",
    "\n",
    "# Divide data dataset in train dataset and val dataset\n",
    "\n",
    "train_data, val_data = torch.utils.data.random_split(dataset, [50000, 10000])"
   ]
  },
  {
   "cell_type": "code",
   "execution_count": 3,
   "id": "36460fe5",
   "metadata": {},
   "outputs": [],
   "source": [
    "### Dataloaders\n",
    "batch_size = 128\n",
    "\n",
    "train_dataloader = DataLoader(train_data, batch_size = batch_size, shuffle = True, num_workers=0)\n",
    "val_dataloader = DataLoader(val_data, batch_size = batch_size, shuffle=True, num_workers=0)\n",
    "test_dataloader = DataLoader(test_data, batch_size = 1, shuffle=True, num_workers=0)\n",
    "\n"
   ]
  },
  {
   "cell_type": "code",
   "execution_count": 4,
   "id": "84de77b3",
   "metadata": {},
   "outputs": [
    {
     "data": {
      "image/png": "[encoded data removed]",
      "text/plain": [
       "<Figure size 576x576 with 16 Axes>"
      ]
     },
     "metadata": {
      "needs_background": "light"
     },
     "output_type": "display_data"
    }
   ],
   "source": [
    "# Plot Mnist\n",
    "figure = plt.figure(figsize=(8, 8))\n",
    "cols, rows = 4,4\n",
    "\n",
    "\n",
    "for i in range(1,cols * rows+1):\n",
    "    sample_idx = torch.randint(len(train_data), size=(1,)).item()\n",
    "    img, label = train_data[sample_idx]\n",
    "    figure.add_subplot(rows, cols, i)\n",
    "    plt.axis(\"off\")\n",
    "    plt.imshow(img.squeeze(), cmap=\"gray\")\n",
    "plt.show()"
   ]
  },
  {
   "cell_type": "markdown",
   "id": "81f58bb2",
   "metadata": {},
   "source": [
    "## Training"
   ]
  },
  {
   "cell_type": "code",
   "execution_count": 5,
   "id": "7b528883",
   "metadata": {},
   "outputs": [
    {
     "name": "stdout",
     "output_type": "stream",
     "text": [
      "Training device: cpu\n"
     ]
    }
   ],
   "source": [
    "# Check if the GPU is available\n",
    "device = torch.device(\"cuda\") if torch.cuda.is_available() else torch.device(\"cpu\")\n",
    "print(f\"Training device: {device}\")"
   ]
  },
  {
   "cell_type": "markdown",
   "id": "c57c1b7b",
   "metadata": {},
   "source": [
    "### SGD with momentum"
   ]
  },
  {
   "cell_type": "code",
   "execution_count": null,
   "id": "80d56c9c",
   "metadata": {},
   "outputs": [],
   "source": [
    "### Filename of the net\n",
    "filename = 'AE_sgd.torch'\n",
    "\n",
    "### Set the random seed for reproducible results\n",
    "torch.manual_seed(0)\n",
    "\n",
    "### Initialize the two networks\n",
    "parameters = {\n",
    "    \"encoded_space_dim\" : 20,\n",
    "    \"act\" : nn.ReLU,\n",
    "    \"drop_p\" : 0.1\n",
    "}\n",
    "net = ConvAE(parameters)\n",
    "\n",
    "### Move to device\n",
    "net.to(device)"
   ]
  },
  {
   "cell_type": "code",
   "execution_count": null,
   "id": "875311d4",
   "metadata": {},
   "outputs": [],
   "source": [
    "# Define the loss function\n",
    "loss_function = nn.MSELoss()\n",
    "\n",
    "# Define the optimizer\n",
    "optimizer = optim.SGD(net.parameters(), lr = 0.001, momentum = 0.5, weight_decay = 0.0)\n",
    "\n",
    "# Training \n",
    "max_num_epochs = 20\n",
    "early_stopping = True\n",
    "train_loss_sgd, val_loss_sgd = train_epochs(net, device, train_dataloader, val_dataloader, test_data, loss_function, optimizer, max_num_epochs, early_stopping)\n"
   ]
  },
  {
   "cell_type": "code",
   "execution_count": null,
   "id": "e9a973ad",
   "metadata": {},
   "outputs": [],
   "source": [
    "# Plot losses\n",
    "plt.figure(figsize=(12,8))\n",
    "plt.semilogy(train_loss_sgd, label='Train loss')\n",
    "plt.semilogy(val_loss_sgd, label='Validation loss')\n",
    "plt.xlabel('Epoch')\n",
    "plt.ylabel('Loss')\n",
    "plt.grid()\n",
    "plt.legend()\n",
    "plt.show()"
   ]
  },
  {
   "cell_type": "markdown",
   "id": "6a4906b9",
   "metadata": {},
   "source": [
    "### Adam"
   ]
  },
  {
   "cell_type": "code",
   "execution_count": 10,
   "id": "3e247605",
   "metadata": {},
   "outputs": [
    {
     "data": {
      "text/plain": [
       "ConvAE(\n",
       "  (encoder): ConvEncoder(\n",
       "    (first_conv): Sequential(\n",
       "      (0): Conv2d(1, 16, kernel_size=(5, 5), stride=(1, 1))\n",
       "      (1): BatchNorm2d(16, eps=1e-05, momentum=0.1, affine=True, track_running_stats=True)\n",
       "      (2): ReLU(inplace=True)\n",
       "      (3): Dropout(p=0.1, inplace=False)\n",
       "      (4): MaxPool2d(kernel_size=2, stride=2, padding=0, dilation=1, ceil_mode=False)\n",
       "    )\n",
       "    (second_conv): Sequential(\n",
       "      (0): Conv2d(16, 32, kernel_size=(5, 5), stride=(1, 1))\n",
       "      (1): BatchNorm2d(32, eps=1e-05, momentum=0.1, affine=True, track_running_stats=True)\n",
       "      (2): ReLU(inplace=True)\n",
       "      (3): Dropout(p=0.1, inplace=False)\n",
       "      (4): MaxPool2d(kernel_size=2, stride=2, padding=0, dilation=1, ceil_mode=False)\n",
       "    )\n",
       "    (flatten): Flatten(start_dim=1, end_dim=-1)\n",
       "    (encoder_lin): Sequential(\n",
       "      (0): Linear(in_features=512, out_features=128, bias=True)\n",
       "      (1): BatchNorm1d(128, eps=1e-05, momentum=0.1, affine=True, track_running_stats=True)\n",
       "      (2): ReLU(inplace=True)\n",
       "      (3): Dropout(p=0.1, inplace=False)\n",
       "      (4): Linear(in_features=128, out_features=20, bias=True)\n",
       "    )\n",
       "  )\n",
       "  (decoder): ConvDecoder(\n",
       "    (decoder_lin): Sequential(\n",
       "      (0): Linear(in_features=20, out_features=128, bias=True)\n",
       "      (1): Dropout(p=0.1, inplace=False)\n",
       "      (2): ReLU()\n",
       "      (3): BatchNorm1d(128, eps=1e-05, momentum=0.1, affine=True, track_running_stats=True)\n",
       "      (4): Linear(in_features=128, out_features=512, bias=True)\n",
       "    )\n",
       "    (unflatten): Unflatten(dim=1, unflattened_size=(32, 4, 4))\n",
       "    (unpool): MaxUnpool2d(kernel_size=(2, 2), stride=(2, 2), padding=(0, 0))\n",
       "    (first_deconv): Sequential(\n",
       "      (0): Dropout(p=0.1, inplace=False)\n",
       "      (1): ReLU(inplace=True)\n",
       "      (2): BatchNorm2d(32, eps=1e-05, momentum=0.1, affine=True, track_running_stats=True)\n",
       "      (3): ConvTranspose2d(32, 16, kernel_size=(5, 5), stride=(1, 1))\n",
       "    )\n",
       "    (second_deconv): Sequential(\n",
       "      (0): Dropout(p=0.1, inplace=False)\n",
       "      (1): ReLU(inplace=True)\n",
       "      (2): BatchNorm2d(16, eps=1e-05, momentum=0.1, affine=True, track_running_stats=True)\n",
       "      (3): ConvTranspose2d(16, 1, kernel_size=(5, 5), stride=(1, 1))\n",
       "    )\n",
       "  )\n",
       ")"
      ]
     },
     "execution_count": 10,
     "metadata": {},
     "output_type": "execute_result"
    }
   ],
   "source": [
    "### Filename of the net\n",
    "filename = 'AE_adam.torch'\n",
    "\n",
    "### Set the random seed for reproducible results\n",
    "torch.manual_seed(0)\n",
    "\n",
    "### Initialize the two networks\n",
    "parameters = {\n",
    "    \"encoded_space_dim\" : 20,\n",
    "    \"act\" : nn.ReLU,\n",
    "    \"drop_p\" : 0.1\n",
    "}\n",
    "net = ConvAE(parameters)\n",
    "\n",
    "### Move to device\n",
    "net.to(device)"
   ]
  },
  {
   "cell_type": "code",
   "execution_count": 13,
   "id": "27c5cde8",
   "metadata": {},
   "outputs": [
    {
     "data": {
      "application/vnd.jupyter.widget-view+json": {
       "model_id": "753bbcfe3cc14ab09981596ddcbbf984",
       "version_major": 2,
       "version_minor": 0
      },
      "text/plain": [
       "  0%|          | 0/20 [00:00<?, ?it/s]"
      ]
     },
     "metadata": {},
     "output_type": "display_data"
    },
    {
     "data": {
      "image/png": "[encoded data removed]",
      "text/plain": [
       "<Figure size 864x432 with 2 Axes>"
      ]
     },
     "metadata": {
      "needs_background": "light"
     },
     "output_type": "display_data"
    },
    {
     "ename": "KeyboardInterrupt",
     "evalue": "",
     "output_type": "error",
     "traceback": [
      "\u001b[0;31m---------------------------------------------------------------------------\u001b[0m",
      "\u001b[0;31mKeyboardInterrupt\u001b[0m                         Traceback (most recent call last)",
      "\u001b[0;32m<ipython-input-13-1eee9c9b49f7>\u001b[0m in \u001b[0;36m<module>\u001b[0;34m\u001b[0m\n\u001b[1;32m      9\u001b[0m \u001b[0mearly_stopping\u001b[0m \u001b[0;34m=\u001b[0m \u001b[0;32mTrue\u001b[0m\u001b[0;34m\u001b[0m\u001b[0;34m\u001b[0m\u001b[0m\n\u001b[1;32m     10\u001b[0m \u001b[0mplot_progress\u001b[0m \u001b[0;34m=\u001b[0m \u001b[0;32mTrue\u001b[0m\u001b[0;34m\u001b[0m\u001b[0;34m\u001b[0m\u001b[0m\n\u001b[0;32m---> 11\u001b[0;31m \u001b[0mtrain_loss_adam\u001b[0m\u001b[0;34m,\u001b[0m \u001b[0mval_loss_adam\u001b[0m \u001b[0;34m=\u001b[0m \u001b[0mtrain_epochs\u001b[0m\u001b[0;34m(\u001b[0m\u001b[0mnet\u001b[0m\u001b[0;34m,\u001b[0m \u001b[0mdevice\u001b[0m\u001b[0;34m,\u001b[0m \u001b[0mtrain_dataloader\u001b[0m\u001b[0;34m,\u001b[0m \u001b[0mval_dataloader\u001b[0m\u001b[0;34m,\u001b[0m \u001b[0mtest_data\u001b[0m\u001b[0;34m,\u001b[0m \u001b[0mloss_function\u001b[0m\u001b[0;34m,\u001b[0m \u001b[0moptimizer\u001b[0m\u001b[0;34m,\u001b[0m \u001b[0mmax_num_epochs\u001b[0m\u001b[0;34m,\u001b[0m \u001b[0mearly_stopping\u001b[0m\u001b[0;34m,\u001b[0m \u001b[0mplot_progress\u001b[0m \u001b[0;34m)\u001b[0m\u001b[0;34m\u001b[0m\u001b[0;34m\u001b[0m\u001b[0m\n\u001b[0m",
      "\u001b[0;32m~/Documents/Deep Learning/NNDL/Homework_2/training.py\u001b[0m in \u001b[0;36mtrain_epochs\u001b[0;34m(net, device, train_dataloader, val_dataloader, test_data, loss_function, optimizer, max_num_epochs, early_stopping, plot_progress)\u001b[0m\n\u001b[1;32m    114\u001b[0m \u001b[0;34m\u001b[0m\u001b[0m\n\u001b[1;32m    115\u001b[0m         \u001b[0;31m# Train an epoch and save losses\u001b[0m\u001b[0;34m\u001b[0m\u001b[0;34m\u001b[0m\u001b[0;34m\u001b[0m\u001b[0m\n\u001b[0;32m--> 116\u001b[0;31m         \u001b[0mmean_train_loss\u001b[0m \u001b[0;34m=\u001b[0m \u001b[0mtrain_epoch\u001b[0m\u001b[0;34m(\u001b[0m\u001b[0mnet\u001b[0m\u001b[0;34m,\u001b[0m \u001b[0mdevice\u001b[0m\u001b[0;34m,\u001b[0m \u001b[0mtrain_dataloader\u001b[0m\u001b[0;34m,\u001b[0m \u001b[0mloss_function\u001b[0m\u001b[0;34m,\u001b[0m \u001b[0moptimizer\u001b[0m\u001b[0;34m)\u001b[0m\u001b[0;34m\u001b[0m\u001b[0;34m\u001b[0m\u001b[0m\n\u001b[0m\u001b[1;32m    117\u001b[0m \u001b[0;34m\u001b[0m\u001b[0m\n\u001b[1;32m    118\u001b[0m         \u001b[0;31m# Validate an epoch\u001b[0m\u001b[0;34m\u001b[0m\u001b[0;34m\u001b[0m\u001b[0;34m\u001b[0m\u001b[0m\n",
      "\u001b[0;32m~/Documents/Deep Learning/NNDL/Homework_2/training.py\u001b[0m in \u001b[0;36mtrain_epoch\u001b[0;34m(net, device, dataloader, loss_function, optimizer, noise)\u001b[0m\n\u001b[1;32m     46\u001b[0m         \u001b[0;31m# Backpropagation\u001b[0m\u001b[0;34m\u001b[0m\u001b[0;34m\u001b[0m\u001b[0;34m\u001b[0m\u001b[0m\n\u001b[1;32m     47\u001b[0m         \u001b[0moptimizer\u001b[0m\u001b[0;34m.\u001b[0m\u001b[0mzero_grad\u001b[0m\u001b[0;34m(\u001b[0m\u001b[0;34m)\u001b[0m\u001b[0;34m\u001b[0m\u001b[0;34m\u001b[0m\u001b[0m\n\u001b[0;32m---> 48\u001b[0;31m         \u001b[0mloss\u001b[0m\u001b[0;34m.\u001b[0m\u001b[0mbackward\u001b[0m\u001b[0;34m(\u001b[0m\u001b[0;34m)\u001b[0m\u001b[0;34m\u001b[0m\u001b[0;34m\u001b[0m\u001b[0m\n\u001b[0m\u001b[1;32m     49\u001b[0m         \u001b[0moptimizer\u001b[0m\u001b[0;34m.\u001b[0m\u001b[0mstep\u001b[0m\u001b[0;34m(\u001b[0m\u001b[0;34m)\u001b[0m\u001b[0;34m\u001b[0m\u001b[0;34m\u001b[0m\u001b[0m\n\u001b[1;32m     50\u001b[0m \u001b[0;34m\u001b[0m\u001b[0m\n",
      "\u001b[0;32m~/opt/anaconda3/lib/python3.8/site-packages/torch/_tensor.py\u001b[0m in \u001b[0;36mbackward\u001b[0;34m(self, gradient, retain_graph, create_graph, inputs)\u001b[0m\n\u001b[1;32m    305\u001b[0m                 \u001b[0mcreate_graph\u001b[0m\u001b[0;34m=\u001b[0m\u001b[0mcreate_graph\u001b[0m\u001b[0;34m,\u001b[0m\u001b[0;34m\u001b[0m\u001b[0;34m\u001b[0m\u001b[0m\n\u001b[1;32m    306\u001b[0m                 inputs=inputs)\n\u001b[0;32m--> 307\u001b[0;31m         \u001b[0mtorch\u001b[0m\u001b[0;34m.\u001b[0m\u001b[0mautograd\u001b[0m\u001b[0;34m.\u001b[0m\u001b[0mbackward\u001b[0m\u001b[0;34m(\u001b[0m\u001b[0mself\u001b[0m\u001b[0;34m,\u001b[0m \u001b[0mgradient\u001b[0m\u001b[0;34m,\u001b[0m \u001b[0mretain_graph\u001b[0m\u001b[0;34m,\u001b[0m \u001b[0mcreate_graph\u001b[0m\u001b[0;34m,\u001b[0m \u001b[0minputs\u001b[0m\u001b[0;34m=\u001b[0m\u001b[0minputs\u001b[0m\u001b[0;34m)\u001b[0m\u001b[0;34m\u001b[0m\u001b[0;34m\u001b[0m\u001b[0m\n\u001b[0m\u001b[1;32m    308\u001b[0m \u001b[0;34m\u001b[0m\u001b[0m\n\u001b[1;32m    309\u001b[0m     \u001b[0;32mdef\u001b[0m \u001b[0mregister_hook\u001b[0m\u001b[0;34m(\u001b[0m\u001b[0mself\u001b[0m\u001b[0;34m,\u001b[0m \u001b[0mhook\u001b[0m\u001b[0;34m)\u001b[0m\u001b[0;34m:\u001b[0m\u001b[0;34m\u001b[0m\u001b[0;34m\u001b[0m\u001b[0m\n",
      "\u001b[0;32m~/opt/anaconda3/lib/python3.8/site-packages/torch/autograd/__init__.py\u001b[0m in \u001b[0;36mbackward\u001b[0;34m(tensors, grad_tensors, retain_graph, create_graph, grad_variables, inputs)\u001b[0m\n\u001b[1;32m    152\u001b[0m         \u001b[0mretain_graph\u001b[0m \u001b[0;34m=\u001b[0m \u001b[0mcreate_graph\u001b[0m\u001b[0;34m\u001b[0m\u001b[0;34m\u001b[0m\u001b[0m\n\u001b[1;32m    153\u001b[0m \u001b[0;34m\u001b[0m\u001b[0m\n\u001b[0;32m--> 154\u001b[0;31m     Variable._execution_engine.run_backward(\n\u001b[0m\u001b[1;32m    155\u001b[0m         \u001b[0mtensors\u001b[0m\u001b[0;34m,\u001b[0m \u001b[0mgrad_tensors_\u001b[0m\u001b[0;34m,\u001b[0m \u001b[0mretain_graph\u001b[0m\u001b[0;34m,\u001b[0m \u001b[0mcreate_graph\u001b[0m\u001b[0;34m,\u001b[0m \u001b[0minputs\u001b[0m\u001b[0;34m,\u001b[0m\u001b[0;34m\u001b[0m\u001b[0;34m\u001b[0m\u001b[0m\n\u001b[1;32m    156\u001b[0m         allow_unreachable=True, accumulate_grad=True)  # allow_unreachable flag\n",
      "\u001b[0;31mKeyboardInterrupt\u001b[0m: "
     ]
    }
   ],
   "source": [
    "# Define the loss function\n",
    "loss_function = nn.MSELoss()\n",
    "\n",
    "# Define the optimizer\n",
    "optimizer = optim.Adam(net.parameters(), lr = 0.001, weight_decay = 0.0)\n",
    "\n",
    "# Training \n",
    "max_num_epochs = 20\n",
    "early_stopping = True\n",
    "plot_progress = True\n",
    "train_loss_adam, val_loss_adam = train_epochs(net, device, train_dataloader, val_dataloader, test_data, loss_function, optimizer, max_num_epochs, early_stopping, plot_progress )\n"
   ]
  },
  {
   "cell_type": "code",
   "execution_count": null,
   "id": "d3bcdf61",
   "metadata": {
    "scrolled": false
   },
   "outputs": [],
   "source": [
    "# Plot losses\n",
    "plt.figure(figsize=(12,8))\n",
    "plt.semilogy(train_loss_adam, label='Train loss')\n",
    "plt.semilogy(val_loss_adam, label='Validation loss')\n",
    "plt.xlabel('Epoch')\n",
    "plt.ylabel('Loss')\n",
    "plt.grid()\n",
    "plt.legend()\n",
    "plt.show()"
   ]
  },
  {
   "cell_type": "markdown",
   "id": "76c0c280",
   "metadata": {},
   "source": [
    "## Save model"
   ]
  },
  {
   "cell_type": "code",
   "execution_count": null,
   "id": "10404dc2",
   "metadata": {},
   "outputs": [],
   "source": [
    "### Save network parameters\n",
    "### Save the network state\n",
    "# Save network parameters\n",
    "\n",
    "torch.save(net.state_dict(), filename)"
   ]
  },
  {
   "cell_type": "markdown",
   "id": "5cf9ffd4",
   "metadata": {},
   "source": [
    "## Hyperparamater optimization\n",
    "### Optuna framework"
   ]
  },
  {
   "cell_type": "code",
   "execution_count": 6,
   "id": "e95a02e0",
   "metadata": {},
   "outputs": [],
   "source": [
    "# Define objective function\n",
    "def objective(trial):\n",
    "    \n",
    "    # Define objects to be optimized\n",
    "    optimizer_name = trial.suggest_categorical(\"optimizer\", [\"Adam\", \"SGD\"])\n",
    "    activation_name = trial.suggest_categorical(\"activation\", [\"ReLU\", \"LeakyReLU\"])\n",
    "    lr = trial.suggest_float(\"learning_rate\", 1e-5, 1e-1, log = True)\n",
    "    \n",
    "    momentum = trial.suggest_float(\"momentum\", 0.0, 1.0)\n",
    "    drop_p = trial.suggest_float(\"dropout\", 0.0, 1.0)\n",
    "    encoded_space_dim = trial.suggest_int(\"encoded_space_dim\", 2, 30)\n",
    "    \n",
    "    ### Initialize the two networks\n",
    "    parameters = {\n",
    "        \"encoded_space_dim\" : encoded_space_dim,\n",
    "        \"act\" : getattr(nn, activation_name),\n",
    "        \"drop_p\" : drop_p\n",
    "    }\n",
    "    \n",
    "    # Define the model\n",
    "    model = ConvAE(parameters)\n",
    "   \n",
    "    # Define the optimizer\n",
    "    if optimizer_name == \"Adam\":\n",
    "        optimizer = getattr(optim, optimizer_name)(model.parameters(), lr=lr)\n",
    "    else:\n",
    "        optimizer = getattr(optim, optimizer_name)(model.parameters(), lr=lr, momentum = momentum)\n",
    "        \n",
    "    # Define the loss function \n",
    "    loss_function = nn.MSELoss()\n",
    "    \n",
    "    max_num_epochs = 10\n",
    "    early_stopping = False\n",
    "    plot_progress = False\n",
    "    train_loss, val_loss, accuracy = train_epochs(model, device, train_dataloader, val_dataloader, test_dataloader, loss_function, optimizer, max_num_epochs, early_stopping, plot_progress)\n",
    "    \n",
    "    # Metric to be minimized is the last validation loss\n",
    "    return val_loss[-1]\n"
   ]
  },
  {
   "cell_type": "code",
   "execution_count": 7,
   "id": "ab9c3f17",
   "metadata": {},
   "outputs": [
    {
     "name": "stderr",
     "output_type": "stream",
     "text": [
      "\u001b[32m[I 2022-02-10 12:01:39,171]\u001b[0m A new study created in memory with name: no-name-d475fd97-e126-469d-8f25-cbd325793430\u001b[0m\n"
     ]
    },
    {
     "data": {
      "application/vnd.jupyter.widget-view+json": {
       "model_id": "28473d56b0594741a183495c03a84d28",
       "version_major": 2,
       "version_minor": 0
      },
      "text/plain": [
       "  0%|          | 0/10 [00:00<?, ?it/s]"
      ]
     },
     "metadata": {},
     "output_type": "display_data"
    },
    {
     "ename": "KeyboardInterrupt",
     "evalue": "",
     "output_type": "error",
     "traceback": [
      "\u001b[0;31m---------------------------------------------------------------------------\u001b[0m",
      "\u001b[0;31mKeyboardInterrupt\u001b[0m                         Traceback (most recent call last)",
      "\u001b[0;32m<ipython-input-7-8d53a9eaff20>\u001b[0m in \u001b[0;36m<module>\u001b[0;34m\u001b[0m\n\u001b[1;32m      1\u001b[0m \u001b[0mstudy\u001b[0m \u001b[0;34m=\u001b[0m \u001b[0moptuna\u001b[0m\u001b[0;34m.\u001b[0m\u001b[0mcreate_study\u001b[0m\u001b[0;34m(\u001b[0m\u001b[0;34m)\u001b[0m\u001b[0;34m\u001b[0m\u001b[0;34m\u001b[0m\u001b[0m\n\u001b[0;32m----> 2\u001b[0;31m \u001b[0mstudy\u001b[0m\u001b[0;34m.\u001b[0m\u001b[0moptimize\u001b[0m\u001b[0;34m(\u001b[0m\u001b[0mobjective\u001b[0m\u001b[0;34m,\u001b[0m \u001b[0mn_trials\u001b[0m\u001b[0;34m=\u001b[0m \u001b[0;36m20\u001b[0m\u001b[0;34m)\u001b[0m\u001b[0;34m\u001b[0m\u001b[0;34m\u001b[0m\u001b[0m\n\u001b[0m\u001b[1;32m      3\u001b[0m \u001b[0;34m\u001b[0m\u001b[0m\n\u001b[1;32m      4\u001b[0m \u001b[0mstudy\u001b[0m\u001b[0;34m.\u001b[0m\u001b[0mbest_params\u001b[0m\u001b[0;34m\u001b[0m\u001b[0;34m\u001b[0m\u001b[0m\n",
      "\u001b[0;32m~/opt/anaconda3/lib/python3.8/site-packages/optuna/study/study.py\u001b[0m in \u001b[0;36moptimize\u001b[0;34m(self, func, n_trials, timeout, n_jobs, catch, callbacks, gc_after_trial, show_progress_bar)\u001b[0m\n\u001b[1;32m    398\u001b[0m             )\n\u001b[1;32m    399\u001b[0m \u001b[0;34m\u001b[0m\u001b[0m\n\u001b[0;32m--> 400\u001b[0;31m         _optimize(\n\u001b[0m\u001b[1;32m    401\u001b[0m             \u001b[0mstudy\u001b[0m\u001b[0;34m=\u001b[0m\u001b[0mself\u001b[0m\u001b[0;34m,\u001b[0m\u001b[0;34m\u001b[0m\u001b[0;34m\u001b[0m\u001b[0m\n\u001b[1;32m    402\u001b[0m             \u001b[0mfunc\u001b[0m\u001b[0;34m=\u001b[0m\u001b[0mfunc\u001b[0m\u001b[0;34m,\u001b[0m\u001b[0;34m\u001b[0m\u001b[0;34m\u001b[0m\u001b[0m\n",
      "\u001b[0;32m~/opt/anaconda3/lib/python3.8/site-packages/optuna/study/_optimize.py\u001b[0m in \u001b[0;36m_optimize\u001b[0;34m(study, func, n_trials, timeout, n_jobs, catch, callbacks, gc_after_trial, show_progress_bar)\u001b[0m\n\u001b[1;32m     64\u001b[0m     \u001b[0;32mtry\u001b[0m\u001b[0;34m:\u001b[0m\u001b[0;34m\u001b[0m\u001b[0;34m\u001b[0m\u001b[0m\n\u001b[1;32m     65\u001b[0m         \u001b[0;32mif\u001b[0m \u001b[0mn_jobs\u001b[0m \u001b[0;34m==\u001b[0m \u001b[0;36m1\u001b[0m\u001b[0;34m:\u001b[0m\u001b[0;34m\u001b[0m\u001b[0;34m\u001b[0m\u001b[0m\n\u001b[0;32m---> 66\u001b[0;31m             _optimize_sequential(\n\u001b[0m\u001b[1;32m     67\u001b[0m                 \u001b[0mstudy\u001b[0m\u001b[0;34m,\u001b[0m\u001b[0;34m\u001b[0m\u001b[0;34m\u001b[0m\u001b[0m\n\u001b[1;32m     68\u001b[0m                 \u001b[0mfunc\u001b[0m\u001b[0;34m,\u001b[0m\u001b[0;34m\u001b[0m\u001b[0;34m\u001b[0m\u001b[0m\n",
      "\u001b[0;32m~/opt/anaconda3/lib/python3.8/site-packages/optuna/study/_optimize.py\u001b[0m in \u001b[0;36m_optimize_sequential\u001b[0;34m(study, func, n_trials, timeout, catch, callbacks, gc_after_trial, reseed_sampler_rng, time_start, progress_bar)\u001b[0m\n\u001b[1;32m    161\u001b[0m \u001b[0;34m\u001b[0m\u001b[0m\n\u001b[1;32m    162\u001b[0m         \u001b[0;32mtry\u001b[0m\u001b[0;34m:\u001b[0m\u001b[0;34m\u001b[0m\u001b[0;34m\u001b[0m\u001b[0m\n\u001b[0;32m--> 163\u001b[0;31m             \u001b[0mtrial\u001b[0m \u001b[0;34m=\u001b[0m \u001b[0m_run_trial\u001b[0m\u001b[0;34m(\u001b[0m\u001b[0mstudy\u001b[0m\u001b[0;34m,\u001b[0m \u001b[0mfunc\u001b[0m\u001b[0;34m,\u001b[0m \u001b[0mcatch\u001b[0m\u001b[0;34m)\u001b[0m\u001b[0;34m\u001b[0m\u001b[0;34m\u001b[0m\u001b[0m\n\u001b[0m\u001b[1;32m    164\u001b[0m         \u001b[0;32mexcept\u001b[0m \u001b[0mException\u001b[0m\u001b[0;34m:\u001b[0m\u001b[0;34m\u001b[0m\u001b[0;34m\u001b[0m\u001b[0m\n\u001b[1;32m    165\u001b[0m             \u001b[0;32mraise\u001b[0m\u001b[0;34m\u001b[0m\u001b[0;34m\u001b[0m\u001b[0m\n",
      "\u001b[0;32m~/opt/anaconda3/lib/python3.8/site-packages/optuna/study/_optimize.py\u001b[0m in \u001b[0;36m_run_trial\u001b[0;34m(study, func, catch)\u001b[0m\n\u001b[1;32m    211\u001b[0m \u001b[0;34m\u001b[0m\u001b[0m\n\u001b[1;32m    212\u001b[0m     \u001b[0;32mtry\u001b[0m\u001b[0;34m:\u001b[0m\u001b[0;34m\u001b[0m\u001b[0;34m\u001b[0m\u001b[0m\n\u001b[0;32m--> 213\u001b[0;31m         \u001b[0mvalue_or_values\u001b[0m \u001b[0;34m=\u001b[0m \u001b[0mfunc\u001b[0m\u001b[0;34m(\u001b[0m\u001b[0mtrial\u001b[0m\u001b[0;34m)\u001b[0m\u001b[0;34m\u001b[0m\u001b[0;34m\u001b[0m\u001b[0m\n\u001b[0m\u001b[1;32m    214\u001b[0m     \u001b[0;32mexcept\u001b[0m \u001b[0mexceptions\u001b[0m\u001b[0;34m.\u001b[0m\u001b[0mTrialPruned\u001b[0m \u001b[0;32mas\u001b[0m \u001b[0me\u001b[0m\u001b[0;34m:\u001b[0m\u001b[0;34m\u001b[0m\u001b[0;34m\u001b[0m\u001b[0m\n\u001b[1;32m    215\u001b[0m         \u001b[0;31m# TODO(mamu): Handle multi-objective cases.\u001b[0m\u001b[0;34m\u001b[0m\u001b[0;34m\u001b[0m\u001b[0;34m\u001b[0m\u001b[0m\n",
      "\u001b[0;32m<ipython-input-6-cc381f7f832a>\u001b[0m in \u001b[0;36mobjective\u001b[0;34m(trial)\u001b[0m\n\u001b[1;32m     33\u001b[0m     \u001b[0mearly_stopping\u001b[0m \u001b[0;34m=\u001b[0m \u001b[0;32mFalse\u001b[0m\u001b[0;34m\u001b[0m\u001b[0;34m\u001b[0m\u001b[0m\n\u001b[1;32m     34\u001b[0m     \u001b[0mplot_progress\u001b[0m \u001b[0;34m=\u001b[0m \u001b[0;32mFalse\u001b[0m\u001b[0;34m\u001b[0m\u001b[0;34m\u001b[0m\u001b[0m\n\u001b[0;32m---> 35\u001b[0;31m     \u001b[0mtrain_loss\u001b[0m\u001b[0;34m,\u001b[0m \u001b[0mval_loss\u001b[0m\u001b[0;34m,\u001b[0m \u001b[0maccuracy\u001b[0m \u001b[0;34m=\u001b[0m \u001b[0mtrain_epochs\u001b[0m\u001b[0;34m(\u001b[0m\u001b[0mmodel\u001b[0m\u001b[0;34m,\u001b[0m \u001b[0mdevice\u001b[0m\u001b[0;34m,\u001b[0m \u001b[0mtrain_dataloader\u001b[0m\u001b[0;34m,\u001b[0m \u001b[0mval_dataloader\u001b[0m\u001b[0;34m,\u001b[0m \u001b[0mtest_dataloader\u001b[0m\u001b[0;34m,\u001b[0m \u001b[0mloss_function\u001b[0m\u001b[0;34m,\u001b[0m \u001b[0moptimizer\u001b[0m\u001b[0;34m,\u001b[0m \u001b[0mmax_num_epochs\u001b[0m\u001b[0;34m,\u001b[0m \u001b[0mearly_stopping\u001b[0m\u001b[0;34m,\u001b[0m \u001b[0mplot_progress\u001b[0m\u001b[0;34m)\u001b[0m\u001b[0;34m\u001b[0m\u001b[0;34m\u001b[0m\u001b[0m\n\u001b[0m\u001b[1;32m     36\u001b[0m \u001b[0;34m\u001b[0m\u001b[0m\n\u001b[1;32m     37\u001b[0m     \u001b[0;31m# Metric to be minimized is the last validation loss\u001b[0m\u001b[0;34m\u001b[0m\u001b[0;34m\u001b[0m\u001b[0;34m\u001b[0m\u001b[0m\n",
      "\u001b[0;32m~/Documents/Deep Learning/NNDL/Homework_2/training.py\u001b[0m in \u001b[0;36mtrain_epochs\u001b[0;34m(net, device, train_dataloader, val_dataloader, test_data, loss_function, optimizer, max_num_epochs, early_stopping, plot_progress)\u001b[0m\n\u001b[1;32m    114\u001b[0m \u001b[0;34m\u001b[0m\u001b[0m\n\u001b[1;32m    115\u001b[0m         \u001b[0;31m# Train an epoch and save losses\u001b[0m\u001b[0;34m\u001b[0m\u001b[0;34m\u001b[0m\u001b[0;34m\u001b[0m\u001b[0m\n\u001b[0;32m--> 116\u001b[0;31m         \u001b[0mmean_train_loss\u001b[0m \u001b[0;34m=\u001b[0m \u001b[0mtrain_epoch\u001b[0m\u001b[0;34m(\u001b[0m\u001b[0mnet\u001b[0m\u001b[0;34m,\u001b[0m \u001b[0mdevice\u001b[0m\u001b[0;34m,\u001b[0m \u001b[0mtrain_dataloader\u001b[0m\u001b[0;34m,\u001b[0m \u001b[0mloss_function\u001b[0m\u001b[0;34m,\u001b[0m \u001b[0moptimizer\u001b[0m\u001b[0;34m)\u001b[0m\u001b[0;34m\u001b[0m\u001b[0;34m\u001b[0m\u001b[0m\n\u001b[0m\u001b[1;32m    117\u001b[0m \u001b[0;34m\u001b[0m\u001b[0m\n\u001b[1;32m    118\u001b[0m         \u001b[0;31m# Validate an epoch\u001b[0m\u001b[0;34m\u001b[0m\u001b[0;34m\u001b[0m\u001b[0;34m\u001b[0m\u001b[0m\n",
      "\u001b[0;32m~/Documents/Deep Learning/NNDL/Homework_2/training.py\u001b[0m in \u001b[0;36mtrain_epoch\u001b[0;34m(net, device, dataloader, loss_function, optimizer, noise)\u001b[0m\n\u001b[1;32m     46\u001b[0m         \u001b[0;31m# Backpropagation\u001b[0m\u001b[0;34m\u001b[0m\u001b[0;34m\u001b[0m\u001b[0;34m\u001b[0m\u001b[0m\n\u001b[1;32m     47\u001b[0m         \u001b[0moptimizer\u001b[0m\u001b[0;34m.\u001b[0m\u001b[0mzero_grad\u001b[0m\u001b[0;34m(\u001b[0m\u001b[0;34m)\u001b[0m\u001b[0;34m\u001b[0m\u001b[0;34m\u001b[0m\u001b[0m\n\u001b[0;32m---> 48\u001b[0;31m         \u001b[0mloss\u001b[0m\u001b[0;34m.\u001b[0m\u001b[0mbackward\u001b[0m\u001b[0;34m(\u001b[0m\u001b[0;34m)\u001b[0m\u001b[0;34m\u001b[0m\u001b[0;34m\u001b[0m\u001b[0m\n\u001b[0m\u001b[1;32m     49\u001b[0m         \u001b[0moptimizer\u001b[0m\u001b[0;34m.\u001b[0m\u001b[0mstep\u001b[0m\u001b[0;34m(\u001b[0m\u001b[0;34m)\u001b[0m\u001b[0;34m\u001b[0m\u001b[0;34m\u001b[0m\u001b[0m\n\u001b[1;32m     50\u001b[0m \u001b[0;34m\u001b[0m\u001b[0m\n",
      "\u001b[0;32m~/opt/anaconda3/lib/python3.8/site-packages/torch/_tensor.py\u001b[0m in \u001b[0;36mbackward\u001b[0;34m(self, gradient, retain_graph, create_graph, inputs)\u001b[0m\n\u001b[1;32m    305\u001b[0m                 \u001b[0mcreate_graph\u001b[0m\u001b[0;34m=\u001b[0m\u001b[0mcreate_graph\u001b[0m\u001b[0;34m,\u001b[0m\u001b[0;34m\u001b[0m\u001b[0;34m\u001b[0m\u001b[0m\n\u001b[1;32m    306\u001b[0m                 inputs=inputs)\n\u001b[0;32m--> 307\u001b[0;31m         \u001b[0mtorch\u001b[0m\u001b[0;34m.\u001b[0m\u001b[0mautograd\u001b[0m\u001b[0;34m.\u001b[0m\u001b[0mbackward\u001b[0m\u001b[0;34m(\u001b[0m\u001b[0mself\u001b[0m\u001b[0;34m,\u001b[0m \u001b[0mgradient\u001b[0m\u001b[0;34m,\u001b[0m \u001b[0mretain_graph\u001b[0m\u001b[0;34m,\u001b[0m \u001b[0mcreate_graph\u001b[0m\u001b[0;34m,\u001b[0m \u001b[0minputs\u001b[0m\u001b[0;34m=\u001b[0m\u001b[0minputs\u001b[0m\u001b[0;34m)\u001b[0m\u001b[0;34m\u001b[0m\u001b[0;34m\u001b[0m\u001b[0m\n\u001b[0m\u001b[1;32m    308\u001b[0m \u001b[0;34m\u001b[0m\u001b[0m\n\u001b[1;32m    309\u001b[0m     \u001b[0;32mdef\u001b[0m \u001b[0mregister_hook\u001b[0m\u001b[0;34m(\u001b[0m\u001b[0mself\u001b[0m\u001b[0;34m,\u001b[0m \u001b[0mhook\u001b[0m\u001b[0;34m)\u001b[0m\u001b[0;34m:\u001b[0m\u001b[0;34m\u001b[0m\u001b[0;34m\u001b[0m\u001b[0m\n",
      "\u001b[0;32m~/opt/anaconda3/lib/python3.8/site-packages/torch/autograd/__init__.py\u001b[0m in \u001b[0;36mbackward\u001b[0;34m(tensors, grad_tensors, retain_graph, create_graph, grad_variables, inputs)\u001b[0m\n\u001b[1;32m    152\u001b[0m         \u001b[0mretain_graph\u001b[0m \u001b[0;34m=\u001b[0m \u001b[0mcreate_graph\u001b[0m\u001b[0;34m\u001b[0m\u001b[0;34m\u001b[0m\u001b[0m\n\u001b[1;32m    153\u001b[0m \u001b[0;34m\u001b[0m\u001b[0m\n\u001b[0;32m--> 154\u001b[0;31m     Variable._execution_engine.run_backward(\n\u001b[0m\u001b[1;32m    155\u001b[0m         \u001b[0mtensors\u001b[0m\u001b[0;34m,\u001b[0m \u001b[0mgrad_tensors_\u001b[0m\u001b[0;34m,\u001b[0m \u001b[0mretain_graph\u001b[0m\u001b[0;34m,\u001b[0m \u001b[0mcreate_graph\u001b[0m\u001b[0;34m,\u001b[0m \u001b[0minputs\u001b[0m\u001b[0;34m,\u001b[0m\u001b[0;34m\u001b[0m\u001b[0;34m\u001b[0m\u001b[0m\n\u001b[1;32m    156\u001b[0m         allow_unreachable=True, accumulate_grad=True)  # allow_unreachable flag\n",
      "\u001b[0;31mKeyboardInterrupt\u001b[0m: "
     ]
    }
   ],
   "source": [
    "study = optuna.create_study()\n",
    "study.optimize(objective, n_trials= 20)\n",
    "\n",
    "study.best_params  "
   ]
  },
  {
   "cell_type": "code",
   "execution_count": null,
   "id": "3fe803f6",
   "metadata": {},
   "outputs": [],
   "source": [
    "plot_parallel_coordinate(study)"
   ]
  },
  {
   "cell_type": "code",
   "execution_count": null,
   "id": "f3736542",
   "metadata": {},
   "outputs": [],
   "source": [
    "plot_param_importances(study)"
   ]
  },
  {
   "cell_type": "markdown",
   "id": "36f8022c",
   "metadata": {},
   "source": [
    "## Best model"
   ]
  },
  {
   "cell_type": "code",
   "execution_count": null,
   "id": "59b28907",
   "metadata": {},
   "outputs": [],
   "source": []
  },
  {
   "cell_type": "code",
   "execution_count": null,
   "id": "ea0e98a0",
   "metadata": {},
   "outputs": [],
   "source": []
  },
  {
   "cell_type": "code",
   "execution_count": null,
   "id": "a8aaa362",
   "metadata": {},
   "outputs": [],
   "source": []
  },
  {
   "cell_type": "code",
   "execution_count": null,
   "id": "7123e724",
   "metadata": {},
   "outputs": [],
   "source": []
  },
  {
   "cell_type": "markdown",
   "id": "fa8f53ee",
   "metadata": {},
   "source": [
    "## Network analysis"
   ]
  },
  {
   "cell_type": "code",
   "execution_count": null,
   "id": "81f10fba",
   "metadata": {},
   "outputs": [],
   "source": [
    "### Get the encoded representation of the test samples\n",
    "labels = []\n",
    "matrix = []\n",
    "for sample in tqdm_notebook(test_data):\n",
    "    img = sample[0].unsqueeze(0).to(device)\n",
    "    label = sample[1]\n",
    "    # Encode image\n",
    "    net.eval()\n",
    "    with torch.no_grad():\n",
    "        encoded_img, _  = net(img)\n",
    "    # Append to list\n",
    "    encoded_img = encoded_img.flatten().cpu().numpy()\n",
    "    matrix.append(encoded_img)\n",
    "    labels.append(label)\n",
    "\n",
    "matrix = np.array(matrix)\n",
    "\n"
   ]
  },
  {
   "cell_type": "markdown",
   "id": "bfa0ff8c",
   "metadata": {},
   "source": [
    "### PCA"
   ]
  },
  {
   "cell_type": "code",
   "execution_count": null,
   "id": "4f4fc73e",
   "metadata": {},
   "outputs": [],
   "source": [
    "# Singular values decomposition\n",
    "pca = PCA(n_components=2, svd_solver='full').fit_transform(matrix)\n",
    "\n",
    "# Create dictionary\n",
    "encoded_samples_pca = []\n",
    "for i in tqdm_notebook(range(pca.shape[0])):\n",
    "    encoded_sample = {f\"Enc. Variable {i}\": enc for i, enc in enumerate(pca[i])}\n",
    "    encoded_sample[\"label\"] = labels[i]\n",
    "    encoded_samples_pca.append(encoded_sample)\n"
   ]
  },
  {
   "cell_type": "markdown",
   "id": "c3984e24",
   "metadata": {},
   "source": [
    "### t-SNE"
   ]
  },
  {
   "cell_type": "code",
   "execution_count": null,
   "id": "4556ca01",
   "metadata": {},
   "outputs": [],
   "source": [
    "# t-SNE projection\n",
    "tsne = TSNE(n_components=2, init='pca').fit_transform(matrix)\n",
    "\n",
    "# Create dictionary\n",
    "encoded_samples_tsne = []\n",
    "for i in tqdm_notebook(range(tsne.shape[0])):\n",
    "    encoded_sample = {f\"Enc. Variable {i}\": enc for i, enc in enumerate(tsne[i])}\n",
    "    encoded_sample[\"label\"] = labels[i]\n",
    "    encoded_samples_tsne.append(encoded_sample)"
   ]
  },
  {
   "cell_type": "markdown",
   "id": "c06e7b86",
   "metadata": {},
   "source": [
    "### Visualization"
   ]
  },
  {
   "cell_type": "code",
   "execution_count": null,
   "id": "7ec62230",
   "metadata": {},
   "outputs": [],
   "source": [
    "# Convert to a dataframe\n",
    "df_pca = pd.DataFrame(encoded_samples_pca)\n",
    "df_tsne = pd.DataFrame(encoded_samples_tsne)\n",
    "\n",
    "px.scatter(df_pca, x='Enc. Variable 0', y='Enc. Variable 1', color=df_pca.label.astype(str), opacity=0.7)\n",
    "#px.scatter(df_tsne, x='Enc. Variable 0', y='Enc. Variable 1', color=df_tsne.label.astype(str), opacity=0.7)\n"
   ]
  },
  {
   "cell_type": "code",
   "execution_count": null,
   "id": "cf946dac",
   "metadata": {},
   "outputs": [],
   "source": [
    "# Reconstruct images\n",
    "fig, axs = plt.subplots(3, 2, figsize=(18,9))\n",
    "net.eval()\n",
    "\n",
    "# Get the output of a specific image (the test image at index 0 in this case)\n",
    "img_indx =10\n",
    "img = test_data[img_indx][0].unsqueeze(0).to(device)\n",
    "label = test_data[img_indx][1]\n",
    "\n",
    "with torch.no_grad():\n",
    "    _ , rec_img  = net(img)\n",
    "    \n",
    "# Plot the reconstructed image\n",
    "axs[0,0].imshow(img.cpu().squeeze().numpy(), cmap='gist_gray')\n",
    "axs[0,0].set_title('Original image: label %d' %label)\n",
    "axs[0,1].imshow(rec_img.cpu().squeeze().numpy(), cmap='gist_gray')\n",
    "axs[0,1].set_title('Reconstructed image')\n",
    "\n",
    "\n",
    "\n",
    "# Get the output of a specific image (the test image at index 0 in this case)\n",
    "img_indx = 12\n",
    "img = test_data[img_indx][0].unsqueeze(0).to(device)\n",
    "label = test_data[img_indx][1]\n",
    "\n",
    "with torch.no_grad():\n",
    "    _, rec_img  =net(img)\n",
    "    \n",
    "# Plot the reconstructed image\n",
    "axs[1,0].imshow(img.cpu().squeeze().numpy(), cmap='gist_gray')\n",
    "axs[1,0].set_title('Original image: label %d' %label)\n",
    "axs[1,1].imshow(rec_img.cpu().squeeze().numpy(), cmap='gist_gray')\n",
    "axs[1,1].set_title('Reconstructed image')\n",
    "\n",
    "\n",
    "# Get the output of a specific image (the test image at index 0 in this case)\n",
    "img_indx = 122\n",
    "img = test_data[img_indx][0].unsqueeze(0).to(device)\n",
    "label = test_data[img_indx][1]\n",
    "\n",
    "with torch.no_grad():\n",
    "    _, rec_img  = net(img)\n",
    "    \n",
    "# Plot the reconstructed image\n",
    "axs[2,0].imshow(img.cpu().squeeze().numpy(), cmap='gist_gray')\n",
    "axs[2,0].set_title('Original image: label %d' %label)\n",
    "axs[2,1].imshow(rec_img.cpu().squeeze().numpy(), cmap='gist_gray')\n",
    "axs[2,1].set_title('Reconstructed image')\n",
    "\n",
    "\n",
    "\n",
    "plt.tight_layout()\n",
    "\n"
   ]
  },
  {
   "cell_type": "code",
   "execution_count": null,
   "id": "0f0ee20e",
   "metadata": {},
   "outputs": [],
   "source": [
    "### Generate samples from encoded space\n",
    "\n",
    "# Generate a custom sample\n",
    "custom_encoded_sample = np.random.rand(20)\n",
    "encoded_value = torch.tensor(custom_encoded_sample).float().unsqueeze(0).to(device)\n",
    "\n",
    "# Decode sample\n",
    "decoder.eval()\n",
    "with torch.no_grad():\n",
    "    _, generated_img  = net.(encoded_value)\n",
    "\n",
    "plt.figure(figsize=(12,10))\n",
    "plt.imshow(generated_img.squeeze().cpu().numpy(), cmap='gist_gray')\n",
    "plt.show()"
   ]
  },
  {
   "cell_type": "code",
   "execution_count": null,
   "id": "71c5ac21",
   "metadata": {},
   "outputs": [],
   "source": [
    "### Generate regular samples from encoded space\n",
    "\n",
    "figure = plt.figure(figsize=(16, 16))\n",
    "cols, rows = 8, 8\n",
    "\n",
    "dim1 = np.linspace(-2,2,cols)\n",
    "dim2 = np.linspace(-2,2,rows)\n",
    "\n",
    "for i in range(cols):\n",
    "    for j in range(rows):\n",
    "        # Create  an encoded sample\n",
    "        encoded_sample = [dim1[i], dim2[j]]\n",
    "        encoded_sample = torch.tensor(encoded_sample).float().unsqueeze(0).to(device)\n",
    "        \n",
    "        # Decode sample\n",
    "        decoder.eval()\n",
    "        with torch.no_grad():\n",
    "            generated_img  = decoder(encoded_sample)\n",
    "        sample_idx = torch.randint(len(train_data), size=(1,)).item()\n",
    "        img, label = train_data[sample_idx]\n",
    "        figure.add_subplot(rows, cols, j*cols+1+i)\n",
    "        plt.axis(\"off\")\n",
    "        plt.imshow(generated_img.squeeze().cpu().numpy(), cmap=\"gray\")\n",
    "plt.show()"
   ]
  },
  {
   "cell_type": "markdown",
   "id": "15a45c3a",
   "metadata": {},
   "source": [
    "# Fine tuning"
   ]
  },
  {
   "cell_type": "code",
   "execution_count": 9,
   "id": "7a99a59c",
   "metadata": {},
   "outputs": [
    {
     "ename": "RuntimeError",
     "evalue": "Error(s) in loading state_dict for ConvAE:\n\tMissing key(s) in state_dict: \"encoder.first_conv.0.weight\", \"encoder.first_conv.0.bias\", \"encoder.first_conv.1.weight\", \"encoder.first_conv.1.bias\", \"encoder.first_conv.1.running_mean\", \"encoder.first_conv.1.running_var\", \"encoder.second_conv.0.weight\", \"encoder.second_conv.0.bias\", \"encoder.second_conv.1.weight\", \"encoder.second_conv.1.bias\", \"encoder.second_conv.1.running_mean\", \"encoder.second_conv.1.running_var\", \"encoder.encoder_lin.0.weight\", \"encoder.encoder_lin.0.bias\", \"encoder.encoder_lin.1.weight\", \"encoder.encoder_lin.1.bias\", \"encoder.encoder_lin.1.running_mean\", \"encoder.encoder_lin.1.running_var\", \"encoder.encoder_lin.4.weight\", \"encoder.encoder_lin.4.bias\", \"decoder.decoder_lin.0.weight\", \"decoder.decoder_lin.0.bias\", \"decoder.decoder_lin.3.weight\", \"decoder.decoder_lin.3.bias\", \"decoder.decoder_lin.3.running_mean\", \"decoder.decoder_lin.3.running_var\", \"decoder.decoder_lin.4.weight\", \"decoder.decoder_lin.4.bias\", \"decoder.first_deconv.2.weight\", \"decoder.first_deconv.2.bias\", \"decoder.first_deconv.2.running_mean\", \"decoder.first_deconv.2.running_var\", \"decoder.first_deconv.3.weight\", \"decoder.first_deconv.3.bias\", \"decoder.second_deconv.2.weight\", \"decoder.second_deconv.2.bias\", \"decoder.second_deconv.2.running_mean\", \"decoder.second_deconv.2.running_var\", \"decoder.second_deconv.3.weight\", \"decoder.second_deconv.3.bias\". \n\tUnexpected key(s) in state_dict: \"first_conv.0.weight\", \"first_conv.0.bias\", \"first_conv.2.weight\", \"first_conv.2.bias\", \"first_conv.2.running_mean\", \"first_conv.2.running_var\", \"first_conv.2.num_batches_tracked\", \"second_conv.0.weight\", \"second_conv.0.bias\", \"second_conv.2.weight\", \"second_conv.2.bias\", \"second_conv.2.running_mean\", \"second_conv.2.running_var\", \"second_conv.2.num_batches_tracked\", \"encoder_lin.0.weight\", \"encoder_lin.0.bias\", \"encoder_lin.2.weight\", \"encoder_lin.2.bias\", \"encoder_lin.2.running_mean\", \"encoder_lin.2.running_var\", \"encoder_lin.2.num_batches_tracked\", \"encoder_lin.4.weight\", \"encoder_lin.4.bias\", \"decoder_lin.0.weight\", \"decoder_lin.0.bias\", \"decoder_lin.2.weight\", \"decoder_lin.2.bias\", \"decoder_lin.2.running_mean\", \"decoder_lin.2.running_var\", \"decoder_lin.2.num_batches_tracked\", \"decoder_lin.4.weight\", \"decoder_lin.4.bias\", \"first_deconv.1.weight\", \"first_deconv.1.bias\", \"first_deconv.1.running_mean\", \"first_deconv.1.running_var\", \"first_deconv.1.num_batches_tracked\", \"first_deconv.3.weight\", \"first_deconv.3.bias\", \"second_deconv.1.weight\", \"second_deconv.1.bias\", \"second_deconv.1.running_mean\", \"second_deconv.1.running_var\", \"second_deconv.1.num_batches_tracked\", \"second_deconv.3.weight\", \"second_deconv.3.bias\". ",
     "output_type": "error",
     "traceback": [
      "\u001b[0;31m---------------------------------------------------------------------------\u001b[0m",
      "\u001b[0;31mRuntimeError\u001b[0m                              Traceback (most recent call last)",
      "\u001b[0;32m<ipython-input-9-0808c60444f1>\u001b[0m in \u001b[0;36m<module>\u001b[0;34m\u001b[0m\n\u001b[1;32m     13\u001b[0m \u001b[0;34m\u001b[0m\u001b[0m\n\u001b[1;32m     14\u001b[0m \u001b[0mnet\u001b[0m \u001b[0;34m=\u001b[0m \u001b[0mConvAE\u001b[0m\u001b[0;34m(\u001b[0m\u001b[0mparameters\u001b[0m\u001b[0;34m)\u001b[0m\u001b[0;34m\u001b[0m\u001b[0;34m\u001b[0m\u001b[0m\n\u001b[0;32m---> 15\u001b[0;31m \u001b[0mnet\u001b[0m\u001b[0;34m.\u001b[0m\u001b[0mload_state_dict\u001b[0m\u001b[0;34m(\u001b[0m\u001b[0mparams_dict\u001b[0m\u001b[0;34m)\u001b[0m\u001b[0;34m\u001b[0m\u001b[0;34m\u001b[0m\u001b[0m\n\u001b[0m",
      "\u001b[0;32m~/opt/anaconda3/lib/python3.8/site-packages/torch/nn/modules/module.py\u001b[0m in \u001b[0;36mload_state_dict\u001b[0;34m(self, state_dict, strict)\u001b[0m\n\u001b[1;32m   1480\u001b[0m \u001b[0;34m\u001b[0m\u001b[0m\n\u001b[1;32m   1481\u001b[0m         \u001b[0;32mif\u001b[0m \u001b[0mlen\u001b[0m\u001b[0;34m(\u001b[0m\u001b[0merror_msgs\u001b[0m\u001b[0;34m)\u001b[0m \u001b[0;34m>\u001b[0m \u001b[0;36m0\u001b[0m\u001b[0;34m:\u001b[0m\u001b[0;34m\u001b[0m\u001b[0;34m\u001b[0m\u001b[0m\n\u001b[0;32m-> 1482\u001b[0;31m             raise RuntimeError('Error(s) in loading state_dict for {}:\\n\\t{}'.format(\n\u001b[0m\u001b[1;32m   1483\u001b[0m                                self.__class__.__name__, \"\\n\\t\".join(error_msgs)))\n\u001b[1;32m   1484\u001b[0m         \u001b[0;32mreturn\u001b[0m \u001b[0m_IncompatibleKeys\u001b[0m\u001b[0;34m(\u001b[0m\u001b[0mmissing_keys\u001b[0m\u001b[0;34m,\u001b[0m \u001b[0munexpected_keys\u001b[0m\u001b[0;34m)\u001b[0m\u001b[0;34m\u001b[0m\u001b[0;34m\u001b[0m\u001b[0m\n",
      "\u001b[0;31mRuntimeError\u001b[0m: Error(s) in loading state_dict for ConvAE:\n\tMissing key(s) in state_dict: \"encoder.first_conv.0.weight\", \"encoder.first_conv.0.bias\", \"encoder.first_conv.1.weight\", \"encoder.first_conv.1.bias\", \"encoder.first_conv.1.running_mean\", \"encoder.first_conv.1.running_var\", \"encoder.second_conv.0.weight\", \"encoder.second_conv.0.bias\", \"encoder.second_conv.1.weight\", \"encoder.second_conv.1.bias\", \"encoder.second_conv.1.running_mean\", \"encoder.second_conv.1.running_var\", \"encoder.encoder_lin.0.weight\", \"encoder.encoder_lin.0.bias\", \"encoder.encoder_lin.1.weight\", \"encoder.encoder_lin.1.bias\", \"encoder.encoder_lin.1.running_mean\", \"encoder.encoder_lin.1.running_var\", \"encoder.encoder_lin.4.weight\", \"encoder.encoder_lin.4.bias\", \"decoder.decoder_lin.0.weight\", \"decoder.decoder_lin.0.bias\", \"decoder.decoder_lin.3.weight\", \"decoder.decoder_lin.3.bias\", \"decoder.decoder_lin.3.running_mean\", \"decoder.decoder_lin.3.running_var\", \"decoder.decoder_lin.4.weight\", \"decoder.decoder_lin.4.bias\", \"decoder.first_deconv.2.weight\", \"decoder.first_deconv.2.bias\", \"decoder.first_deconv.2.running_mean\", \"decoder.first_deconv.2.running_var\", \"decoder.first_deconv.3.weight\", \"decoder.first_deconv.3.bias\", \"decoder.second_deconv.2.weight\", \"decoder.second_deconv.2.bias\", \"decoder.second_deconv.2.running_mean\", \"decoder.second_deconv.2.running_var\", \"decoder.second_deconv.3.weight\", \"decoder.second_deconv.3.bias\". \n\tUnexpected key(s) in state_dict: \"first_conv.0.weight\", \"first_conv.0.bias\", \"first_conv.2.weight\", \"first_conv.2.bias\", \"first_conv.2.running_mean\", \"first_conv.2.running_var\", \"first_conv.2.num_batches_tracked\", \"second_conv.0.weight\", \"second_conv.0.bias\", \"second_conv.2.weight\", \"second_conv.2.bias\", \"second_conv.2.running_mean\", \"second_conv.2.running_var\", \"second_conv.2.num_batches_tracked\", \"encoder_lin.0.weight\", \"encoder_lin.0.bias\", \"encoder_lin.2.weight\", \"encoder_lin.2.bias\", \"encoder_lin.2.running_mean\", \"encoder_lin.2.running_var\", \"encoder_lin.2.num_batches_tracked\", \"encoder_lin.4.weight\", \"encoder_lin.4.bias\", \"decoder_lin.0.weight\", \"decoder_lin.0.bias\", \"decoder_lin.2.weight\", \"decoder_lin.2.bias\", \"decoder_lin.2.running_mean\", \"decoder_lin.2.running_var\", \"decoder_lin.2.num_batches_tracked\", \"decoder_lin.4.weight\", \"decoder_lin.4.bias\", \"first_deconv.1.weight\", \"first_deconv.1.bias\", \"first_deconv.1.running_mean\", \"first_deconv.1.running_var\", \"first_deconv.1.num_batches_tracked\", \"first_deconv.3.weight\", \"first_deconv.3.bias\", \"second_deconv.1.weight\", \"second_deconv.1.bias\", \"second_deconv.1.running_mean\", \"second_deconv.1.running_var\", \"second_deconv.1.num_batches_tracked\", \"second_deconv.3.weight\", \"second_deconv.3.bias\". "
     ]
    }
   ],
   "source": [
    "### Reload the network state\n",
    "# Load network parameters\n",
    "filename = \"AE_params.torch\"\n",
    "params_dict = torch.load(filename)\n",
    "\n",
    "\n",
    "### Initialize the two networks\n",
    "parameters = {\n",
    "    \"encoded_space_dim\" : 20,\n",
    "    \"act\" : nn.ReLU,\n",
    "    \"drop_p\" : 0.1\n",
    "}\n",
    "\n",
    "net = ConvAE(parameters)\n",
    "net.load_state_dict(params_dict)\n"
   ]
  },
  {
   "cell_type": "code",
   "execution_count": null,
   "id": "de8dff87",
   "metadata": {},
   "outputs": [],
   "source": [
    "print(net)"
   ]
  },
  {
   "cell_type": "code",
   "execution_count": null,
   "id": "8bb6664f",
   "metadata": {},
   "outputs": [],
   "source": [
    "# Disallow the update of all the layers by setting the 'requires_grad' parameter of the tensors to 'False'\n",
    "for param_name, param in net.named_parameters():\n",
    "    print(param_name)\n",
    "    print('\\tFreezing update')\n",
    "    param.requires_grad = False"
   ]
  },
  {
   "cell_type": "code",
   "execution_count": null,
   "id": "30ea9d2f",
   "metadata": {},
   "outputs": [],
   "source": [
    "# Change the last layer to match the new reduced problem    \n",
    "num_classes = 10\n",
    "net.encoder.encoder_lin[2] = torch.nn.Linear(128, num_classes)\n",
    "print(net)"
   ]
  },
  {
   "cell_type": "code",
   "execution_count": null,
   "id": "369d27f2",
   "metadata": {},
   "outputs": [],
   "source": [
    "# Allow the training of the last two layers (classifier[4] and classifier[6])\n",
    "for param in net.encoder.encoder_lin[0].parameters():\n",
    "    param.requires_grad = True \n",
    "for param in net.encoder.encoder_lin[2].parameters():\n",
    "    param.requires_grad = True \n",
    "\n",
    "# Check if correct\n",
    "for param_name, param in net.named_parameters():\n",
    "    print('%s \\t- requires_grad=%s' % (param_name, param.requires_grad))"
   ]
  },
  {
   "cell_type": "markdown",
   "id": "0a68d535",
   "metadata": {},
   "source": [
    "## Training"
   ]
  },
  {
   "cell_type": "code",
   "execution_count": null,
   "id": "a7946b26",
   "metadata": {},
   "outputs": [],
   "source": [
    "# Define the loss function\n",
    "loss_function = nn.CrossEntropyLoss()\n",
    "\n",
    "# Define the optimizers\n",
    "optimizer = optim.Adam(net.parameters(), lr = 0.001, weight_decay = 0.0)\n",
    "\n",
    "### Training epochs\n",
    "max_num_epochs = 20\n",
    "early_stopping = True\n",
    "train_loss_log, val_loss_log, accuracy = ft_train_epochs(net, device, train_dataloader, val_dataloader, test_dataloader, loss_function, optimizer, max_num_epochs, early_stopping)\n"
   ]
  },
  {
   "cell_type": "code",
   "execution_count": null,
   "id": "d47c6714",
   "metadata": {},
   "outputs": [],
   "source": [
    "### Plot losses\n",
    "fig = plt.figure(figsize=(12,8))\n",
    "ax1 = fig.add_subplot(121)\n",
    "ax1.semilogy(train_loss_log, label='Train loss')\n",
    "ax1.semilogy(val_loss_log, label='Validation loss')\n",
    "ax1.set_xlabel('Epoch')\n",
    "ax1.set_ylabel('Loss')\n",
    "ax1.grid()\n",
    "ax1.legend()\n",
    "\n",
    "ax2 = fig.add_subplot(122)\n",
    "ax2.plot(accuracy, label = \"Test accuracy\")\n",
    "ax2.set_xlabel(\"Epoch\")\n",
    "ax2.set_ylabel(\"Test accuracy (%)\")\n",
    "\n",
    "plt.tight_layout()\n",
    "plt.show()"
   ]
  },
  {
   "cell_type": "markdown",
   "id": "006f0026",
   "metadata": {},
   "source": [
    "# Denoising Autoencoder"
   ]
  },
  {
   "cell_type": "code",
   "execution_count": null,
   "id": "036500e5",
   "metadata": {},
   "outputs": [],
   "source": [
    "### Define the noising function\n",
    "\n",
    "class AddNoise(object):\n",
    "    \"\"\"\n",
    "    Add Gaussian noise with given standard deviation to Mnist images\n",
    "    \"\"\"\n",
    "    def __init__(self, std = 1.):\n",
    "        self.std = std\n",
    "        \n",
    "    def __call__(self, img):\n",
    "        return img+torch.randn_like(img)*self.std\n",
    "        "
   ]
  },
  {
   "cell_type": "code",
   "execution_count": null,
   "id": "24705a4c",
   "metadata": {},
   "outputs": [],
   "source": [
    "### Define noise function\n",
    "noise = AddNoise(std = 1.)"
   ]
  },
  {
   "cell_type": "code",
   "execution_count": null,
   "id": "45509b0f",
   "metadata": {},
   "outputs": [],
   "source": [
    "### Plot image and noised version\n",
    "\n",
    "img_indx = 12\n",
    "img = test_data[img_indx][0]\n",
    "\n",
    "noised_img = noise(img)\n",
    "\n",
    "\n",
    "# Plot the reconstructed image\n",
    "fig, axs = plt.subplots(1, 2, figsize=(12,6))\n",
    "axs[0].imshow(img.squeeze().numpy(), cmap='gist_gray')\n",
    "axs[0].set_title('Original image')\n",
    "axs[1].imshow(noised_img.squeeze().numpy(), cmap='gist_gray')\n",
    "axs[1].set_title('Noised image')\n",
    "plt.tight_layout()"
   ]
  },
  {
   "cell_type": "markdown",
   "id": "96ab95fe",
   "metadata": {},
   "source": [
    "## Define the Network"
   ]
  },
  {
   "cell_type": "code",
   "execution_count": null,
   "id": "3798271d",
   "metadata": {},
   "outputs": [],
   "source": [
    "# Check if the GPU is available\n",
    "device = torch.device(\"cuda\") if torch.cuda.is_available() else torch.device(\"cpu\")\n",
    "print(f\"Training device: {device}\")\n",
    "\n",
    "### Set the random seed for reproducible results\n",
    "torch.manual_seed(0)\n",
    "\n",
    "### Initialize the two networks\n",
    "encoded_space_dim = 20\n",
    "net = ConvAE(encoded_space_dim=encoded_space_dim)\n",
    "\n",
    "### Move to device\n",
    "net.to(device)"
   ]
  },
  {
   "cell_type": "markdown",
   "id": "8f1d0c38",
   "metadata": {},
   "source": [
    "## Training"
   ]
  },
  {
   "cell_type": "code",
   "execution_count": null,
   "id": "a18b7065",
   "metadata": {},
   "outputs": [],
   "source": [
    "# Define the loss function\n",
    "loss_function = nn.MSELoss()\n",
    "\n",
    "# Define the optimizers\n",
    "optimizer = optim.Adam(net.parameters(), lr = 0.001, weight_decay = 0.0)\n",
    "\n",
    "### Training loop with progress bar\n",
    "num_epochs = 20\n",
    "\n",
    "\n",
    "train_loss_log = []\n",
    "val_loss_log = []\n",
    "\n",
    "pbar = tqdm_notebook(range(num_epochs))\n",
    "\n",
    "for epoch_num in pbar:\n",
    "    \n",
    "    # Train an epoch and save losses\n",
    "    train_epoch_loss = train_epoch(net, device, train_dataloader, loss_function, optimizer_1, noise = noise)\n",
    "    # Validate an epoch\n",
    "    val_epoch_loss = val_epoch(net,  device, val_dataloader, loss_function, noise = noise)\n",
    "    # Compute averages over an epoch\n",
    "    mean_train_loss = np.mean(train_epoch_loss)\n",
    "    mean_val_loss = np.mean(val_epoch_loss)\n",
    "    # Append to plot\n",
    "    train_loss_log.append(mean_train_loss)\n",
    "    val_loss_log.append(mean_val_loss)\n",
    "    pbar.set_description(\"Train loss: %s\" %round(mean_train_loss,3)+\",\"+\"Validation loss %s\" %round(mean_val_loss,3))\n",
    "    \n",
    "    ### Plot progress\n",
    "    # Get the output of a specific image (the test image at index 0 in this case)\n",
    "    img = test_data[0][0].unsqueeze(0).to(device)\n",
    "    encoder.eval()\n",
    "    decoder.eval()\n",
    "    with torch.no_grad():\n",
    "        _, rec_img  = net(img)\n",
    "    # Plot the reconstructed image\n",
    "    fig, axs = plt.subplots(1, 2, figsize=(12,6))\n",
    "    axs[0].imshow(noise(img).cpu().squeeze().numpy(), cmap='gist_gray')\n",
    "    axs[0].set_title('Original noised image')\n",
    "    axs[1].imshow(rec_img.cpu().squeeze().numpy(), cmap='gist_gray')\n",
    "    axs[1].set_title('Reconstructed image (EPOCH %d)' % (epoch_num + 1))\n",
    "    plt.tight_layout()\n",
    "    plt.pause(0.1)\n",
    "    # Save figures\n",
    "    os.makedirs('denoising_autoencoder_progress_%d_features' % encoded_space_dim, exist_ok=True)\n",
    "    fig.savefig('denoising_autoencoder_progress_%d_features/epoch_%d.jpg' % (encoded_space_dim, epoch_num + 1))\n",
    "    plt.show()\n",
    "    plt.close()\n",
    "    \n",
    "    sleep(0.03)\n",
    "    pbar.update()"
   ]
  },
  {
   "cell_type": "code",
   "execution_count": null,
   "id": "333d7e4c",
   "metadata": {},
   "outputs": [],
   "source": [
    "# Plot losses\n",
    "plt.figure(figsize=(12,8))\n",
    "plt.semilogy(train_loss_log, label='Train loss')\n",
    "plt.semilogy(val_loss_log, label='Validation loss')\n",
    "plt.xlabel('Epoch')\n",
    "plt.ylabel('Loss')\n",
    "plt.grid()\n",
    "plt.legend()\n",
    "plt.show()"
   ]
  },
  {
   "cell_type": "markdown",
   "id": "a52daf9f",
   "metadata": {},
   "source": [
    "## Save and load the model"
   ]
  },
  {
   "cell_type": "code",
   "execution_count": null,
   "id": "152c0c1d",
   "metadata": {},
   "outputs": [],
   "source": [
    "### Save network parameters\n",
    "### Save the network state\n",
    "# Save network parameters\n",
    "filename = 'DenoisingAE_params.torch'\n",
    "\n",
    "torch.save(net.state_dict(), filename)"
   ]
  },
  {
   "cell_type": "code",
   "execution_count": null,
   "id": "ed432daa",
   "metadata": {},
   "outputs": [],
   "source": [
    "### Reload the network state\n",
    "# Load network parameters\n",
    "params_dict = torch.load(filename)\n",
    "\n",
    "net.load_state_dict(params_dict)"
   ]
  },
  {
   "cell_type": "markdown",
   "id": "7f3d22cb",
   "metadata": {},
   "source": [
    "## Network analysis"
   ]
  },
  {
   "cell_type": "code",
   "execution_count": null,
   "id": "25c76b68",
   "metadata": {},
   "outputs": [],
   "source": [
    "### Get the encoded representation of the test samples\n",
    "encoded_samples = []\n",
    "for sample in tqdm(test_data):\n",
    "    img = sample[0].unsqueeze(0).to(device)\n",
    "    label = sample[1]\n",
    "    # Encode image\n",
    "    encoder.eval()\n",
    "    with torch.no_grad():\n",
    "        encoded_img  = encoder(noise(img))\n",
    "    # Append to list\n",
    "    encoded_img = encoded_img.flatten().cpu().numpy()\n",
    "    encoded_sample = {f\"Enc. Variable {i}\": enc for i, enc in enumerate(encoded_img)}\n",
    "    encoded_sample['label'] = label\n",
    "    encoded_samples.append(encoded_sample)"
   ]
  },
  {
   "cell_type": "code",
   "execution_count": null,
   "id": "e8e02c9d",
   "metadata": {},
   "outputs": [],
   "source": [
    "# Convert to a dataframe\n",
    "encoded_samples = pd.DataFrame(encoded_samples)\n",
    "encoded_samples\n",
    "\n",
    "# Scatter plot\n",
    "px.scatter(encoded_samples, x='Enc. Variable 0', y='Enc. Variable 1', color=encoded_samples.label.astype(str), opacity=0.7)"
   ]
  },
  {
   "cell_type": "code",
   "execution_count": null,
   "id": "5fc9f6e7",
   "metadata": {},
   "outputs": [],
   "source": [
    "# Reconstruct images\n",
    "# Get the output of a specific image (the test image at index 0 in this case)\n",
    "img_indx =10\n",
    "img = test_data[img_indx][0].unsqueeze(0).to(device)\n",
    "label = test_data[img_indx][1]\n",
    "encoder.eval()\n",
    "decoder.eval()\n",
    "with torch.no_grad():\n",
    "    rec_img  = decoder(encoder(noise(img)))\n",
    "    \n",
    "# Plot the reconstructed image\n",
    "fig, axs = plt.subplots(3, 2, figsize=(18,9))\n",
    "axs[0,0].imshow(img.cpu().squeeze().numpy(), cmap='gist_gray')\n",
    "axs[0,0].set_title('Original image: label %d' %label)\n",
    "axs[0,1].imshow(rec_img.cpu().squeeze().numpy(), cmap='gist_gray')\n",
    "axs[0,1].set_title('Reconstructed image')\n",
    "plt.tight_layout()\n"
   ]
  },
  {
   "cell_type": "code",
   "execution_count": null,
   "id": "4cc3ff31",
   "metadata": {},
   "outputs": [],
   "source": []
  }
 ],
 "metadata": {
  "kernelspec": {
   "display_name": "Python 3",
   "language": "python",
   "name": "python3"
  },
  "language_info": {
   "codemirror_mode": {
    "name": "ipython",
    "version": 3
   },
   "file_extension": ".py",
   "mimetype": "text/x-python",
   "name": "python",
   "nbconvert_exporter": "python",
   "pygments_lexer": "ipython3",
   "version": "3.8.8"
  }
 },
 "nbformat": 4,
 "nbformat_minor": 5
}
